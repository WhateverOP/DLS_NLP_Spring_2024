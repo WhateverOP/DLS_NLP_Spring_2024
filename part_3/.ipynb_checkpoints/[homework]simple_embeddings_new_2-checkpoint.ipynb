{
 "cells": [
  {
   "cell_type": "markdown",
   "metadata": {
    "id": "Ot3c4fjZwC4T"
   },
   "source": [
    "<img src=\"https://s8.hostingkartinok.com/uploads/images/2018/08/308b49fcfbc619d629fe4604bceb67ac.jpg\" width=500, height=450>\n",
    "<h3 style=\"text-align: center;\"><b>Физтех-Школа Прикладной математики и информатики (ФПМИ) МФТИ</b></h3>"
   ]
  },
  {
   "cell_type": "markdown",
   "metadata": {
    "id": "P2JdzEXmwRU5"
   },
   "source": [
    "---"
   ]
  },
  {
   "cell_type": "markdown",
   "metadata": {
    "id": "Fc8iHXIVwDwj"
   },
   "source": [
    "***Some parts of the notebook are almost the copy of [ mmta-team course](https://github.com/mmta-team/mmta_fall_2020). Special thanks to mmta-team for making them publicly available. [Original notebook](https://github.com/mmta-team/mmta_fall_2020/blob/master/tasks/01_word_embeddings/task_word_embeddings.ipynb).***"
   ]
  },
  {
   "cell_type": "markdown",
   "metadata": {
    "id": "7D0wm5jt6j0U"
   },
   "source": [
    "<b> Прочитайте семинар, пожалуйста, для успешного выполнения домашнего задания. В конце ноутка напишите свой вывод. Работа без вывода оценивается ниже."
   ]
  },
  {
   "cell_type": "markdown",
   "metadata": {
    "id": "BIWqBuEa6j0b"
   },
   "source": [
    "## Задача поиска схожих по смыслу предложений"
   ]
  },
  {
   "cell_type": "markdown",
   "metadata": {
    "id": "NUkwMPLA6j0g"
   },
   "source": [
    "Мы будем ранжировать вопросы [StackOverflow](https://stackoverflow.com) на основе семантического векторного представления "
   ]
  },
  {
   "cell_type": "markdown",
   "metadata": {
    "id": "dNRXIEfu5a3Q"
   },
   "source": [
    "До этого в курсе не было речи про задачу ранжировния, поэтому введем математическую формулировку"
   ]
  },
  {
   "cell_type": "markdown",
   "metadata": {
    "id": "uS9FwWNd5a3S"
   },
   "source": [
    "## Задача ранжирования(Learning to Rank)"
   ]
  },
  {
   "cell_type": "markdown",
   "metadata": {
    "id": "wdwY9-f75a3T"
   },
   "source": [
    "* $X$ - множество объектов\n",
    "* $X^l = \\{x_1, x_2, ..., x_l\\}$ - обучающая выборка\n",
    "<br>На обучающей выборке задан порядок между некоторыми элементами, то есть нам известно, что некий объект выборки более релевантный для нас, чем другой:\n",
    "* $i \\prec j$ - порядок пары индексов объектов на выборке $X^l$ c индексами $i$ и $j$\n",
    "### Задача:\n",
    "построить ранжирующую функцию $a$ : $X \\rightarrow R$ такую, что\n",
    "$$i \\prec j \\Rightarrow a(x_i) < a(x_j)$$"
   ]
  },
  {
   "cell_type": "markdown",
   "metadata": {
    "id": "WG2IGBsh5a3U"
   },
   "source": [
    "<img src=\"https://d25skit2l41vkl.cloudfront.net/wp-content/uploads/2016/12/Featured-Image.jpg\" width=500, height=450>"
   ]
  },
  {
   "cell_type": "markdown",
   "metadata": {
    "id": "MQk_rolFwT_h"
   },
   "source": [
    "### Embeddings"
   ]
  },
  {
   "cell_type": "markdown",
   "metadata": {
    "id": "xUe1PGXn6j0l"
   },
   "source": [
    "Будем использовать предобученные векторные представления слов на постах Stack Overflow.<br>\n",
    "[A word2vec model trained on Stack Overflow posts](https://github.com/vefstathiou/SO_word2vec)"
   ]
  },
  {
   "cell_type": "code",
   "execution_count": 1,
   "metadata": {
    "id": "mYkI54Y-rk7a"
   },
   "outputs": [],
   "source": [
    "# !wget https://zenodo.org/record/1199620/files/SO_vectors_200.bin?download=1"
   ]
  },
  {
   "cell_type": "code",
   "execution_count": 2,
   "metadata": {
    "id": "O8YJTOYv6j0s"
   },
   "outputs": [],
   "source": [
    "from gensim.models.keyedvectors import KeyedVectors\n",
    "wv_embeddings = KeyedVectors.load_word2vec_format(\"SO_vectors_200.bin?download=1\", binary=True)"
   ]
  },
  {
   "cell_type": "markdown",
   "metadata": {
    "id": "aIcT_g-C6j1E"
   },
   "source": [
    "#### Как пользоваться этими векторами?"
   ]
  },
  {
   "cell_type": "markdown",
   "metadata": {
    "id": "DWO5SPDY6j1G"
   },
   "source": [
    "Посмотрим на примере одного слова, что из себя представляет embedding"
   ]
  },
  {
   "cell_type": "code",
   "execution_count": 3,
   "metadata": {
    "id": "KeSBlQfk6j1J"
   },
   "outputs": [
    {
     "name": "stdout",
     "output_type": "stream",
     "text": [
      "float32 (200,)\n"
     ]
    }
   ],
   "source": [
    "word = 'dog'\n",
    "if word in wv_embeddings:\n",
    "    print(wv_embeddings[word].dtype, wv_embeddings[word].shape)"
   ]
  },
  {
   "cell_type": "code",
   "execution_count": 4,
   "metadata": {
    "id": "T4Eq-D1qxpMJ"
   },
   "outputs": [
    {
     "name": "stdout",
     "output_type": "stream",
     "text": [
      "Num of words: 1787145\n"
     ]
    }
   ],
   "source": [
    "print(f\"Num of words: {len(wv_embeddings.index_to_key)}\")"
   ]
  },
  {
   "cell_type": "code",
   "execution_count": 5,
   "metadata": {},
   "outputs": [
    {
     "data": {
      "text/plain": [
       "[('animal', 0.8564180135726929),\n",
       " ('dogs', 0.7880866527557373),\n",
       " ('mammal', 0.7623804211616516),\n",
       " ('cats', 0.7621253728866577),\n",
       " ('animals', 0.760793924331665),\n",
       " ('feline', 0.7392398715019226),\n",
       " ('bird', 0.7315488457679749),\n",
       " ('animal1', 0.7219215631484985),\n",
       " ('doggy', 0.7213349342346191),\n",
       " ('labrador', 0.7209131717681885)]"
      ]
     },
     "execution_count": 5,
     "metadata": {},
     "output_type": "execute_result"
    }
   ],
   "source": [
    "wv_embeddings.most_similar('dog')"
   ]
  },
  {
   "cell_type": "markdown",
   "metadata": {
    "id": "ZT6NTCys6j1Q"
   },
   "source": [
    "Найдем наиболее близкие слова к слову `dog`:"
   ]
  },
  {
   "cell_type": "markdown",
   "metadata": {
    "id": "n08z2PjMwC5o"
   },
   "source": [
    "#### Вопрос 1:\n",
    "* Входит ли слов `cat` топ-5 близких слов к слову `dog`? Какое место? "
   ]
  },
  {
   "cell_type": "code",
   "execution_count": 6,
   "metadata": {
    "id": "nYwVz0xG6j1U"
   },
   "outputs": [
    {
     "data": {
      "text/plain": [
       "[('animal', 0.8564180135726929),\n",
       " ('dogs', 0.7880866527557373),\n",
       " ('mammal', 0.7623804211616516),\n",
       " ('cats', 0.7621253728866577),\n",
       " ('animals', 0.760793924331665)]"
      ]
     },
     "execution_count": 6,
     "metadata": {},
     "output_type": "execute_result"
    }
   ],
   "source": [
    "# method most_simmilar\n",
    "'''your code'''\n",
    "wv_embeddings.most_similar('dog')[0:5]"
   ]
  },
  {
   "cell_type": "markdown",
   "metadata": {},
   "source": [
    "# Ответ: да, входит."
   ]
  },
  {
   "cell_type": "markdown",
   "metadata": {
    "id": "ai48-5vv6j1d"
   },
   "source": [
    "### Векторные представления текста\n",
    "\n",
    "Перейдем от векторных представлений отдельных слов к векторным представлениям вопросов, как к **среднему** векторов всех слов в вопросе. Если для какого-то слова нет предобученного вектора, то его нужно пропустить. Если вопрос не содержит ни одного известного слова, то нужно вернуть нулевой вектор."
   ]
  },
  {
   "cell_type": "code",
   "execution_count": 7,
   "metadata": {
    "id": "EhNuxBJd6j1f"
   },
   "outputs": [],
   "source": [
    "from nltk.tokenize import WordPunctTokenizer, RegexpTokenizer\n",
    "from nltk.corpus import stopwords\n",
    "from nltk.stem import PorterStemmer, SnowballStemmer\n",
    "import string\n",
    "\n",
    "import numpy as np\n",
    "import re\n",
    "# you can use your tokenizer\n",
    "# for example, from nltk.tokenize import WordPunctTokenizer\n",
    "class MyTokenizer:\n",
    "    def __init__(self, ext_tokenizer, ext_stopwords, ext_stemmer):\n",
    "        self.tokenizer = ext_tokenizer\n",
    "        self.stopwords = ext_stopwords\n",
    "        self.stemmer = ext_stemmer\n",
    "    def tokenize(self, text):\n",
    "        text_no_sw = [word for word in text.lower().split(' ') if word not in self.stopwords]\n",
    "        tokens = self.tokenizer.tokenize(' '.join(text_no_sw))\n",
    "        tokens_stemmed = list(map(self.stemmer.stem, tokens))\n",
    "        tokens_stemmed_no_punct = [token.lower() for token in tokens_stemmed if token not in string.punctuation]\n",
    "        return tokens_stemmed_no_punct"
   ]
  },
  {
   "cell_type": "code",
   "execution_count": 8,
   "metadata": {},
   "outputs": [],
   "source": [
    "tk = WordPunctTokenizer()\n",
    "sw = set(stopwords.words('english'))\n",
    "st = PorterStemmer()\n",
    "MyTokenizer_obj = MyTokenizer(tk, sw, st)"
   ]
  },
  {
   "cell_type": "code",
   "execution_count": 9,
   "metadata": {
    "id": "YHcvu6186j1m"
   },
   "outputs": [],
   "source": [
    "def question_to_vec(question, embeddings, tokenizer, dim=200):\n",
    "    \"\"\"\n",
    "        question: строка\n",
    "        embeddings: наше векторное представление\n",
    "        dim: размер любого вектора в нашем представлении\n",
    "        \n",
    "        return: векторное представление для вопроса\n",
    "    \"\"\"\n",
    "    \n",
    "    question_tokens = tokenizer.tokenize(question)\n",
    "    question_vector = []\n",
    "    for token in question_tokens:\n",
    "        if token in embeddings:\n",
    "            question_vector.append(embeddings[token])\n",
    "\n",
    "    if len(question_vector) > 0:\n",
    "        return np.mean(question_vector, axis=0)\n",
    "    return np.zeros(dim)"
   ]
  },
  {
   "cell_type": "markdown",
   "metadata": {
    "id": "u5Q_4j7r6j1u"
   },
   "source": [
    "Теперь у нас есть метод для создания векторного представления любого предложения."
   ]
  },
  {
   "cell_type": "markdown",
   "metadata": {
    "id": "EsJSNkhm6j1y"
   },
   "source": [
    "#### Вопрос 2:\n",
    "* Какая третья(с индексом 2) компонента вектора предложения `I love neural networks` (округлите до 2 знаков после запятой)?"
   ]
  },
  {
   "cell_type": "code",
   "execution_count": 10,
   "metadata": {
    "id": "a62r11cT6j10"
   },
   "outputs": [
    {
     "name": "stdout",
     "output_type": "stream",
     "text": [
      "-1.41\n"
     ]
    }
   ],
   "source": [
    "'''your code'''\n",
    "q_ex_mean_vec3 = question_to_vec('I love neural networks', wv_embeddings, MyTokenizer_obj)\n",
    "print(np.around(q_ex_mean_vec3[2],2))"
   ]
  },
  {
   "cell_type": "markdown",
   "metadata": {},
   "source": [
    "# Ответ: -1.41"
   ]
  },
  {
   "cell_type": "markdown",
   "metadata": {
    "id": "Y60z4t6W6j16"
   },
   "source": [
    "### Оценка близости текстов\n",
    "\n",
    "Представим, что мы используем идеальные векторные представления слов. Тогда косинусное расстояние между дублирующими предложениями должно быть меньше, чем между случайно взятыми предложениями. \n",
    "\n",
    "Сгенерируем для каждого из $N$ вопросов $R$ случайных отрицательных примеров и примешаем к ним также настоящие дубликаты. Для каждого вопроса будем ранжировать с помощью нашей модели $R + 1$ примеров и смотреть на позицию дубликата. Мы хотим, чтобы дубликат был первым в ранжированном списке.\n",
    "\n",
    "#### Hits@K\n",
    "Первой простой метрикой будет количество корректных попаданий для какого-то $K$:\n",
    "$$ \\text{Hits@K} = \\frac{1}{N}\\sum_{i=1}^N \\, [rank\\_q_i^{'} \\le K],$$\n",
    "* $\\begin{equation*}\n",
    "[x < 0 ] \\equiv \n",
    " \\begin{cases}\n",
    "   1, &x < 0\\\\\n",
    "   0, &x \\geq 0\n",
    " \\end{cases}\n",
    "\\end{equation*}$ - индикаторная функция\n",
    "* $q_i$ - $i$-ый вопрос\n",
    "* $q_i^{'}$ - его дубликат\n",
    "* $rank\\_q_i^{'}$ - позиция дубликата в ранжированном списке ближайших предложений для вопроса $q_i$.\n",
    "\n",
    "#### DCG@K\n",
    "Второй метрикой будет упрощенная DCG метрика, учитывающая порядок элементов в списке путем домножения релевантности элемента на вес равный обратному логарифму номера позиции::\n",
    "$$ \\text{DCG@K} = \\frac{1}{N} \\sum_{i=1}^N\\frac{1}{\\log_2(1+rank\\_q_i^{'})}\\cdot[rank\\_q_i^{'} \\le K],$$\n",
    "С такой метрикой модель штрафуется за большой ранк корректного ответа"
   ]
  },
  {
   "cell_type": "markdown",
   "metadata": {
    "id": "eHCnH-jw6j18"
   },
   "source": [
    "#### Вопрос 3:\n",
    "* Максимум `Hits@47 - DCG@1`?"
   ]
  },
  {
   "cell_type": "markdown",
   "metadata": {},
   "source": [
    "# Ответ: 1\n",
    "## Максимум Hits@47 = 1 (для ранков от 1 до 46 включительно)\n",
    "## Минимум DCG@1 = 0 (для ранков от 2 до бесконечности)"
   ]
  },
  {
   "cell_type": "markdown",
   "metadata": {
    "id": "_tFemBkP6j1-"
   },
   "source": [
    "<img src='https://hsto.org/files/1c5/edf/dee/1c5edfdeebce4b71a86bdf986d9f88f2.jpg' width=400, height=200>"
   ]
  },
  {
   "cell_type": "markdown",
   "metadata": {
    "id": "0sUSxk866j1_"
   },
   "source": [
    "#### Пример оценок\n",
    "\n",
    "Вычислим описанные выше метрики для игрушечного примера. \n",
    "Пусть\n",
    "* $N = 1$, $R = 3$\n",
    "* <font color='green'>\"Что такое python?\"</font> - вопрос $q_1$\n",
    "* <font color='red'>\"Что такое язык python?\"</font> - его дубликат $q_i^{'}$\n",
    "\n",
    "Пусть модель выдала следующий ранжированный список кандидатов:\n",
    "\n",
    "1. \"Как изучить с++?\"\n",
    "2. <font color='red'>\"Что такое язык python?\"</font>\n",
    "3. \"Хочу учить Java\"\n",
    "4. \"Не понимаю Tensorflow\"\n",
    "\n",
    "$\\Rightarrow rank\\_q_i^{'} = 2$\n",
    "\n",
    "Вычислим метрику *Hits@K* для *K = 1, 4*:\n",
    "\n",
    "- [K = 1] $\\text{Hits@1} =  [rank\\_q_i^{'} \\le 1)] = 0$\n",
    "- [K = 4] $\\text{Hits@4} =  [rank\\_q_i^{'} \\le 4] = 1$\n",
    "\n",
    "Вычислим метрику *DCG@K* для *K = 1, 4*:\n",
    "- [K = 1] $\\text{DCG@1} = \\frac{1}{\\log_2(1+2)}\\cdot[2 \\le 1] = 0$\n",
    "- [K = 4] $\\text{DCG@4} = \\frac{1}{\\log_2(1+2)}\\cdot[2 \\le 4] = \\frac{1}{\\log_2{3}}$"
   ]
  },
  {
   "cell_type": "code",
   "execution_count": 11,
   "metadata": {},
   "outputs": [],
   "source": [
    "def calc_Hits_K(rank, K):\n",
    "    return int(rank <= K)\n",
    "\n",
    "def calc_DCG_K(rank, K):\n",
    "    return int(rank <= K)/(np.log(1 + rank)/np.log(2))"
   ]
  },
  {
   "cell_type": "markdown",
   "metadata": {
    "id": "B4L6HJJC6j2B"
   },
   "source": [
    "#### Вопрос 4:\n",
    "* Вычислите `DCG@10`, если $rank\\_q_i^{'} = 9$(округлите до одного знака после запятой)"
   ]
  },
  {
   "cell_type": "code",
   "execution_count": 14,
   "metadata": {},
   "outputs": [
    {
     "data": {
      "text/plain": [
       "0.3"
      ]
     },
     "execution_count": 14,
     "metadata": {},
     "output_type": "execute_result"
    }
   ],
   "source": [
    "np.around(calc_DCG_K(9, 10),1)"
   ]
  },
  {
   "cell_type": "markdown",
   "metadata": {},
   "source": [
    "# Ответ: 0.3"
   ]
  },
  {
   "cell_type": "markdown",
   "metadata": {
    "id": "J5xWOORI6j2F"
   },
   "source": [
    "### HITS\\_COUNT и DCG\\_SCORE"
   ]
  },
  {
   "cell_type": "markdown",
   "metadata": {
    "id": "I1q9WQOx6j2H"
   },
   "source": [
    "Каждая функция имеет два аргумента: $dup\\_ranks$ и $k$. $dup\\_ranks$ является списком, который содержит рейтинги дубликатов(их позиции в ранжированном списке). Например, $dup\\_ranks = [2]$ для примера, описанного выше."
   ]
  },
  {
   "cell_type": "code",
   "execution_count": 15,
   "metadata": {
    "id": "F5VwySUB6j2J"
   },
   "outputs": [],
   "source": [
    "def hits_count(dup_ranks, k):\n",
    "    \"\"\"\n",
    "        dup_ranks: list индексов дубликатов\n",
    "        result: вернуть  Hits@k\n",
    "    \"\"\"\n",
    "    hits_value = []\n",
    "    for rank in dup_ranks:\n",
    "        hits_value.append(int(rank <= k))\n",
    "    return np.mean(hits_value)"
   ]
  },
  {
   "cell_type": "code",
   "execution_count": 16,
   "metadata": {
    "id": "82hQaxCH6j2R"
   },
   "outputs": [],
   "source": [
    "def dcg_score(dup_ranks, k):\n",
    "    \"\"\"\n",
    "        dup_ranks: list индексов дубликатов\n",
    "        result: вернуть DCG@k\n",
    "    \"\"\"\n",
    "    dcg_value = []\n",
    "    for rank in dup_ranks:\n",
    "        dcg_value.append(int(rank <= k)/(np.log(1 + rank)/np.log(2)))\n",
    "    return np.mean(dcg_value)"
   ]
  },
  {
   "cell_type": "markdown",
   "metadata": {
    "id": "PcwHeXN26j2Y"
   },
   "source": [
    "Протестируем функции. Пусть $N = 1$, то есть один эксперимент. Будем искать копию вопроса и оценивать метрики."
   ]
  },
  {
   "cell_type": "code",
   "execution_count": 17,
   "metadata": {
    "id": "fjISmOEW6j2h"
   },
   "outputs": [],
   "source": [
    "import pandas as pd"
   ]
  },
  {
   "cell_type": "code",
   "execution_count": 18,
   "metadata": {
    "id": "gLa_Wqfh6j2m"
   },
   "outputs": [
    {
     "name": "stdout",
     "output_type": "stream",
     "text": [
      "Ваш ответ HIT: [0.0, 1.0, 1.0, 1.0]\n",
      "Ваш ответ DCG: [0.0, 0.63093, 0.63093, 0.63093]\n"
     ]
    }
   ],
   "source": [
    "copy_answers = [\"How does the catch keyword determine the type of exception that was thrown\",]\n",
    "\n",
    "# наги кандидаты\n",
    "candidates_ranking = [[\"How Can I Make These Links Rotate in PHP\",\n",
    "                       \"How does the catch keyword determine the type of exception that was thrown\",\n",
    "                       \"NSLog array description not memory address\",\n",
    "                       \"PECL_HTTP not recognised php ubuntu\"],]\n",
    "# dup_ranks — позиции наших копий, так как эксперимент один, то этот массив длины 1\n",
    "dup_ranks = [2]\n",
    "\n",
    "# вычисляем метрику для разных k\n",
    "print('Ваш ответ HIT:', [hits_count(dup_ranks, k) for k in range(1, 5)])\n",
    "print('Ваш ответ DCG:', [round(dcg_score(dup_ranks, k), 5) for k in range(1, 5)])"
   ]
  },
  {
   "cell_type": "markdown",
   "metadata": {
    "id": "MoHC3YoQ6j2t"
   },
   "source": [
    "У вас должно получиться"
   ]
  },
  {
   "cell_type": "code",
   "execution_count": 19,
   "metadata": {
    "id": "B0NFWq4f6j2u",
    "scrolled": true
   },
   "outputs": [
    {
     "data": {
      "text/html": [
       "<div>\n",
       "<style scoped>\n",
       "    .dataframe tbody tr th:only-of-type {\n",
       "        vertical-align: middle;\n",
       "    }\n",
       "\n",
       "    .dataframe tbody tr th {\n",
       "        vertical-align: top;\n",
       "    }\n",
       "\n",
       "    .dataframe thead th {\n",
       "        text-align: right;\n",
       "    }\n",
       "</style>\n",
       "<table border=\"1\" class=\"dataframe\">\n",
       "  <thead>\n",
       "    <tr style=\"text-align: right;\">\n",
       "      <th></th>\n",
       "      <th>1</th>\n",
       "      <th>2</th>\n",
       "      <th>3</th>\n",
       "      <th>4</th>\n",
       "    </tr>\n",
       "  </thead>\n",
       "  <tbody>\n",
       "    <tr>\n",
       "      <th>HITS</th>\n",
       "      <td>0</td>\n",
       "      <td>1.00000</td>\n",
       "      <td>1.00000</td>\n",
       "      <td>1.00000</td>\n",
       "    </tr>\n",
       "    <tr>\n",
       "      <th>DCG</th>\n",
       "      <td>0</td>\n",
       "      <td>0.63093</td>\n",
       "      <td>0.63093</td>\n",
       "      <td>0.63093</td>\n",
       "    </tr>\n",
       "  </tbody>\n",
       "</table>\n",
       "</div>"
      ],
      "text/plain": [
       "      1        2        3        4\n",
       "HITS  0  1.00000  1.00000  1.00000\n",
       "DCG   0  0.63093  0.63093  0.63093"
      ]
     },
     "execution_count": 19,
     "metadata": {},
     "output_type": "execute_result"
    }
   ],
   "source": [
    "# correct_answers - метрика для разных k\n",
    "correct_answers = pd.DataFrame([[0, 1, 1, 1], [0, 1 / (np.log2(3)), 1 / (np.log2(3)), 1 / (np.log2(3))]],\n",
    "                               index=['HITS', 'DCG'], columns=range(1,5))\n",
    "correct_answers"
   ]
  },
  {
   "cell_type": "markdown",
   "metadata": {
    "id": "tHZqgDTo6j0i"
   },
   "source": [
    "### Данные\n",
    "[arxiv link](https://drive.google.com/file/d/1QqT4D0EoqJTy7v9VrNCYD-m964XZFR7_/edit)\n",
    "\n",
    "`train.tsv` - выборка для обучения.<br> В каждой строке через табуляцию записаны: **<вопрос>, <похожий вопрос>**\n",
    "\n",
    "`validation.tsv` - тестовая выборка.<br> В каждой строке через табуляцию записаны: **<вопрос>, <похожий вопрос>, <отрицательный пример 1>, <отрицательный пример 2>, ...**"
   ]
  },
  {
   "cell_type": "code",
   "execution_count": 20,
   "metadata": {
    "colab": {
     "base_uri": "https://localhost:8080/"
    },
    "executionInfo": {
     "elapsed": 28,
     "status": "ok",
     "timestamp": 1628256058346,
     "user": {
      "displayName": "Deep Learning School",
      "photoUrl": "https://lh3.googleusercontent.com/a-/AOh14GhNf0RkP5WvkU5MixKfC1Sv3mb-9QWgAbC6VcfQvA=s64",
      "userId": "16549096980415837553"
     },
     "user_tz": -180
    },
    "id": "jKVK2lDGvrIe",
    "outputId": "51944c9b-d6e8-41af-bec4-bb35fba5d51b"
   },
   "outputs": [],
   "source": [
    "# !unzip stackoverflow_similar_questions.zip"
   ]
  },
  {
   "cell_type": "markdown",
   "metadata": {
    "id": "hil2UsUG6j22"
   },
   "source": [
    "Считайте данные."
   ]
  },
  {
   "cell_type": "code",
   "execution_count": 21,
   "metadata": {
    "id": "B4EBho8s6j26"
   },
   "outputs": [],
   "source": [
    "def read_corpus(filename):\n",
    "    data = []\n",
    "    for line in open(filename, encoding='utf-8'):\n",
    "        '''your code'''\n",
    "        # data.extend(line.split('\\t'))\n",
    "        data.append(line.strip().split('\\t'))\n",
    "    return data"
   ]
  },
  {
   "cell_type": "markdown",
   "metadata": {
    "id": "kkTxY3Mk9_nG"
   },
   "source": [
    "Нам понадобиться только файл validation."
   ]
  },
  {
   "cell_type": "code",
   "execution_count": 22,
   "metadata": {
    "colab": {
     "base_uri": "https://localhost:8080/",
     "height": 274
    },
    "executionInfo": {
     "elapsed": 21,
     "status": "error",
     "timestamp": 1628256058355,
     "user": {
      "displayName": "Deep Learning School",
      "photoUrl": "https://lh3.googleusercontent.com/a-/AOh14GhNf0RkP5WvkU5MixKfC1Sv3mb-9QWgAbC6VcfQvA=s64",
      "userId": "16549096980415837553"
     },
     "user_tz": -180
    },
    "id": "PTVB9Tnp6j29",
    "outputId": "9c55c802-3d82-471d-eab2-195dabf5026c"
   },
   "outputs": [],
   "source": [
    "validation_data = read_corpus('./data/validation.tsv')"
   ]
  },
  {
   "cell_type": "markdown",
   "metadata": {
    "id": "bTHfL-9y6j3F"
   },
   "source": [
    "Кол-во строк"
   ]
  },
  {
   "cell_type": "code",
   "execution_count": 23,
   "metadata": {
    "id": "z6ubXhIe6j3H"
   },
   "outputs": [
    {
     "data": {
      "text/plain": [
       "3760"
      ]
     },
     "execution_count": 23,
     "metadata": {},
     "output_type": "execute_result"
    }
   ],
   "source": [
    "len(validation_data)"
   ]
  },
  {
   "cell_type": "markdown",
   "metadata": {
    "id": "kaOQblBy6j3M"
   },
   "source": [
    "Размер нескольких первых строк"
   ]
  },
  {
   "cell_type": "code",
   "execution_count": 24,
   "metadata": {
    "id": "yRx6e-Pe6j3M"
   },
   "outputs": [
    {
     "name": "stdout",
     "output_type": "stream",
     "text": [
      "1 1001\n",
      "2 1001\n",
      "3 1001\n",
      "4 1001\n",
      "5 1001\n"
     ]
    }
   ],
   "source": [
    "for i in range(5):\n",
    "    print(i + 1, len(validation_data[i]))"
   ]
  },
  {
   "cell_type": "markdown",
   "metadata": {
    "id": "ySQQp0oQt1Ep"
   },
   "source": [
    "### Ранжирование без обучения"
   ]
  },
  {
   "cell_type": "markdown",
   "metadata": {
    "id": "iElEDhj-6j3R"
   },
   "source": [
    "Реализуйте функцию ранжирования кандидатов на основе косинусного расстояния. Функция должна по списку кандидатов вернуть отсортированный список пар (позиция в исходном списке кандидатов, кандидат). При этом позиция кандидата в полученном списке является его рейтингом (первый - лучший). Например, если исходный список кандидатов был [a, b, c], и самый похожий на исходный вопрос среди них - c, затем a, и в конце b, то функция должна вернуть список **[(2, c), (0, a), (1, b)]**."
   ]
  },
  {
   "cell_type": "code",
   "execution_count": 25,
   "metadata": {
    "id": "K02JARKr6j3T"
   },
   "outputs": [],
   "source": [
    "from sklearn.metrics.pairwise import cosine_similarity\n",
    "from copy import deepcopy"
   ]
  },
  {
   "cell_type": "code",
   "execution_count": 34,
   "metadata": {
    "id": "1yP8wJWj6j3X"
   },
   "outputs": [],
   "source": [
    "def rank_candidates(question, candidates, embeddings, tokenizer, dim=200):\n",
    "    \"\"\"\n",
    "        question: строка\n",
    "        candidates: массив строк(кандидатов) [a, b, c]\n",
    "        result: пары (начальная позиция, кандидат) [(2, c), (0, a), (1, b)]\n",
    "    \"\"\"\n",
    "    '''your code'''\n",
    "    question_tokens = tokenizer.tokenize(question)\n",
    "    question_vec = question_to_vec(question, embeddings, tokenizer)\n",
    "\n",
    "    cos_sim_cand = []\n",
    "    for cand in candidates:\n",
    "        cand_tokens = tokenizer.tokenize(cand)\n",
    "        cand_vec = question_to_vec(cand, embeddings, tokenizer)\n",
    "        cos_sim = cosine_similarity(question_vec.reshape(1, -1), cand_vec.reshape(1, -1))[0][0]\n",
    "        cos_sim_cand.append([cos_sim, cand])\n",
    "\n",
    "    cos_sim_cand = np.array(cos_sim_cand)\n",
    "    cos_sim_cand_sorted = cos_sim_cand[cos_sim_cand[:, 0].argsort()][::-1]\n",
    "\n",
    "    init_pos_cand = []\n",
    "    for i in range(0,len(cos_sim_cand_sorted)):\n",
    "        init_pos = candidates.index(cos_sim_cand_sorted[i][1])\n",
    "        init_pos_cand.append([init_pos, cos_sim_cand_sorted[i][1]])\n",
    "\n",
    "    return init_pos_cand"
   ]
  },
  {
   "cell_type": "markdown",
   "metadata": {
    "id": "TnBszTb76j3c"
   },
   "source": [
    "Протестируйте работу функции на примерах ниже. Пусть $N=2$, то есть два эксперимента"
   ]
  },
  {
   "cell_type": "code",
   "execution_count": 35,
   "metadata": {
    "id": "xvQgtP176j3h"
   },
   "outputs": [],
   "source": [
    "questions = ['converting string to list', 'Sending array via Ajax fails'] \n",
    "\n",
    "candidates = [['Convert Google results object (pure js) to Python object', # первый эксперимент\n",
    "               'C# create cookie from string and send it',\n",
    "               'How to use jQuery AJAX for an outside domain?'],\n",
    "              \n",
    "              ['Getting all list items of an unordered list in PHP',      # второй эксперимент\n",
    "               'WPF- How to update the changes in list item of a list',\n",
    "               'select2 not displaying search results']]"
   ]
  },
  {
   "cell_type": "code",
   "execution_count": 36,
   "metadata": {
    "id": "bPj1JGFi6j3m"
   },
   "outputs": [],
   "source": [
    "ranks_list = []\n",
    "for question, q_candidates in zip(questions, candidates):\n",
    "    ranks = rank_candidates(question, q_candidates, wv_embeddings, MyTokenizer_obj)\n",
    "    ranks_list.append(ranks)"
   ]
  },
  {
   "cell_type": "markdown",
   "metadata": {
    "id": "jm4cidj56j3q"
   },
   "source": [
    "Для первого экперимента вы можете полностью сравнить ваши ответы и правильные ответы. Но для второго эксперимента два ответа на кандидаты будут <b>скрыты</b>(*)"
   ]
  },
  {
   "cell_type": "code",
   "execution_count": 37,
   "metadata": {},
   "outputs": [
    {
     "data": {
      "text/plain": [
       "[[[1, 'C# create cookie from string and send it'],\n",
       "  [0, 'Convert Google results object (pure js) to Python object'],\n",
       "  [2, 'How to use jQuery AJAX for an outside domain?']],\n",
       " [[0, 'Getting all list items of an unordered list in PHP'],\n",
       "  [2, 'select2 not displaying search results'],\n",
       "  [1, 'WPF- How to update the changes in list item of a list']]]"
      ]
     },
     "execution_count": 37,
     "metadata": {},
     "output_type": "execute_result"
    }
   ],
   "source": [
    "ranks_list"
   ]
  },
  {
   "cell_type": "code",
   "execution_count": 30,
   "metadata": {
    "id": "0LeKMIsn6j3s"
   },
   "outputs": [
    {
     "ename": "SyntaxError",
     "evalue": "invalid syntax (1724534416.py, line 5)",
     "output_type": "error",
     "traceback": [
      "\u001b[0;36m  Cell \u001b[0;32mIn[30], line 5\u001b[0;36m\u001b[0m\n\u001b[0;31m    [(*, 'Getting all list items of an unordered list in PHP'), #скрыт\u001b[0m\n\u001b[0m       ^\u001b[0m\n\u001b[0;31mSyntaxError\u001b[0m\u001b[0;31m:\u001b[0m invalid syntax\n"
     ]
    }
   ],
   "source": [
    "# должно вывести\n",
    "results = [[(1, 'C# create cookie from string and send it'),\n",
    "            (0, 'Convert Google results object (pure js) to Python object'),\n",
    "            (2, 'How to use jQuery AJAX for an outside domain?')],\n",
    "           [(*, 'Getting all list items of an unordered list in PHP'), #скрыт\n",
    "            (*, 'select2 not displaying search results'), #скрыт\n",
    "            (*, 'WPF- How to update the changes in list item of a list')]] #скрыт"
   ]
  },
  {
   "cell_type": "markdown",
   "metadata": {
    "id": "t1ttnIBe6j3x"
   },
   "source": [
    "Последовательность начальных индексов вы должны получить `для эксперимента 1`  1, 0, 2."
   ]
  },
  {
   "cell_type": "markdown",
   "metadata": {
    "id": "5WQgYDWd6j3y"
   },
   "source": [
    "#### Вопрос 5:\n",
    "* Какую последовательность начальных индексов вы получили `для эксперимента 2`(перечисление без запятой и пробелов, например, `102` для первого эксперимента?"
   ]
  },
  {
   "cell_type": "markdown",
   "metadata": {},
   "source": [
    "# Ответ: 021"
   ]
  },
  {
   "cell_type": "markdown",
   "metadata": {
    "id": "fPllOY-Y6j30"
   },
   "source": [
    "Теперь мы можем оценить качество нашего метода. Запустите следующие два блока кода для получения результата. Обратите внимание, что вычисление расстояния между векторами занимает некоторое время (примерно 10 минут). Можете взять для validation 1000 примеров."
   ]
  },
  {
   "cell_type": "code",
   "execution_count": 38,
   "metadata": {
    "id": "Z3q9sxddz-yU"
   },
   "outputs": [],
   "source": [
    "from tqdm.notebook import tqdm"
   ]
  },
  {
   "cell_type": "code",
   "execution_count": 41,
   "metadata": {
    "id": "nu7K4mis6j32"
   },
   "outputs": [
    {
     "data": {
      "application/vnd.jupyter.widget-view+json": {
       "model_id": "e1b36f1de3244ac4bd3efd1c1daf425d",
       "version_major": 2,
       "version_minor": 0
      },
      "text/plain": [
       "  0%|          | 0/3760 [00:00<?, ?it/s]"
      ]
     },
     "metadata": {},
     "output_type": "display_data"
    },
    {
     "name": "stdout",
     "output_type": "stream",
     "text": [
      "CPU times: user 1min 28s, sys: 209 ms, total: 1min 28s\n",
      "Wall time: 1min 27s\n"
     ]
    }
   ],
   "source": [
    "%%time\n",
    "\n",
    "wv_ranking = []\n",
    "# max_validation_examples = 1000\n",
    "max_validation_examples = 100\n",
    "for i, line in enumerate(tqdm(validation_data)):\n",
    "    if i == max_validation_examples:\n",
    "        break\n",
    "    q, *ex = line\n",
    "    ranks = rank_candidates(q, ex, wv_embeddings, MyTokenizer_obj)\n",
    "    wv_ranking.append([r[0] for r in ranks].index(0) + 1)"
   ]
  },
  {
   "cell_type": "code",
   "execution_count": 42,
   "metadata": {
    "id": "gDtS520v6j35"
   },
   "outputs": [
    {
     "data": {
      "application/vnd.jupyter.widget-view+json": {
       "model_id": "0524ec7e953b4da3ac307aa3d6f31ba9",
       "version_major": 2,
       "version_minor": 0
      },
      "text/plain": [
       "  0%|          | 0/4 [00:00<?, ?it/s]"
      ]
     },
     "metadata": {},
     "output_type": "display_data"
    },
    {
     "name": "stdout",
     "output_type": "stream",
     "text": [
      "DCG@   1: 0.260 | Hits@   1: 0.260\n",
      "DCG@   5: 0.376 | Hits@   5: 0.470\n",
      "DCG@  10: 0.385 | Hits@  10: 0.500\n",
      "DCG@ 100: 0.448 | Hits@ 100: 0.810\n"
     ]
    }
   ],
   "source": [
    "# for k in tqdm([1, 5, 10, 100, 500, 1000]):\n",
    "for k in tqdm([1, 5, 10, 100]):\n",
    "    print(\"DCG@%4d: %.3f | Hits@%4d: %.3f\" % (k, dcg_score(wv_ranking, k), k, hits_count(wv_ranking, k)))"
   ]
  },
  {
   "cell_type": "markdown",
   "metadata": {
    "id": "LL6_Rjg3InL8"
   },
   "source": [
    "### Эмбеддинги, обученные на корпусе похожих вопросов"
   ]
  },
  {
   "cell_type": "code",
   "execution_count": 43,
   "metadata": {
    "id": "iNvbpR5gJIPz"
   },
   "outputs": [],
   "source": [
    "train_data = read_corpus('./data/train.tsv')"
   ]
  },
  {
   "cell_type": "code",
   "execution_count": 45,
   "metadata": {},
   "outputs": [
    {
     "data": {
      "text/plain": [
       "['converting string to list',\n",
       " 'Convert Google results object (pure js) to Python object']"
      ]
     },
     "execution_count": 45,
     "metadata": {},
     "output_type": "execute_result"
    }
   ],
   "source": [
    "train_data[0]"
   ]
  },
  {
   "cell_type": "markdown",
   "metadata": {
    "id": "Nr281ZyEJfjT"
   },
   "source": [
    "Улучшите качество модели.<br>Склеим вопросы в пары и обучим на них модель Word2Vec из gensim. Выберите размер window. Объясните свой выбор."
   ]
  },
  {
   "cell_type": "code",
   "execution_count": 47,
   "metadata": {
    "id": "f6Y46SSQMTL0"
   },
   "outputs": [],
   "source": [
    "'''your code'''\n",
    "\n",
    "train_data_list = []\n",
    "for pair in train_data:\n",
    "    pair_splitted = ' '.join(pair).split(' ')\n",
    "    train_data_list.append(pair_splitted)"
   ]
  },
  {
   "cell_type": "code",
   "execution_count": 48,
   "metadata": {},
   "outputs": [
    {
     "name": "stdout",
     "output_type": "stream",
     "text": [
      "['converting', 'string', 'to', 'list', 'Convert', 'Google', 'results', 'object', '(pure', 'js)', 'to', 'Python', 'object']\n"
     ]
    }
   ],
   "source": [
    "print(train_data_list[0])"
   ]
  },
  {
   "cell_type": "code",
   "execution_count": 50,
   "metadata": {
    "id": "QuJzAM0cI-UH"
   },
   "outputs": [
    {
     "name": "stdout",
     "output_type": "stream",
     "text": [
      "CPU times: user 6min 1s, sys: 1.24 s, total: 6min 2s\n",
      "Wall time: 2min 7s\n"
     ]
    }
   ],
   "source": [
    "%%time\n",
    "\n",
    "from gensim.models import Word2Vec\n",
    "embeddings_trained = Word2Vec(train_data_list, # data for model to train on\n",
    "                 vector_size=200,                 # embedding vector size\n",
    "                 min_count=5,             # consider words that occured at least 5 times\n",
    "                 window=5).wv"
   ]
  },
  {
   "cell_type": "code",
   "execution_count": 51,
   "metadata": {
    "id": "OQonbm4nMenD"
   },
   "outputs": [
    {
     "data": {
      "application/vnd.jupyter.widget-view+json": {
       "model_id": "51b989c5057b4cb6b12d55b7afa95212",
       "version_major": 2,
       "version_minor": 0
      },
      "text/plain": [
       "  0%|          | 0/3760 [00:00<?, ?it/s]"
      ]
     },
     "metadata": {},
     "output_type": "display_data"
    },
    {
     "name": "stdout",
     "output_type": "stream",
     "text": [
      "CPU times: user 1min 24s, sys: 233 ms, total: 1min 24s\n",
      "Wall time: 1min 23s\n"
     ]
    }
   ],
   "source": [
    "%%time\n",
    "\n",
    "wv_ranking = []\n",
    "# max_validation_examples = 1000\n",
    "max_validation_examples = 100\n",
    "for i, line in enumerate(tqdm(validation_data)):\n",
    "    if i == max_validation_examples:\n",
    "        break\n",
    "    q, *ex = line\n",
    "    ranks = rank_candidates(q, ex, embeddings_trained, MyTokenizer_obj)\n",
    "    wv_ranking.append([r[0] for r in ranks].index(0) + 1)"
   ]
  },
  {
   "cell_type": "code",
   "execution_count": 52,
   "metadata": {
    "id": "3kahBUPGMgGR"
   },
   "outputs": [
    {
     "data": {
      "application/vnd.jupyter.widget-view+json": {
       "model_id": "96179763c15f470faf8eb39cf0065e6e",
       "version_major": 2,
       "version_minor": 0
      },
      "text/plain": [
       "  0%|          | 0/4 [00:00<?, ?it/s]"
      ]
     },
     "metadata": {},
     "output_type": "display_data"
    },
    {
     "name": "stdout",
     "output_type": "stream",
     "text": [
      "DCG@   1: 0.210 | Hits@   1: 0.210\n",
      "DCG@   5: 0.295 | Hits@   5: 0.360\n",
      "DCG@  10: 0.330 | Hits@  10: 0.470\n",
      "DCG@ 100: 0.379 | Hits@ 100: 0.720\n"
     ]
    }
   ],
   "source": [
    "# for k in tqdm([1, 5, 10, 100, 500, 1000]):\n",
    "for k in tqdm([1, 5, 10, 100]):\n",
    "    print(\"DCG@%4d: %.3f | Hits@%4d: %.3f\" % (k, dcg_score(wv_ranking, k), k, hits_count(wv_ranking, k)))"
   ]
  },
  {
   "cell_type": "code",
   "execution_count": null,
   "metadata": {},
   "outputs": [],
   "source": []
  },
  {
   "cell_type": "markdown",
   "metadata": {},
   "source": [
    "# ------------------------------------ Различные токенайзеры ------------------------------------"
   ]
  },
  {
   "cell_type": "code",
   "execution_count": 292,
   "metadata": {},
   "outputs": [],
   "source": [
    "import spacy\n",
    "import pymorphy2\n",
    "import nltk"
   ]
  },
  {
   "cell_type": "code",
   "execution_count": 205,
   "metadata": {},
   "outputs": [],
   "source": [
    "def rank_candidates(question, candidates, embeddings, tokenizer, dim=200):\n",
    "    question_tokens = tokenizer.tokenize(question)\n",
    "    question_vec = question_to_vec(question, embeddings, tokenizer)\n",
    "\n",
    "    cos_sim_cand = []\n",
    "    for cand in candidates:\n",
    "        cand_tokens = tokenizer.tokenize(cand)\n",
    "        cand_vec = question_to_vec(cand, embeddings, tokenizer)\n",
    "        cos_sim = cosine_similarity(question_vec.reshape(1, -1), cand_vec.reshape(1, -1))[0][0]\n",
    "        cos_sim_cand.append([cos_sim, cand])\n",
    "\n",
    "    cos_sim_cand = np.array(cos_sim_cand)\n",
    "    cos_sim_cand_sorted = cos_sim_cand[cos_sim_cand[:, 0].argsort()][::-1]\n",
    "\n",
    "    init_pos_cand = []\n",
    "    for i in range(0,len(cos_sim_cand_sorted)):\n",
    "        init_pos = candidates.index(cos_sim_cand_sorted[i][1])\n",
    "        init_pos_cand.append([init_pos, cos_sim_cand_sorted[i][1]])\n",
    "\n",
    "    return init_pos_cand"
   ]
  },
  {
   "cell_type": "code",
   "execution_count": 201,
   "metadata": {},
   "outputs": [],
   "source": [
    "class MyTokenizer:\n",
    "    def __init__(self, ext_tokenizer, ext_stopwords, ext_stemmer):\n",
    "        self.tokenizer = ext_tokenizer\n",
    "        self.stopwords = ext_stopwords\n",
    "        self.stemmer = ext_stemmer\n",
    "    def tokenize(self, text):\n",
    "        text_no_sw = [word for word in text.lower().split(' ') if word not in self.stopwords]\n",
    "        tokens = self.tokenizer.tokenize(' '.join(text_no_sw))\n",
    "        tokens_stemmed = list(map(self.stemmer.stem, tokens))\n",
    "        tokens_stemmed_no_punct = [token.lower() for token in tokens_stemmed if token not in string.punctuation]\n",
    "        return tokens_stemmed_no_punct"
   ]
  },
  {
   "cell_type": "code",
   "execution_count": 323,
   "metadata": {
    "id": "EhNuxBJd6j1f"
   },
   "outputs": [],
   "source": [
    "nlp = spacy.load(\"en_core_web_sm\", disable=['ner', 'parser', 'textcat'])\n",
    "# nlp = spacy.load(\"en_core_web_sm\")\n",
    "\n",
    "# print(nlp.pipe_names)\n",
    "\n",
    "class MyTokenizer_2:\n",
    "    def __init__(self, ext_tokenizer, ext_stopwords):\n",
    "        self.tokenizer = ext_tokenizer\n",
    "        self.stopwords = ext_stopwords\n",
    "    def tokenize(self, text):\n",
    "        text_no_sw = [word for word in text.lower().split(' ') if word not in self.stopwords]\n",
    "        tokens = self.tokenizer.tokenize(' '.join(text_no_sw))\n",
    "        lemmatization_results = nlp(' '.join(tokens))\n",
    "        tokens_lemmed = [token.lemma_ for token in lemmatization_results]\n",
    "        tokens_lemmed_no_punct = [token.lower() for token in tokens_lemmed if token not in string.punctuation]\n",
    "        return tokens_lemmed_no_punct"
   ]
  },
  {
   "cell_type": "code",
   "execution_count": 324,
   "metadata": {},
   "outputs": [],
   "source": [
    "wnl = nltk.WordNetLemmatizer()\n",
    "\n",
    "class MyTokenizer_2_1:\n",
    "    def __init__(self, ext_tokenizer, ext_stopwords, ext_lemmatizer):\n",
    "        self.tokenizer = ext_tokenizer\n",
    "        self.stopwords = ext_stopwords\n",
    "        self.lemmatizer = ext_lemmatizer\n",
    "    def tokenize(self, text):\n",
    "        text_no_sw = [word for word in text.lower().split(' ') if word not in self.stopwords]\n",
    "        tokens = self.tokenizer.tokenize(' '.join(text_no_sw))\n",
    "        tokens_lemmed_no_punct = [self.lemmatizer.lemmatize(token) for token in tokens if token not in string.punctuation]\n",
    "        return tokens_lemmed_no_punct"
   ]
  },
  {
   "cell_type": "code",
   "execution_count": 325,
   "metadata": {},
   "outputs": [],
   "source": [
    "class MyTokenizer_3:\n",
    "    def __init__(self, ext_tokenizer, ext_stopwords):\n",
    "        self.tokenizer = ext_tokenizer\n",
    "        self.stopwords = ext_stopwords\n",
    "    def tokenize(self, text):\n",
    "        text_no_sw = [word for word in text.lower().split(' ') if word not in self.stopwords]\n",
    "        tokens = self.tokenizer.tokenize(' '.join(text_no_sw))\n",
    "        tokens_no_punct = [token.lower() for token in tokens if token not in string.punctuation]\n",
    "        return tokens_no_punct"
   ]
  },
  {
   "cell_type": "code",
   "execution_count": 326,
   "metadata": {},
   "outputs": [],
   "source": [
    "tk = WordPunctTokenizer()\n",
    "sw = set(stopwords.words('english'))\n",
    "st = PorterStemmer()\n",
    "MyTokenizer_obj = MyTokenizer(tk, sw, st)\n",
    "MyTokenizer_2_obj = MyTokenizer_2(tk, sw)\n",
    "MyTokenizer_2_1_obj = MyTokenizer_2_1(tk, sw, wnl)\n",
    "MyTokenizer_3_obj = MyTokenizer_3(tk, sw)"
   ]
  },
  {
   "cell_type": "code",
   "execution_count": 327,
   "metadata": {},
   "outputs": [
    {
     "name": "stdout",
     "output_type": "stream",
     "text": [
      "Getting all list items of an unordered list in PHP\n",
      "['get', 'list', 'item', 'unord', 'list', 'php']\n",
      "['get', 'list', 'item', 'unordered', 'list', 'php']\n",
      "['getting', 'list', 'item', 'unordered', 'list', 'php']\n",
      "['getting', 'list', 'items', 'unordered', 'list', 'php']\n"
     ]
    }
   ],
   "source": [
    "sent = candidates[1][0]\n",
    "print(sent)\n",
    "print(MyTokenizer_obj.tokenize(sent))\n",
    "print(MyTokenizer_2_obj.tokenize(sent))\n",
    "print(MyTokenizer_2_1_obj.tokenize(sent))\n",
    "print(MyTokenizer_3_obj.tokenize(sent))"
   ]
  },
  {
   "cell_type": "code",
   "execution_count": 286,
   "metadata": {},
   "outputs": [
    {
     "name": "stdout",
     "output_type": "stream",
     "text": [
      "len(validation_data) = 3760\n",
      "len(validation_data[0]) = 1001\n"
     ]
    }
   ],
   "source": [
    "print(f'len(validation_data) = {len(validation_data)}')\n",
    "print(f'len(validation_data[0]) = {len(validation_data[0])}')"
   ]
  },
  {
   "cell_type": "code",
   "execution_count": null,
   "metadata": {},
   "outputs": [],
   "source": []
  },
  {
   "cell_type": "code",
   "execution_count": 357,
   "metadata": {},
   "outputs": [],
   "source": [
    "max_validation_examples = 1\n",
    "\n",
    "def fill_token_lemma_dict(data, max_val_ex, sw_list, tokenizer):\n",
    "    token_lemma_dict = {}\n",
    "    for i, line in enumerate(data):\n",
    "        if i == max_val_ex:\n",
    "            break\n",
    "        line_lower = ' '.join(line).lower()\n",
    "        batch_no_sw = [word for word in line_lower.split(' ') if word not in sw_list]\n",
    "        batch_tokens_no_sw = tokenizer.tokenize(' '.join(batch_no_sw))\n",
    "        batch_tokens_no_sw_no_punct = [token for token in batch_tokens_no_sw if token not in string.punctuation]\n",
    "        lemmatization_results = nlp(' '.join(batch_tokens_no_sw_no_punct))\n",
    "        for token in lemmatization_results:\n",
    "            if token not in token_lemma_dict:\n",
    "                token_lemma_dict[token] = token.lemma_\n",
    "        # print(batch_tokens_no_sw_no_punct[0:10])\n",
    "        # print(lemmatization_results[0:10])\n",
    "        return token_lemma_dict\n",
    "\n",
    "token_lemma_dict = fill_token_lemma_dict(validation_data, max_validation_examples, sw, tk)"
   ]
  },
  {
   "cell_type": "code",
   "execution_count": 359,
   "metadata": {},
   "outputs": [
    {
     "data": {
      "text/plain": [
       "6339"
      ]
     },
     "execution_count": 359,
     "metadata": {},
     "output_type": "execute_result"
    }
   ],
   "source": [
    "len(token_lemma_dict)"
   ]
  },
  {
   "cell_type": "code",
   "execution_count": 334,
   "metadata": {},
   "outputs": [
    {
     "data": {
      "application/vnd.jupyter.widget-view+json": {
       "model_id": "7d47018a5d5941ad8415daf6959d1fa5",
       "version_major": 2,
       "version_minor": 0
      },
      "text/plain": [
       "  0%|          | 0/3760 [00:00<?, ?it/s]"
      ]
     },
     "metadata": {},
     "output_type": "display_data"
    },
    {
     "name": "stdout",
     "output_type": "stream",
     "text": [
      "------------------------------------0----------------------------------------\n",
      "How to print a binary heap tree without recursion?\n",
      "----------------------------------------------------------------------------\n",
      "['How do you best convert a recursive function to an iterative one?', 'How can i use ng-model with directive in angular js', 'flash: drawing and erasing', 'toggle react component using hide show classname', 'Use a usercontrol from another project to current webpage', '~ Paths resolved differently after upgrading to ASP.NET 4', 'Materialize datepicker - Rendering when an icon is clicked', 'Creating PyPi package - Could not find a version that satisfies the requirement iso8601', 'How can I analyze a confusion matrix?', 'How do I declare a C array in Swift?', 'Using rand() when flipping a coin and rolling a die', 'Handling a JSON field with a special character in its name in Java', 'React Native select row on ListView when push it', \"Get 'creation_time' of video using ffmpeg and regex\", 'Does row exist and multiple where', \"How to specify a classifier in a gradle dependency's dependency?\", 'Using $unwind on multiple documents', 'Visual Studio Code: Missing X509Certificate2UI', 'Developing Cordova plugins for Firefox OS', 'Update multiple rows for 2 columns in MySQL', 'Analyse format of alpha-numeric string', 'Dealing with large TIFF images C++/Magick/libtiff', 'What does Error: [$injector:unpr] Unknown provider: tProvider <- t <- myActiveLinkDirective mean?', 'AngularJS - Apply directive instantly, formating currency', 'Can I change the font color on a portion of a string?', \"Spring AOP does not intercept methods within Spring's container\", 'How to retrieve json in original nested form in apache solr?', \"Spatial autocorrelation using Moran's I or other spatial overlap index\", 'how to stop my php page from continuing when field is empty', 'Selecting all CheckBoxes in ListBox not displayed properly', \"PHP warning: Illegal string offset 'field'\", 'WebBrowser control crashes on Windows 10', 'Error while opening a modal in angular', 'Port 25 works when exe run manually but blocked when run as service', 'Why does 6.00 + (plus) 5.00 = \"5.006.00\"?', 'Count number of processes created using fork in a for loop', 'When should I use UIImagePickerControllerSourceTypePhotoLibrary instead of UIImagePickerControllerSourceTypeSavedPhotosAlbum?', 'Read File in Java, output the first comma delimited String', 'Simple recursive method', 'Ensure SQLite table only has one row', 'Why is there a method iterator() on java.util.Collection', 'Development for Cloudant using local CouchDB', 'Regex to find method calls', 'ASP.NET Menu rendering different from vs2008 to vs2010', 'Maven - Change jUnit Version in Quickstart Archetype', 'Writing sublists in a list of lists to separate text files', 'iPad: problems with table rows in popovercontrol', 'Retrieve multiple results set', 'pagination is not working in codeigniter :(', 'Angular NVD3 Change Colors In Legends Also', 'node.js server not responding while large file upload with express and busboy', 'Send request & Get Response in Windows Phone 8.1 WinRT', 'want to delete only empty folders from directory before last 30 days using batch', 'Creating X amount of threads that execute a task at the same time', 'Android Studio 2.2 update: aligned APK (zipAlign) not generated using the new Gradle Plugin 2.2.0', 'Entity Framework - adding the same entity twice in many-to-many relationships', 'Join two tables, only display unique values and maxium date', 'How to use absolute position relative to parent element', 'Search refinement for WebMatrix site', 'Maven project version as expression, not constant', 'Can I prevent App.g.i.cs to be generated?', 'Troubles converting XSD to Java using JAXB', 'Cannot run a jax rs web service with tomcat', 'make a password protected bash script resist/refuse \"bash -x\" when the password is given', 'Does youtube api play function trigger a view count?', 'Why is this Perl loop over strings then characters so slow?', 'How can I change the size of rgl plots in Shiny RMarkdown?', 'How do I programmatically disconnect clients which are connected to Solace appliance?', 'Rails before_filter (Correct_user OR Admin)', 'How to gitignore everything except hidden subdir?', 'Should I use weakSelf in nested blocks?', 'CSS background color not behaving as expected', 'Android app Listview cannot be scrolled to bottom to search a specific element using appium in java', 'Rails: Why \"has_many ..., :through => ...\" association results in \"NameError: uninitialized constant ...\"', 'How to send data between fragments when swiping tabs in ViewPager', 'Wordpress static pages: how to embed content into templates?', 'Troubles with importing classes from Angular 2 modules with Typescript 1.7', 'i am not able to get the images read in java for exporting it as JAR', 'How do I create a resource dll', 'error: linker command failed: ld: duplicate symbol _main', 'sql to find non-printable characters in a string', 'i want to generate payperiod for each month', 'Interactively enter headline under which to place an entry using capture', 'Querying the DNS service records to find the hostname and TCP/IP', 'Can I use setContentView outside the oncreate method?', 'Consolitate data from multible sheets ,re-arrange the data as per the column name', \"Why is my 'transparent' overlay view opaque?\", 'how can I run play framework with port=9001 under windows cmd not under play console?', 'Rails 3 - Ajax POSTS from a link click', 'Add html content to mysql die error?', 'Best way to run a Plack PSGI Perl application outside of Apache using FastCGI?', 'How to Call NSUserDefault Value To Another View Controller?', 'Does Qt have a way to get the font that the particular css resolves to?', 'How to update Parent component about the data that child component modified(angular 1.5)', '2d array, pushing to one array shows up in all arrays?', 'Get NSData from assets-library URL', 'How to specify image size in HTML Doxygen?', 'NSFetchedResultsControllerDelegate in a second view controller (not firing?)', 'Draggable divs getting mixed with another divs', 'creating MLP in python showing error', 'Create SharePoint 2010 ribbon button programmatically w/o feature XML', 'how can I use pyglet write a music player can play a music list', 'How can I efficiently debug loops consisting of a large number of iterations on Eclipse?', 'Passing a model object to a RedirectToAction without polluting the URL?', \"Automatically receiving mobile phone's SMS to hyperterminal\", 'Output \"System.out.println\" into Emacs Cider\\'s REPL (or other buffer)', 'Scoring regression model using PMML with Augustus in Python', 'Safari View Controller - send data back to app', 'Signalling a bash script running in the background in an infinite loop', 'How do I add in-app purchase to a published app in play store and test it before going into production?', 'FileNotFoundException in Windows 10 Universal App (UAP)', 'How to map one column with other columns in an avro file?', 'Retrieving all the cell data from a jQuery datatable on post', 'In Play! Frame work Can I Make classes In models package Singleton?', 'Binding events with Hammer.js and .on()', 'yii making user auto logged in on signup end (auto authentication after signup)', 'Unreal Engine 4: save rendered frame to memory', 'Building HelloWorld C++ Program in Linux with ncurses', 'Generating Checkbox Lists with MVC3 using a complex viewmodel and a cross table with Linq to SQL', 'CordovaWebView: TIMEOUT ERROR', 'Whats wrong in my xsd schema ? It gives type element is not declared on include of another xsd file', 'Angular and papaParse Integration', 'Setup a graylog2 server with elasticsearch in a vagrant machine', '(Solved-See my comment)How to make a password form on tumblr?', 'Javascript: Call a method inside another method', 'aws api gateway client-side ssl certificate verification with nginx', 'Kendo UI drop downs posting arrays', 'ServiceStack Identity on field other than PK - Insert fails', 'Redirection when rendering controller in twig SYMFONY 302', 'CSS Sprites Bottom repeating', 'How can I sort a table of Laravel Eloquent objects by a custom attribute?', 'Comparing elements in a generic list', 'Set minDate for Bootstrap DateTimePicker from another', 'What is the difference between :g and :%s commands in vim', 'Java: creating self extracting jar that can extract parts of itself out of the archive?', 'set html text color and size using javascript', 'Queue using Arrays', 'foreach loop when using Xml.XmlElement in remote scriptblock', 'How to print list of categories and click on each category one by one in selenium/appium?', 'Every now and then, ABCpdf runs out of memory', 'In Spring OAuth2, why is my resource still unprotected even though I have marked it in my resource server?', 'how to restart node application automatically on aws elastic-beanstalk', 'Unresolved external symbol LNK2019', 'Celltemplate in angular-ui-grid is not working properly', 'Escaping backslashes in method call stringByReplacingOccurrencesOfString Does not work in Objective C', 'APEX Data Loading - Add a column programatically', 'MySQL / MariaDB shuts down after exactly 1 minute 42 seconds', 'Mouse movement / mouseover and JavaScript evaluation in watir', 'Removing backslashes from a string in Python', 'Array manipulation (accessing specific bytes)', 'Rails: Does Application.css load all css.scss files?', 'LongListSelector cannot change ItemsSource', 'C# DateTime not recognising timezone change (BST)', 'deinit in child view controllers', 'How to send back to custom class which object of that class was clicked', 'delete from array returning self', 'MS Access Properties', 'UIWebView always add a parameter in url issue', 'comparing two spanned strings in edittext in android', 'Add prefix to control id and still have it bind MVC Razor', 'EXC_BAD_ACCESS when setting Integer to anything else than zero', ':hover CSS is not working?', 'Blowfish last block incomplete in decryption', \"Reading uploaded image: undefined method `file' for nil:NilClass\", 'How can I run IntelliJ IDEA on a remote desktop', 'How to get the JSONObject server response in Volley', 'Guide in organizing large Django projects', 'how to populate a dropdownlist based on another dropdownlist selected value in mvc 4?', 'Azure ServiceBus Token Expired', 'iBatis to MyBatis migration efforts?', 'Where should I look for the document generated using htp package', \"Tortoise SVN Error after update: 'The specified path has an unexpected status'\", 'Extract html data after logging into website from android app', 'Add key value to array without triggering an array', 'How to write this math equation into c++', 'Undefined index php mysql error', 'when text changed inputbox automatically updates next 6 text boxes', 'Unable to get email of facebook user', 'iphone: Facebook logout feature is not work in my app', 'how to force my app NOT to use the 3g data proxy setting', 'Unit Testing - What do you do when your code is pretty much just a calculation (GetHashCode for example)?', \"Status of CheckBox can't be detected\", 'Sort a list with multiple conditions Ruby on Rails', 'How to sharp the text in css3?', 'How to change the class of an object dynamically in C#?', 'Creating an Array with a Default Value,But the default value is changed', 'How to call a delegate\\'s function without getting the \"instance method not found\" warning in ios?', 'Android, background drawable appear black in genymotion but looks fine in intellij', 'Table has no columns using google charts', 'Dropdown list where options populate a second list js/php?', 'difference between <% and <%= ruby', 'How to remove the functionality of changelist filter appearing in django admin?', 'how to unpack stxetx data in python', 'Ansible: playbook calling Role in a directory that is in the roles directory', 'Setting up HTTPS redirects on Heroku Laravel Instance', \"Input helper valueBinding is deprecated - what's the alternative?\", 'Using MySQL.connector with Twisted Python to execute multiple queries', 'MySQL - 1 large table with 100 columns OR split into 5 tables and JOIN', \"neo4j load csv when field name has a '.' in it\", 'Mocha + React: navigator is not defined', 'semantic ui grid - display full width of column, after \"computer only\" columns is hidden', 'populating select menu options using javascript', 'Serializing MongoDB find() return into non-anonymous JSON array, using PyMongo', 'Geom tile white space issue when the x variable is spread unevenly accross facet grids', 'Moving files depending on the profile in a WAR', \"Check if it's the last record in sqldatareader\", 'Assigning to columns in NumPy?', 'Android Facebook ApiException: Invalid Application', 'Django: customizing the message after a successful form save', 'Custom TextBox with built-in Validator: server side validation not firing', 'How to embed mjpeg file on a webpage', 'php delete on jQuery doesnt work', \"AWK doesn't work in Bash Script\", 'Launch specific app when external accessory attached', 'Three Inputs in a Row - Bootstrap 3', 'How compiler like GCC implement acquire/release semantics for std::mutex', 'Framework search for upcoming project', 'Implementing a Web Service Server in Windows CE 2013', 'Why do I keep getting \"The digital signature of the object did not verify\" for Windows JavaEE installer', 'hide paging numbers in gridview?', 'How to remove sublayers from a view afer a touch', 'CUDA: Can i find out if i have global memory coalescence?', 'How to read a google chrome crash dump with windbg', 'jQuery targeting nested list', 'pass the column value when checkbox is clicked in wijmogrid column', \"How to normalize your database in hibernate? (Repeating values don't get saved again and again)\", 'how to stop validation on a particular textbox after hiding this textbox using angularjs', 'opencv imshow with waitKey too slow on Mac OS X 10.10.2 (using c++)', 'Setting an Input Box Background', 'IntelliJ IDEA: \"Element ignore is not allowed here\"', 'Slider does not work in the jQuery Tabs', 'Carrierwave getting image width and height and storing it in an hstore field', 'OpenProcess() succeeds, but EnumProcessModules() fails', 'Django + Forms: Dynamic choices for ChoiceField', 'using Url.Content to display the file content with .net mvc', 'PDO cannot able to fetch image from database', 'error in adding overlay in current location', 'Internal section link fails in beamer output of pandoc markdown', 'Adding ROW_NUMBER() to query loses DISTINCT, defeats the purpose of paged results attempt', 'android studio 135.1339820 launches wrong java version on openSuse 12.3', 'My Facebook object is empty', 'Java code reads UTF-8 text incorrectly', 'PHP session.cookie_secure does not actually set the cookie to secure', 'Using webapp2, how can I get the value of a form\\'s \"name\" attribute during a POST request?', 'Finding Uppercase Character then Adding Space', 'Table data pass into stored procedure as param and insert into another table in mysql', 'Inject entry point class in GWT with GIN', 'How to group by week of the year dates or day dates that start on Sundays in oracle 10?', 'What are the options Some and None SML?', 'Reversing a .mp3 programmatically', 'Convert Associative Array in PHP and insert it to database', 'Why is the \"map\" version of ThreeSum so slow?', 'ant keeps recompiling', 'HttpContext.Current.User.Identity.Name returns blank', 'UIWebView Javascript Window to Window Communication', 'Fluent NHibernate Exception: An association from the table X refers to an unmapped class: System.String', 'Are .NET memcache libraries production ready?', \"DB2 Can't connect to db with new user\", 'Django flatpages backup?', 'Trouble with Creating One-Time Calendar Event from Google Sheet row', 'The colored image turned to have no color and just a grey vector in drawable?', 'how to show pattern in asp-Repeater item template?', 'Fastest scripting language for Java?', 'Tried to reverse engineer my app, but got some weird-looking file tree', 'Startup for bundles placed in the deploy folder of Karaf', 'd3js force layout with hide/unhide on node click misplaces nodes after expanding', 'Unique column definition in SQL', 'Hash of a cell text in Google Spreadsheet', 'How to pin/unpin Microsoft Edge developer tools in Windows 10', 'Which editor can align tables in reStructuredText for Sphinx?', 'How to walk through a directory in c and print all files name and permissions', 'iOS KVC DRY mutation', \"IBM MobileFirst Platform iFix doesn't update the version displayed in Operations Console\", 'relative layout aligning images about right bottom corner', 'How to retrieve a PDF(document) from the Tridion File System and create a multimedia component out of it', 'HTML sends x y POST data with no inputs - how is this possible?', 'How can I view Azure logfiles when running locally?', 'is there a web service client code generator on iOS?', 'Get smallest type to include data range', 'Get dates as check if it is ending', 'Cordova brightness still returns -1', 'How to detect 3 keyboard buttons in Swing?', 'Python calculations in two groups', 'create array from mysql query php', 'TDD vs Defensive Programming', 'Display logo or image in the Ribbon using VSTO', 'How can I get a meaning of a jsp variable in java code on the same page?', 'Conversion of cloud data into 2d image using OpenCV', '[python-suds]Bug? One additional element is created when using Factory', 'Using clang to analyze C++ code', 'Login with email and password control not working', 'ansible: use different logging level for terminal and log file', 'Draggable window with pyqt4', 'dynamically adding edittext depending on the elements of json array', 'How to convert ftp.getModificationTime(file) to readable format', 'PHP Login Form using DashDB', 'Building a properties file to the top level of a WAR file, Spring-MVC/Maven', 'Enabling breakpoints in goclipse', 'error while including external JARs in ant script', 'Comparison of web widgets in flash and javascript', 'Why must I free this data? Am I the owner?', 'Optimizing a very huge mysql table (query or mysql)', 'tlbexp.exe outputs different tlb information on 2012 versus 2010', 'How to create a Facebook Like with a post/comment box', 'Codeigniter PDO integration', 'pass string array as parameter to asp.net mvc webapi method', 'Removing space in dataframe python', 'How to set application identity of an application pool using web administration module in powershell?', 'how to handle play database connection exceptions', 'querydsl 3.3.0 - using collection.any() with elementcollections in a query with N boolean arguments generates N \"exists\" sub-queries', 'Gson: Change the way Map-Keys are being serialized', 'Improving gnuplot 3d plots from data files with pm3d', 'Divide problem', 'Yii2: Using Kartik Depdrop Widget?', 'Can anyone post an example of how to enable SSL in Tsung?', 'MPI_Isend and MPI_Irecv seem to be causing a deadlock', 'Virtual Box port forwarding misery with Ruby Sinatra:4567 / Shotgun:9292', 'Enhancing regex to match more URLs', 'JavaScript classlist selector error', 'My IntelliJ IDEA 11.1.5 lost the ability to debug node.js applications after upgrading to windows 8.1', 'Scientific notation android java', 'How to make a JSON array case insensitive for Twitter Typeahead?', 'Membase can someone explain the idea behind their technology', 'Struts 2 + Dojo + Datetimepicker', 'Cannot retrieve data from find query', 'How long are resources used (file descriptor and memory) for Java temporary files (jar_cache####.tmp)?', 'how to pass a variable in WHERE IN clause of oracle sql?', 'How can I transform the coordinates of a Shapefile?', 'Mapping result of aggregate query to hibernate object', 'Drawing Application how to save drawing in android phone memory', 'Error while using npm install -g generator-jhipster', 'Get abs path from the currently edited file in Eclipse', 'Post form data to foreign aspx form', 'Logging in Azure web jobs', 'MTM with (automated) CodedUITest test-cases developed in VS2013 issues', 'How to print contents of an HTML element in MacGap?', 'ASP.NET Control not available in CodeBehind', 'How can I disable the IIViewDeck functionality momentarily?', 'Why would I create a struct with only a `PhantomData<()>` member?', 'Accessing masterpage properties from child pages in ASP.net VB', 'Bash read inside a loop reading a file', 'Random number between 1 and 20 excluding numbers already picked', 'Wordpress Navigation Label in Browser tab', 'Taking control of the soundCard with JAVA', 'STL containers and large amounts of data', 'Colour in Backorder Products dropdown based on stock in WooCommerce', 'Richfaces - <rich:autocomplete> not showing suggestions', 'How to select and enlarge a Masterpane in Zedgraph', 'react-native android publishing keystore', 'What is a good way to find a specific value in an XML document using C#?', 'Can i make my own Singleton Stateless Bean with EJB 3.0?', 'How does Google App Engine precompile Java?', 'Using dispose() method instead of close() method to a form', 'Spring Oauth2 \"Full authentication is required to access this resource\" with valid access token', 'Why is my code only displaying incorrect even if I have the right answer?', 'Forcing function in ODE', 'Get sum of column on last row, good practice?', 'Simple Karma + Typescript configuration - Reference Error: x is not defined', 'Error building Player because scripts have compile errors in the editor', 'Property Testers do not load despite forcePluginActivation. For popup menu enablement', 'Javascript regex to match last word regardless of specials characters', 'Develop multilangual system', \"angular-mock testing in Karma+Mocha can't find module\", 'How to append an element inside object using a common way', 'Generate random \"dark\" colours only in Java', 'Access element in list using indexes stored in another list', 'How to correctly use setq in elisp?', \"iOS - Today Extension 'show more' & 'show less' state incorrect. Collapsed says 'show less' - requiring multipule presses to fix\", 'how to get the position of the cursor in an editable div', 'flickering of image in SWT', 'Completely random identifier of a given length', 'Angular 2 Render Flat List from Hierarchal Data', 'Java RMI threads on client-side are executing sequentially or concurrently when calling the same remote object?', 'Variable-size buffer for receiving UDP packets', 'CreateSqlQuery on entity with formula property', 'Datepicker TIMESTAMP divide by 100', 'how to print out the whole table using anonymous block in pl sql?', 'In Sentora i will need to integrate a clamav Module', 'how do i set a value of a multiple <select> tag from the database', 'show decimal value in C#', 'Javascript: how to affect other element when hovering?', 'Creating new popup window when click button', 'How to Depict Either/Or Inheritance in a UML diagram?', 'Ajax post success data: Can you separate results?', 'Document.getElementById() not available for ChromiumWebBrowser in visual studio', 'target of assignment expands to non-language object', 'How do I configure distributed transactions for NServiceBus', 'How to combine an array of png images like layers using C#?', \"yii2 gii CRUD Generator error - Class 'Message' does not exist or has syntax error\", 'Get values of checkbox to other page', 'Session on subdomains still not working', 'How can I turn off host name resolutios?', 'syntax error, unexpected end-of-input', 'Erlang: \"extending\" an existing module with new functions', 'tcl string replacement', 'how to access directory in plesk (control panel )', 'Minimizing the sum of a special function over a list', 'VB.Net & Access - Set two foreign keys, that refer to the same table/field', 'Memory Monitoring Tool for Erlang Threads', 'Disable Spring Boot Security @Secured at runtime', 'Join two tables on the same date or closest date (before or after)', 'Power Point viewer asp.net mvc', 'Swift: Get an element from a tuple', 'images rotation to the right', 'Can I access the visual voicemail files on the iphone thru the SDK?', 'Proximity alert for locations saved at server', 'Tableviewcell button', 'Angularjs select does not mark matching model as selected', 'How can i use id to do action on an object of an android using Robotium tool?', 'How can i pass a value to constructors of collection of instances at runtime with simple injector?', 'Large binary shifts in 8086 assembly?', 'Directshow, format type change filter', 'How to open model window on option selection?', 'Update value in sqlite iphone sdk', 'Installing ADT plugin in Eclipse for Android development', 'Automating a ContextMenu with Watin', 'how to evaluate the performance of any cryptographic algorithm (say elliptic curve)?', 'Nth-child Selector with Prototype', 'Difference in performance of compiled accelerate code ran from ghci and shell', 'Database design for email messaging system', 'Java SE Development Kit 8u20 Install Options', 'Reading a file in chunks', 'Twitter style Web Application based on LAMP, Symfony2, Backbone : possible?', 'Regexp for C preprocessor command', 'Cmposition, I dont quite get this?', 'CakePHP form submits the \"array\"', 'Store feed forward network in mongodb', 'bash read strings and output as one key and multiple values', 'http client in python fails to recive', 'Dynamic languages - which one should I choose?', 'How to start an IntentService from a WakefulBroadcastReceiver', 'C++: Converting wstring to unsigned char', 'How to make echo interpret backslash escapes and not print a trailing newline?', 'AngularJS.. http.get working, when splitting into its own service module its no longer working', 'How do I determine the number of elements in an array reference?', '\"TypeError: \\'NoneType\\' object is not iterable\" on what should be a list', 'Replace random image on website', 'Rotation matrix between two camera system', 'Animated border which wraps around', 'cron job not picking up oracle query result', 'Formview and MS-Ajax UpdatePanel', 'How to update data with TreeStore or TreeEditor component?', 'Get kwargs passed to url_for in Flask view', 'how to reload the template when working with enlive without restar', 'Thread-safe get (accessor method)', 'How can I tell if \"inline\" worked?', 'calling some logic before user is logged out using spring security?', 'Java pattern to find two groups of two letters in `ABC`', 'MYSQL distincs entry of two columns even when switched', 'How Antlr creates tokens', 'Play Framework 2.4 - Java - Http header and cached response', 'List of Strings in a Grails domain class', 'Insert into MongoDB via Node.js', 'How to stop or pause Pandora and Spotify', 'Oracle Function: Replicate wm_concat', 'Return user to previous page after login (Rails)', 'Custom Layout Manager using predefined and developer-defined child view(s)', 'In Ruby, how do I specify a file in another directory as an input?', 'Unable to read View Bag value from controller to view', 'Parameters on time stamps in oracle sql developer', 'measuring the time to load a page - Python', 'Set height of child to height of parent', 'How can I find the element that caused another element to fire the focusout event?', 'How to get the latest created table in MySQL?', 'Better way to reference $scope in AngularJS', 'Sharing data between Elastic Beanstalk web and worker tiers', 'iOS certificate pinning with Swift and NSURLSession', 'Sharing UDP Data across apps (background/foreground or Split screen multitasking) in iOS', 'iPhone: Facebook logout feature does not working', 'AutoHotKey. Hotstrings and Auto-replace not working in Visual Studio 2008', 'Issue setting up Android SDK - Failed to Start Emulator', 'Why is the dismissable alert not being dismissed?', 'Error while executing change data capture sql query', 'multiple queries - Route.get() requires callback functions but got a [object Undefined]', 'How to attach custom element to shadow DOM in html web components in a secure way?', \"flash javascript don't work (Second try)\", 'How do EGit versions map to Git versions', 'How the ftp uploads works in PHP?', 'Sql XML to Delphi', 'Lookup table with the query with arbitrary length without using a for loop in R', 'C# XML deserialization XmlAttribute', 'CSS, JQuery: Animated transform from 3 lines menu to cross', 'Can m2e install an external jar file? Or do I need to install the maven command line tool?', 'Does gSOAP RESTful implementation require the definition of a WSDL', 'Automatically create an appointment in Outlook using message content', 'JSoup error: java.lang.IllegalArgumentException', 'Add Button to CMS_Page_Edit via Observer', 'How to do an XOR of the binary forms of all integer items in a list', 'How to add regularization in Scipy Linear Programming (Non-negative Least-Squares)', 'Highlight backgroung colors of some words in HTML Document in java', 'Is there a way to retrieve process stats using Perl or Python?', 'Excel NamedRange.Find Method with Regex pattern match in C#', 'cmake error when configuring', 'How to set first column to a constant value of an empty np.zeros numPy matrix?', 'Eclipse Plugin - get Launch Configurations Tree List in a Dialog.', 'What are the RESTful best practices on defining a query parameter with an or condition?', 'Extracting text from the input field - using Webdriver', 'One <hr> tag is working but not the other in Firefox. Why is that?', 'ajax request xml from php', 'Embedded Java server using Grizzly: How do you enable http2', 'Finding Minimum Completion Time of Scheduled Tasks with Topological Sort', 'How to set jQuery draggable min/max-left and min/max-right', 'semantic-ui modal size keeps extending to the height of a page', 'Is there any direct git command to push changes to another branch', 'How and is it worth to integrate Java Webapp + drools + Guvnor?', 'How to debug Error Messsage in Odoo', 'calculate differences between two numbers', 'Data constructor in template haskell', 'Tying composer.json to a specific Laravel 5 SHA', 'Django 1.7.1 requires a Default value for field - but no entry is in database. Why?', 'addEntriesFromDictionary: a true copy method?', 'Spring Boot OAuth2 with encrypted JWT access token', 'Wrap text if it is longer than max_characters', 'iptables: Duplicating/Forwarding ports', 'Multiple custom fields stored as meta_keys, how to connect with the post?', 'Android GridView crashes or is very slow on some devices (Samsung Galaxy S4, S3)', 'HTML/CSS: Input element weird indent ie7', 'What exactly does Double mean in java?', 'Most effective ways to extract Android Cursor (sqlite) into an array to be used in AlertDialog.Builder?', 'jenkins can not find android SDK', 'Can I open a new window and change the DOM of the calling window in JavaScript?', 'dynamically Change Itemized overlay draw circle using seek bar progress', 'How do I fix django.db.utils.IntegrityError: duplicate key value violates unique constraint?', 'Inno Setup not creating registry entry in Software/Microsoft/Windows/CurrentVersion/Uninstall', 'build from hadoop source code in centos', 'C# LinqToSql SubmitChanges() does not update, even though PK is set', 'How to read utf16 text file to string in golang?', 'Objective C ePub framework', 'Reducer output to different files based on keys', \"Is it possible for a Chrome Extension to get a user's full browsing history?\", 'Variable Number of Nested For Loops', 'Ordered http request parameters', 'Testing the Oracle to_date function', 'Getting the error of POST method from another PHP file', 'Multiple selection of worksheets into one workbook copy paste of content into one main sheet', 'Why do I keep getting \"developer inactive\" errors when calling the Beats Music API?', \"My select command doesn't work\", 'node js read files line by line', 'PHPStorm/Webstorm increase memory to more than 512MB', 'Want to open google.com at specific location and make it specific window size', 'Database not updating new row', 'Spring suite tools start error - spring boot', 'Slider in codenameone', 'Issue with $(this) and toggle() multiple classes', 'How to load file from dir using Racket?', 'Removing quotation mark using javascript does not remove single quotation marks', 'Firebase Android ChildEventListener Triggered onChildRemoved() before onChildAdded() When new data added', 'Python. Error using animation.FuncAnimation', 'How to make inline comments in Org-mode?', 'Find years with distinct digits - CCC 2013', 'Identify customer visits occurring after a given time period in mysql', 'Finding the distinct count from a cassandra column using Tableau', 'Prism : Change the active view', 'Get Color from int', 'Dynamic subversion repos via subdomains (in Apache)', 'How to multithread my for loop in Python', 'How to get recycler view list item count using Espresso', 'How to PIVOT and calculating column average', 'Fastest way to separate the digits of an int into an array in .NET?', 'Escaping special characters in SphinxSE', 'Importing sqlite file into r', 'Sort order of related products not working in Magento 1.6', \"Display 404 not found template for 'slugs' when publication returns empty cursor - Meteor - iron-router\", 'Is there a way to tell if an object has implemented ToString explicitly in c#', 'VFS: file-max limit 1231582 reached', 'Play 2.2 EssentialAction With Futures', 'AppBarLayout / CollapsingToolbarLayout expands indefinitely', 'how to deselect all Radio Button in Radio ButtonGroup on button click in flash as3?', 'numpy array creating with a sequence', 'Sed: Matching words with any permutation of two characters', 'Make Child element appear outside of parent', \"MobilePin createuserwizard doesn't work?\", 'Fit Image in canvas using WPF', 'Adding a fontawesome icon with border into form input', 'finding pixel location of Listview item seems to return wrong value', 'sails 0.9.8 not work, when created controller and lift it', 'Larave File not found at path but it does exist', 'RequiredFieldValidator causes validation on Server even if validator is disabled(CausesValidation=\"false\")', 'Retrieving HTML content from a page requiring authentication using PHP', 'How to generate linked-axis in matplotlib', 'Print % sign with string formatting', 'How to calculate the dimensions of the monitor in PyQt4/Windows/Linux?', 'VBA Outlook 2010 retrieving information from Active Directory', 'Modifying bootstrap thumbnails', \"ASP.Net: What's keeping old AppDomains alive?\", 'A library uses the same package as this project after importing Facebook SDK', 'Unable to run compiled .classes from the command line', 'Is it possible to partially decode and update JSON? (go)', 'How to use Apache-Commons DBCP with EclipseLink JPA and Tomcat 7.x', 'How to do batch geocoding using google-maps-services-java', 'Inserting an img into a text field (html, css)', 'NoClassDefFoundError during Tomcat graceful shutdown', 'Indesign (IDML file) Automation using HTML5 and Javascript', 'Writing to the ObjectOutputStream and getting rubbish back', 'How do I stop md-cards from stretching images to full vertical height?', 'SQL, missing end, but why?', 'SED - Search two pattern in a line and insert few word at the end of the line if pattern match is found', 'How to configure & run multiple websites with respective databases with single Laravel code instance', 'three.js CanvasRenderer - setting initial color for object together with transparency textures', 'IHTMLDocument2 - click button inside iframe', \"Resource 1 works, 2 doesn't\", 'how to show an image in an image field by a button click event in c# asp.net', 'How to use this for killing array of threads?', 'MVC scaffolding does not support Entity Framework 6 or later', 'Parse error using Remotipart', 'JAVA JAX-WS Deployment (JAVA Eclipse EE IDE)', 'kaminari and order_by', 'multisampling and fragment shader', 'C program- change char order in sentence', 'How to reload an IFrame every x seconds?', 'EF6 table per hierarchy, with unique index on derived property', 'Shell Script to add extension on file and directory', 'Absolute beginners guide to working with audio in C/C++?', 'Extract part of string', 'stopping toast android in other actvity', 'Client-side SSL not working with AWS API Gateway', 'Top Left Menu Bar Is Frozen when Main Window Shows Up', 'Category Axis Label Alignment for Multi Series bar chart in JAsper', 'Invalid Label - jQuery Ajax/Json request', 'Optimizing Haskell Recursive Lists', 'Symfony3: Service not able to get arguments', 'Reverse Geocoding not displaying info window on markers when clicked', 'How to restrict background click in Ionic confirmation popup', 'how to use CSPARQL-ReadyToGoPack-0.9 in a SBT project', 'How to sort UTF-8 lines in Vim?', 'How to handle NotFoundException elegantly in Neo4j 2.0?', 'Download multiple files simultaneously with PHP - Forking, Sockets', 'Submit form on one server, process it and then post results to another domain', 'Flyway Mysql multiline comment directive not parsed', 'Non-Blocking File Reads', 'ORACLE sql dynamic variables in stored procedure', 'nested ngFor with two data classes in angular2', 'Crossplatform webview in Qt5.6', 'Set the default encoding to UTF-8 for all JSPs without using @page directives', 'XSLT creating a table with varying amount of columns', 'how to send email with powershell', 'Asynchronous method using .Result', 'Is JENKINS Extensible Choice Parameter compatible with linux?', 'Starting Speech Recognition with CreateProcess() in C++', 'How do I animate adding subviews?', 'How can I change the default font for a Jekyll website', 'Impossible to compile Fortran code with include statement', 'Lazy loading images in Vue/Laravel', 'Web API read header value in controller constructor', 'Android wear WearableListView ImageView selector', 'Function pack() returns 0', 'Is it possible to have Firebase authentication via Facebook in a Phonegap App?', 'PHP Export MySQL to CSV - Results showing HTML', 'How to detect language preference in Laravel 5', 'VB WebBrowser click button', 'Reports using java collections', 'How to write all files Contain in the subfolders and in the folders in to a .txt file', 'Checking negative values from Google Forms', 'Libgdx reading json array values', 'Custom Buddypress Notification on Post Save', 'UITableView with UITextField - keep the data even after user scrolls', 'Visual Studio 2015 Update 1 automatically checks in files', 'Mobilefirst Failed synchronizing application from the administration service', 'Cannot execute for loop in vue.js', 'how to prevent duplicate item', 'Java Apache CLI OptionBuilder not working as Builder pattern', \"What's a proper way to turn off genymotion emulator?\", 'Jade select field populating data', \"Why is ' 2' > '10'?\", 'Mysql dump comments directives and simple comments', 'Cropping library not working on Nexus S', 'Create a segue and attach it between two view controllers through Swift?', 'Function to search recursively for patterns in vim', 'Integrating wordpress and laravel user management', 'Behaviour after takePicture() different on different devices/Android versions', 'Exporting Plone content: how to get the tarball created by quintagroup.transmogrifier.writer', 'Cassandra to Hive using Spark', 'Ruby on Rails :before_filter => :only_when_user_is_logged_in', 'How can I integrate Jacoco reports with SonarQube without using maven?', 'Can I use NSPredicate as key in a NSDictionary', 'Proxy Authentication Failed error', 'Could someone explain how to use the UpdateManager in TideSDK 1.3.1 Beta?', 'Properties - how to avoid code repetition', 'Pause/resume video recording using AVCaptureMovieFileOutput', 'Swift enum recursive associated value', 'How to grep particular string occurring multiple times', 'Hover map area sprite with jquery', 'Spark `LiveListenerBus` Exception is freaking me out', 'how to use pyplot.arrow or patches.Arrow in matplotlib?', 'Apache on Windows and Fiddler', 'how to pass the variable from api gateway to the url of another service running on EC2', 'Open link when doubleclicking on table row with jQuery', 'Wget span host only for images/stylesheets/javascript but not links', 'I am trying to show data using api . but data is not showing in custom listView . list is empty', \"Graphing sbt's incremental compilation logic\", 'how to get functionality of Long Press gesture in ios ver below 3.2', 'Change priority headings for a task with the api', 'Get values on a row based on two or more rows in Excel', 'Is using Silverlight a hindrance for Startups?', 'spotify session callback get_audio_buffer_stats', 'talend - specify jndi as datasource', 'Long data load time in Matlab', 'how can i change column width in base to content with vb.net and bootstrap?', 'Alternative to Microsoft.Practices.EnterpriseLibrary.Data', 'How to facet.pivot with spring-data-solr', 'Check empty output from fish function', 'pysolr update document with error', 'How to retrieve same column twice with different values of other column in same table', 'Updated: NodeJS - connect-keycloak middleware empty response error', 'Accordion open when page loads', \"Activity doesn't refresh after associated Broadcast Receiver's onReceive gets called.\", 'How do you detect DOCTYPE (Transitional or Strict) server-side in ASP.NET?', 'Firefox 9.0.1 Broke Internal Wiki Layout', 'onchange function in dropDownList yii2', 'play mp3 without default player', 'Convert SVG Data to SVG File that can be uploaded', 'Folder Picker for MS Word', \"Can't hide or close form after switching to another form\", 'How to ShellCode in linux with x64 processor.', 'How to set a specific timezone for windows CE By C#', 'Vagrant enters aborted state during apt-get update', \"attempting to make enter button 'clickable'\", 'ImageMagick Convert not generating correct color', 'Mybatis select with nested objects', \"My css height auto doesn't work\", 'D3 AngularJs Force Directed Graph', 'I want to add 30 days to mysql date row', 'How I can use FlexyPool with HikariCPFactory?', 'Wix installer: Verify that you have sufficient privileges to start system services', 'r, ts - error in stl, series has less than two periods (erroneous?)', 'typo3 - Adding content to the footer', 'Knockout re render template with new data model on change event of dropdown menu', '@ManyToMany relation not save', 'Downsampling of fMRI image with FSL', 'How to use Android AutoCompleteTextView on Xamarin.Forms', 'Why fstream::tellg() return value is enlarged by the number of newlines in the input text file, when file is formated for Windows (\\\\r\\\\n)?', 'Determine If Two Points Are Near', 'clicking logo on home page breaks navigation menu on mobile site', 'Use Iframe to embed csv and allow user to search from it', 'Install Chrome extension through windows registry', 'Display message on success does not work', 'jQuery masked input - format date as m/d/yyyy or m/dd/yyyy or mm/dd/yyyy or mm/d/yyyy', 'How to change spring session (redis) cookie name?', 'Any tool to suggest unit reference automatically for Delphi 2010?', 'Why does my method return a null password?', 'SQL Script - manipulate value based on previous non zero value', 'rotate image shows \"Out of memory\" exception', 'count button clicks', 'Joomla Custom Compoment Dev Env : Hot Deployment', 'Nexus 5 not showing on connected devices', 'How work the method TrueForAll? C# LINQ', 'PHP - Simplest Way to Post & Display', 'Update Temp Table with Group By', 'How to use Parse Push with Cordova, Appcelerator, etc', 'AS3 bitmapdata send to server picture is small in upperleft corner', 'How to set the Z order index for adorner in WPF', 'php microseconds', 'Creating a global database connection on an mdi form', 'Uncaught ReferenceError: React is not defined', 'VBA search column for strings and copy row to new worksheet', 'How can I record a test using Espresso without doing a clean install?', 'How can I char array in reverse order?', 'What kind of SCTP support is there on various Windows versions?', 'Saving changes to an EC2 instance without having to register an AMI each time?', 'Auto run Jetty on boot', 'How To Cache jQuery Template In Backbone View via Ajax?', 'Does this C++ static analysis rule make sense as is?', 'Same Ripple drawable(effect) appearing differently on ListView and RecyclerView', 'R ggplot2 assigning colours to a factor', 'Verifying a method was called without using IoC', \"What is 'seg cs' in bootsect.s\", 'setTimeout keeps firing', 'Formatting the way a string is entered into my database', 'Creating Jenkins Job using python API', 'python create single thread to do one task then quit', 'z order in issue in ConstraintLayout Android', 'Can I derive from a class that can only be created by a \"factory\"?', 'PHP OOP :: passing session key between classes', 'ASP.NET MVC 3, SQL Server', 'Recreating or deleting google services json', 'Probe problem when writing a I2C device driver', 'Jersey produce duplicate log messages', 'Exit / stop Array2D.initBased early', 'how to set array of date to fireDate in local notification at a time', 'alternative to async: false ajax', 'Oracle: how to get percent of total by a query?', 'How to match the recursive pattern `a(?R)b` including another string e.g. \"test{aaabbb}\"? (Regex)', 'How to disable GestureListener?', 'How to specify Code Style settings in a Qt Creator `.pro.shared` file?', 'cal extension template modification with .tmpl', 'Getting started with Groovy/Grails?', \"Opening a Ruby program's source file in the default editor\", 'How can I pass an array of Guid via Web API?', 'Backbone-Relational find or load?', \"what's the best way to format an xml string in ruby?\", 'Partial classes in Google Closure?', 'Add a repository in AccountController', 'Wikipedia API Autocomplete with Json', 'Apache Pig: unable to run my own pig.jar and pig-withouthadoop.jar', 'Optimizing list comprehension to find pairs of co-prime numbers', 'kivy access child id', 'Stucture values not staying, values changed to -858993460', 'Set toolbar title', 'How to add a row to a table using swt', 'jQuery ui selectmenu vertical position offset (relatively to buttons in this line)', 'SSIS : Warning: Failed to decrypt an encrypted XML node', 'gps not getting user location', 'Exporting a simple model with texture from Blender to three.js', 'Postman - Required MultipartFile parameter is not present - Spring, Java', 'Prevent akka actor from restarting child actor', 'UITableView not loaded', 'NTFS permission with modify date', 'QTreeView - how to tell if a drag/drop event is a reorder or a move between parents?', 'Prevent XUL notificationBox from closing when button is hit', 'Code not working. Notification that should go off once a day', 'Android Action Bar Button does not show up', '$.widget is not a function', 'jquery hide not taking parameter', \"How can i use a one form/table for multiple MVC's?\", 'MSTest: execution order of tests within the same TestClass', 'How to call jQuery function in HTML returned by AJAX', 'OAuth2 security considerations for client_id', 'Google Compute Instance 100% CPU Utilisation', 'Incompatible block pointer type when returning array?', 'Calling a REST api with an encrypted PEM client certificate', 'Select all objects in a list', 'Drag and insert div into another div', 'How to prevent firefox from scrolling to the bottom of the page when a large popup is opened', 'How to handle ((List<string>)Session.Add(\"\")', 'mysql inserting into 2 tables at once that have primary key and foreign key', \"What's the right way to remove multiple items from a QTableWidget?\", \"When MSTest fails in TestInitialize, why doesn't TestCleanup get executed?\", 'PHP CodeIgniter application not opening any page except default controller', 'Parsing JSON data without quotes with jQuery', 'Rewrite url in .htaccess', 'I/O error(socket error): [Errno 111] Connection refused', 'Git Error; RPC failed; result=22, HTTP code = 401', 'TFS 2010 - Set the State field to a certain value', 'ActionScript 3.0 How to create ProgressEvent instances in for loop with multiple files loaded from XML', 'how can i extract my query to find average', 'C# Windows Service - Default Arguments on Install', 'Upload large files with node js', 'Changing table headers in cakephp', 'hello world with JMS on Glassfish', 'Countdown timer using DateTime.Parse without defined date', \"Images in the 'drawable' folder are resized automatically?\", 'Find files with the same size and dellete all duplicates except the one has the shortest name using shell script', 'Writing Rules both in Firebase and in your Code', 'Search for words with specific starts and endings', 'Install Neo4j 3.0+ as a windows service', 'PHP convert 2 digit year to a 4 digit year', 'JSDoc auto-complete documentation in Eclipse is not working for Class.create()', 'Split a infix String to an array of String in java', 'Folder permissions in Azure web sites', 'Only have separators between UITableViewCells', 'Uncaught Syntax error, unrecognized expression: [object Object]', 'Need htaccess redirection', 'How to create this bootstrap carousel of iframes?', 'Doctrine2 - Get entity ID before flush', 'Xquery help sorted parent child relationship', 'How To Load Separate Pages In Android Gridview While Clicking Blocks or Items?', 'kineticjs rect fillText', 'is a query string with a / in it valid?', 'How to convert the BYTEARRAYS to NSString in objective -c', 'why is std::chrono::duration based on seconds', 'WCF REST Client Exception', 'Using UIBinder to create a Widget to go into a Dialog', 'OneDrive for Business :\"invalid_request\",\"error_description\":\"AADSTS90014: The request body must contain the following parameter: \\'grant_type', 'Are the any options for interfacing with the command prompt process from a .NET application other than the standard IO?', 'Adding data in the database using microsoft access and OleDb in C#', 'jQuery Ajax header not being passed', 'AngularJS: Multiple views with routing without losing scope', 'BackboneJS How to merge collections', 'Specflow :Could not load file or assembly TechTalk.SpecFlow, Version=2.2.0.0', 'Max byte calculated by System.Runtime.InteropServices.Marshal.SizeOf()', 'How can my application retrieve custom fields from a DocuSign transaction?', 'add active state to button in a button group', 'How to define clear range for pixel color', 'Roslyn VisualBasic.ScriptEngine doesnt recognize hostObject written on C#', \"Neither BindingResult nor plain target object for bean name 'categoryOptions' available as request attribute\", 'How to change Wicket behaviour on Page Expired', 'PHPUnit code coverage show 0% coverage', 'How to prove code correctness lemmas with the \"undefined\" constant', 'Visual Studio has insufficient privileges to debug this process. To debug this process, Visual Studio must be run as an administrator', 'WebApi EntitySetController using composite keys', 'How do I set up an OpenGL project using XCode 4.2 in C++?', 'Initialize static NSString at class level', 'Rich Text Editor inside Flux Form', 'Setting $PATH in xampp osx', 'How to extract data from html using PHP', 'How to get Current location using MapModule?', 'Excel VBA Syntax Errors & Compiling Issues', 'How to read Logback configuration file from path outside the war file?', 'jQuery ajax not getting every div elements', 'TCP Socket on JAVA - Any byte >= 128 is received as 65533', 'SqlBulkCopy keeps on throwing connection forcibly closed exception', 'Error sending to the following VALID addresses Jenkins', 'How to determine if a text has balanced delimiters?', 'How to flick through a deck of cards?', 'Selecting in SQLite Database Android', \"TSQL merge Incorrect syntax near ','\", 'Building Pocketsphinx On Android on Windows', 'Add background image in a div without empty space between div and footer', 'Include github project into wordpress plugin', 'django multivaluefield & multiwidget - compress and/or decompress not working', 'Android : Can i call my onresume() inside onpause().?', 'How to fit picture to absolute positioning modal window?', 'Redirect URL to PHP only if file does not exist with Nginx', 'Laravel 4 Exception: NotFoundHttpException', 'How To Start Using Kostache?', 'Assigned access application exits when Ctrl + Alt + Delete is pressed.', 'Circular dependency error when running migrations in Django 1.7c2', 'JavaFX setOnShown fires before window is visible', 'Flash Develop - Publishing', 'I want to use the variable I declared somewhere else but I cannot (simple sql query)', 'buttons are not displayed', 'Prevent Twitter responsive layout from collapsing when width < 320px', 'Show azure cost analysis data using Azure billing API/SDK', 'find the field names from a search query', 'OAuth 2.0 OpenID Connect Loopback and Keycloak', 'Windows Phone: How to retrieve the same photo from media library between application instances', 'Symfony2: determine if a controller is called from a development environment or from a production environment', 'When UITableView is fully reloaded', 'http.post(url, postData, options) does not set header', 'JSON stringify outputs empty object for not empty object', 'Display.syncExec not working inside Callable', 'XPath to first occurrence of element with text length >= 200 characters', 'Unable to push a docker image to local OpenShift Origin registry', 'SlideDown() using JavaScript not working as intended', 'Threading.Tasks Dispose meaning issue', 'VAL() function in JavaScript', 'Using php to send form to my email..Having an issue with 405 Not Allowed when form is submitted', 'Netty closeFuture().sync().channel(); blocks rest api', 'How to check if a specific button exists in Scrapy?', 'Remove logs from ORMLite Android', 'Language detection API/Library', 'Should I make 1 form for each upvote button or 1 form for all the buttons?', 'Eclipse GAE JDO 3.0', 'django-cms editors and HTML data attribute cleaned up', 'Xcode build error clang failed', 'setTimeout from a web worker', 'C# Populating a listview from a List', 'Javascript not working in django inline formset using urlify.js', 'PHP multi cURL performance worse than sequential file_get_contents', 'Converting PHP Contact Form to SMTP', 'How do I prevent the original method being called when mocking a class with PHPUnit?', 'Ensure footer will stick to bottom of page and flex with content', 'How to share files from any path using a FileProvider?', 'R: How to build sum of arrays third dimension containing NAs and returning a list?', 'Speeding up a strangely slow Rcpp function', 'How to create a service that sends/receives UDP broadcasts on multiple interfaces', 'Can someone tell me how to replace the following javascript code with a loop?', 'UIImageView layer border issue', 'COM object created by CComObject::CreateInstance not destroyed when pointer goes out of scope', 'Run 2 sql query with 1 query for save query result as .csv format', 'AWS Elastic Beanstalk Vs EC2 Container Service (ECS) - Docker', 'Connect to remote MongoDB instance from ASP.NET', 'Copying files with unicode names', \"ASP.NET Web application doesn't unload AppDomains after deploy\", 'Getting YouTube livestream URL', \"Can't use ToString() in LINQ to Entities query\", 'list comprehension to create list and for no-data value feed default value', \"JSX element type 'XXX' does not have any construct or call signatures\", 'Subroutine unexpectedly ends when a Workbook is closed', 'Creating a result set (using a select statement ) within a loop', 'Laravel 4.2 - Environment detection - homestead.yaml vs. start.php', 'Deploy a shell script with Ruby gem and install in bin directory', 'Change a string into an int', 'How do I stop a MySQL decimal field from being rounded?', \"Respecting argparse's privacy, vs. usability\", 'Very simple Web Service in Python', 'Emoji and UIWebView in iOS 5', 'Getting IOError: [Errno Invalid number of channels] -9998 when using mic with PyAudio on Raspberry Pi', 'Mono on Mac OS X - Parallel HTTP Downloads limited to 2', 'Delete files, directories and buckets in amazon s3 java', 'Android: Saving form data on a swipe rather than from a button', 'No description or item name on PayPal Payment Received email', 'Code igniter with data mapper giving in valid json', 'Where can I find official / canonical documentation for using JavaScript with \"classic\" ASP?', \"BroadcastReceiver isn't working\", 'Array compare and count which has similar values and which not', \"How to cancel 'viewWillAppear' after UIImagePickerController is dismissed\", 'In Scala, is it possible to write a script which refers to another script', \"after reload page IE is not retaining it's scroll position\", 'SpringBoot multiple authentication adapter', 'SMTP Contact Form blank screen on Submit', 'Destroy all sessions but one', 'C# WIndows CE Compact Framework 2.0 Set System Timezone', 'Appropriate representation of a 2D game board in Clojure', 'Ionic emulate ios shows black screen', 'How update APi with AngularJS?', 'Javascript based redirect: will it hurt SEO?', 'What is the difference between these two SOAP requests?', 'Microsoft Access Report - How to cycle through all pages of a report in print view?', \"What does Actor[akka:\\\\\\\\play\\\\deadLetters].tell() mean in a New Relic's trace of a Play Framework 2.0 web transaction?\", 'JRuby 1.7.0 will not install bundler given plenty of memory', 'solr multiple tokenizers for query', 'Is it possible to pass an EJS variable to an Angular ng-repeat filter?', 'How To Read Data using Ip Address', 'SSIS XML Decryption Message', 'Detecting selection change on a UITextView?', 'Different CSS background-image depending on month and year', \"What's the equivalent averageifs for standard deviation?\", 'Segmentation faults using f2py', 'Eclipse: Most useful refactorings']\n",
      "------------------------------------1----------------------------------------\n",
      "How to start PhoneStateListener programmatically?\n",
      "----------------------------------------------------------------------------\n",
      "['PhoneStateListener and service', 'Java cast object[] to model', 'WCF and What does this mean?', 'How to uncheck checkbox using jQuery Uniform library', 'Two projects with same code base', \"Can't read php file when upload image to server in titanium\", 'create pandas dataframe from dictionary of dictionaries', 'how to pass tkinter text to flex', 'runtime error project source code not found and invalid string null exception?', 'excel VBA new URL on existing IE', 'Howto immediately update TextBox after correction of bound property?', 'JAX-RS Jersey/Grizzly Define an interface resource', 'JSONConvert.DeserializeObject not handling child array with unnamed array items', 'Unexpected error while loading data', 'Cucumber Capybara Selenium race condition with expect(all())', 'How do I check if one vector is a subset of another?', 'Dropdown list where options populate a second list js/php?', 'Automated Email Sender', 'mysqldump --routines not including routines in created file', \"'Save As' image with src from PHP\", 'enable mouse scrolling but not mouse visual selection in vim?', \"Cucumber's AfterConfiguration can't access helper modules\", 'Doctrine 1.2: Can a model have two instances of the sluggabl behavior?', 'Should a custom find method on a Laravel Model be static?', \"Calling spring data rest repository method doesn't return links\", 'QML : Flippable issue', 'css: how to build centered div with minimum spacing on the left', 'Android OS Calling onActivityResult before picking up image from gallery', 'how to detect if is running the scan for new media files on Android (in background)', 'Undo in JTextField and setText', 'Swift: Create Reproducible NSView using Interface Builder', 'Is there a predefined webpart called CAPTCHA webpart?', 'fme datalist extension for alfresco community 4.0.c', 'How to read the call log on iPhone iOS 5 programmatically', 'Rendering partial views with Razor in MVC5', '$ is not a function errors', 'Get values on a row based on two or more rows in Excel', \"Python 3.3 can't import Crypt\", 'Why Hashmap is not displaying in order?', 'Keepalive time - cannot reduce below one minute in C++', 'ExecCommand not working on all systems', 'What are we doing wrong with git?', \"Database foreign key constraint doesn't work?\", 'Custom Partitioner : N number of keys to N different files', 'Behaviour of autoDestroy: false in Extjs4', 'Conditional extends in Blade', 'Get Word bookmark index to replace image inside bookmark from Excel', 'Set label text based on dropdown list selection from datasource', 'How do I refresh in Firefox and preserve breakpoints?', 'Closely coupled C# classes in one module, how to improve this design?', 'Jacobian and Hessian inputs in `scipy.optimize.minimize`', 'Force full calculation of entire workbook in Coldfusion / Apache POI', 'Adobe AIR lag on high resolution Android devices', 'magento product category not applying, but applying after manual \"save\"', 'how to get environment variables desktop path', 'Get few lines of HDFS data', 'JSP Redirect: Session Loss Issues', 'What does JPA EntityManager.getSingleResult() return for a COUNT query?', 'Limit Linq result columns for GridView', 'Unmarshalling, manipulating and then marshalling CVS data in Camel using Spring DSL', 'Sphinx Search Multiple Tables and Aggregate Results Using PHP API', 'What is a Sanity Suite?', 'In Spring OAuth2, why is my resource still unprotected even though I have marked it in my resource server?', \"Unable to run rails server: `require': cannot load such file -- net/ssh (LoadError)\", 'Building a Matrix of Combinations', 'Convert Perl Regular Expression into Java Regular Expression', \"Value of type 'String' has no member 'range' in Swift\", 'Using awk to remove spaces from a field', 'Executing a function on ring/compjure application startup after deploy', 'Does using compare on a nil NSNumber always return NSOrderedSame?', 'Sign on several sites', 'Finding entry of vector in PARI/GP?', 'How to draw line and font without D3DX9 in DirectX 9?', 'grep through colored text , e.g. gcc | colorgcc | grep regexp', 'Querying ignoring a time portion of TIMESTAMP fields along with JPA converter', 'refresh gridview after adding or deleting new record in c#', 'Move static data from db into code in rails 3', 'How to free memory after array in PHP? unset and = null seems to not working', 'CSS Sprites Bottom repeating', \"How can I workaround heroku's 30 sec timeout when executing long PLSQL procedure in Rails?\", 'java.lang.OutOfMemoryError - Very large SOAP response', 'Data binding access in xaml vs in code behind - Linq to XML?', 'Filter Array Content to a Query containing $concatArrays', 'IntelliJ IDEA: ClassNotFoundException if run Debug, execution/run does work', 'How to read events for a particular date from native calendar', 'PEAR and absolute paths', 'Ember, safe way to save models', 'Javascript Json Parser', 'How can I keep my initializer configuration from being lost in development mode?', 'Adding in-app purchase to existing published application and testing it without publishing', 'If statement in TableView Cell not working', 'SFML fails in multithreading', 'Is there a canonical way of passing options to a Go function?', 'Problems with limit method in Rails 3.2 and hash ordering', 'How can I choose the location where I want to save downloaded files?', 'Creating NSWindow programmatically in Mono using MonoMac.dll Ref', \"Can you use DataTable.Contains(object key) if your datatable's primary key is two columns?\", 'Linking two UIScrollViews so they follow each others touches', 'Unable to dump a relation in PIG', 'Error when TS audio stream over UDP', 'getting java.net.SocketException: Invalid argument:inside docker container', 'GIT - Fail to checkout to other branch when nothing to commit - when file is in gitignore', 'ASP.NET: How can I create a Login System using aspnet_regsql.exe?', 'Putting 2 divs on the same line', \"Interface's function clashes with Property's getter\", 'How do I make a table from a List MVC?', 'Ignore blur event if user choose address on google map autocomplete', 'RethinkDB update field inside nested array->obj', 'Authenticate users using cURL for my login system on my site?', 'Silverlight datagrid disable particular cell', 'Path configuration with sphinx', 'FileNotFoundError: [WinError 2] python 3.4', 'SVG click events not firing/bubbling when using <use> element', 'Visual Studio publish to azure existing apps error', \"angular javascript won't apply to ui-view inserted element\", 'Passing shake gesture event to the app delegate', 'How to display french letters?', 'Forbidden access Codeigniter URL', 'Calling Method in Android', \"Facebook Comment box inside UIWebView doesn't have the right height\", 'how can i get the object of a button created with storyboard', 'CodeIgniter Removing index.php using .htaccess file', 'ArgumentException: The specified structure must be blittable or have layout information', \"Event Viewer reporting my C# application crashed through 'System.Environment.FailFast()'\", 'Leaving equal width gap spacing before and between menu buttons', 'Get Button Value when click in Angularjs', 'Android map api-2 disable click', 'Can not add rows using datatable.js Ajax', 'Passing a simple IEnumerable to view and using foreach to loop through returns a blank screen?', 'Cordova brightness still returns -1', 'GDB/MI redirect stdin and stdout to files', 'how to clear devise session on browser close?', 'JsTree - Get Degree of Node', 'Swift type inference and type checking issue', 'How to call DocuSign Signer Information screen?', \"Getfield.SetValue doesn't work\", 'Why do we put \"#\" in front of myTempTableName?', 'Accessing SQL Server over an SSH tunnel', 'Deleting Li doesnot work for dynamic li', 'iOS 10 FBSDKAppInviteContent() not working anymore?', 'RoR: How to populate table from radio buttons?', 'I have a SQLite syntax error in DELETE statement', 'Cookies of domain are sent to subdomain, how to fix?', 'Why libuv use thread pool to run all file system operations', 'CSS button not styling', 'Error while creating Menu Dynamically with Xamarin Android', 'Why does my GradientDescentOptimizer produce NaN?', 'Dynamic table in html', 'Coq tutorial and/or book with exercises involving subset types', 'How to have a where clause on an insert or an update in Linq to Sql?', \"Aren't these two statements incompatible in N4140?\", 'how use tests written in Selenium and Cucumber-JVM with JMeter?', 'Why use Thread.currentThread().isInterrupted() instead of Thread.interrupted() when implementing Runnable?', 'How to preserve TwoWay binding of CurrentItem when databinding to CollectionViewSource in ComboBox', 'Android find if color is too close to black or white', 'Dynamic listview with jquery mobile', 'ClearCase Remote Client CLI?', 'Ajax Accordion issues in firefox/chrome', 'Running Webrick server in background?', 'Can I create my own command in sublime and how to associate python implementation to that command?', 'prepareForSegue not getting called when registering a custom cell', 'C# Xml Parsing from StringBuilder', 'Dynamically generate a list of available languages in Spring MVC', 'Recursively find subdirectories and files', 'Check key exists in NSDictionary', 'c++ for loop with decrement update causing infinite loop?', 'MySQL JOIN returns NULL fields', 'Need algorithm for angle of WPF line', 'How to get String value from a boolean value using MySQL query in Jasper Studio', 'What is the usage of global:: keyword in C#?', 'iOS Framework: All Functions Demanding Different Types of Parameters', 'How to print a binary heap tree without recursion?', 'JavaScript variable is undefined after being passed in a function', '\"preprocess current file\" addin for Visual Studio? (C++ )', 'Object Oriented Database Vs object Relational Database', 'run method onclick crash in android', 'Does Akka support in-process messaging without object serialization?', 'AWS Elastic Beanstalk - Increase Instance Disk Capacity', 'Inter Thread Communication in C', 'Do we have Reminders in windows 8', 'Make specific ListView item not clickable in Universal Windows Platform', 'Regex groups in python', 'Facebook Realtime Updates - Dispute - Response', 'Is empty struct defined by C++ standard?', 'Background Image disappearing in Microsoft Edge', 'Java getNodeName and namespaces', 'SpringBatch CommandLineJobRunner -next using old run.id', 'Apache camel soap request type conversion error', 'How to get mouse position in float or double with exact resolution?', 'Hive query output to file', 'Check if an object exists in JSON', 'PHP - Socket communication between servers', 'Windows Phone with XML file', 'Laravel 5.2 $fillable', 'Treeview - highlighting multiple items', 'OpenGL - Sweep Representations', 'Rstudio is.na(e2) error when sourcing r file of functions', \"Add subview to tableview which doesn't scroll\", 'readHTMLTable and UTF-8 encoding', '.htaccess block certain website', 'Use for WorkItemAttribute?', 'Foreach changes not being preserved on Linq item collection', 'Why/How is IntelliJ causing debug output in Netbeans?', 'TypeInitializationException when running Stanford.NLP.CoreNLP example', 'Cannot load MySQL JDBC driver', 'MySQL - Trying to count tickets sold for an event', \"A string with '-' character is not drawing properly in drawrect method in iOS\", 'tabBar:didSelectItem and popToRootViewControllerAnimated', 'APK loading workflow documentation', 'chosen allow_single_deselect is not working as expected', 'writing boost::archive to C# stream', 'Replacing directory with external results in \"working copy locked\" on `update`', 'Lm across many columns in a dataframe in R', 'Cassandra adding disks / increase storage volume without adding new nodes', 'How do I pass variables between methods in java?', 'Camera crash if called by other application', 'Trying to retrieve the most recent previous entry in a table', 'Watir wait_until_present times out instead of returning false', 'CentOS install mod_dav_svn', 'Facing issue with camera application', 'How to import data into neo4j (neo4j-community-2.0.0) in windows 7?', 'Trying to save my Django Model Formset, keep getting ManagementForm error?', 'UIToolbar on each page of UINavigationController', 'Non interactive samba user creation via ansible', \"Error while installing netCDF4 for Python, can't find HDF5\", \"Use Flexslider's selector property to skip some slides in DOM descending order\", 'carouFredSel Slider - prevent scroll to top on slides rolling', 'Structure a NoSQL database for a chat application (using FireBase)', 'How to change images in grid view as the position changes in android?', 'iOS6.1, iPod: Second video does not start at the beginning', 'Android Emulator Won\\'t Start in Eclipse \"reqested operation requires elevation', 'Test that app launches another app in Android', 'ZF2 detach listener from EventManager', 'PyScripter Rpyc', 'Cython: cimport and import numpy as (both) np', 'Access or download .csv file from dropbox using objective-c', 'Replacing an equation and embedding a math function plotter?', 'can you make an image button move in the same was as a bitmap in android', 'Dynamic name, password and ip in MySQL', 'AppleScript error \"Can’t make \\\\\"\" into type integer.\" number -1700', 'node (angular 2) updates the input field even on different PC or browser?', 'Restrict cipher suites on JRE level', 'Join tables hibernate + group by', 'Pulling prior year data', 'how to get rid of ArrayOfString classes from jax-ws client code', 'Get a worksheet name using Excel VBA', 'jQuery menu hover', 'Formation of Clusters in MATLAB', 'Use SQL to filter the results of a stored procedure', 'Java: How can I tell if one of my array String values is null?', 'Get log file name of database from .mdf file', 'Rename control methods in Windows Forms application', 'Spring Boot maven exec - unable to start class', 'Is IntentService appropriate for FileObserver', 'Add Button to CMS_Page_Edit via Observer', 'Using Nested Graphs in Sparql', 'asp.net mvc int property bind exception', 'Looping through AJAX and callbacks in jquery', 'Printing a Table from a Dictionary', 'Xcode 6, Yosemite Mac app help book: topic unavailable', 'There was no endpoint listening', 'NSString that contain lots of null termination?', 'BadTokenException - Unable to add window', 'Why is the getElementsByTagNameNS empty in java?', 'Ajax ModalPopup wrong display in IE8', 'Rescue all errors of a specific type inside a module', 'Setting svn:ignore property on files that are not version controlled', 'Is there a way to print to the console in an Android app?', 'Program exceeds a time limit, which seems impossible - buggy code', 'Reading values from one database and write it to another database', 'Visual Studio 201x: C# syntax highlighting for new object names', 'Calling a JAX-WS webservice from inside Matlab', 'How can I program a button in HTML to go to a link?', 'Rails 4, Ruby 2.0: Get PG Error when trying to get all records having a specified value in joined table', 'Add one \"day\" to date but let me choose what time', 'how to use jquery deferred with vktemplate / queuing ajax requests', 'Cant set text in TextView - android', 'Displaying image in MFC method that is not ONPaint', 'How to insert new row to database with AUTO_INCREMENT column without specifying column names?', 'Invalid Constraint Value', 'Magento not saving any data', \"Java Generics : Casting a raw type to any reifiable type doesn't generate unchecked cast warning\", 'Notifying user-mode as soon as a packet arrives', 'How to handle this type of events', \"Links don't work with jsp and jquery (How to link websiteurl in anchor tag in jsp page)\", 'how to populate a dropdownlist based on another dropdownlist selected value in mvc 4?', 'test driven asynch tasks', 'Log file not being generated while running a script via Windows Task Scheduler', 'How to know the discriminator value', \"Wrap two adjacent td's\", 'How do I get a Faye client given a client ID?', 'RoboGuice custom module application context', 'Memory leak in Python extension when array is created with PyArray_SimpleNewFromData() and returned', 'terminal command for running sublime text 3 from on ubuntu', 'Strange PHP 5.3 issue with date diff calculating difference in days', 'Why is my code making PDO return nested arrays?', 'Delphi TWebBrowser - how to use proxy with login/password?', \"Under iOS, does anyone know how UUID's are generated for executables and what information may be encoded therein?\", \"Can't create a Hadoop sequence file on a local file system\", 'hibernate ImprovedNamingStrategy overrides Table name in entity', 'Can I compare MysQL timestamp with datetime columns? is it bad?', 'JSON Safe Values from MySQL', 'SQL Select MIN in Subquery returns multiple records', 'How to update self based on reference of value from hashmap from self', 'Compile a Standalone Static Executable', 'Rally SDK App using Grid with collapsible tree of children stories', 'make a favorite list of job using PHP and MYSQL', \"Parent UIViewController Orientation Shouldn't Change After Dismissing the Child\", 'how to use jquery file upload angular version?', 'How do I fast foward branches without switching to them?', 'Managing database connectivity with ADO.NET', 'Repeat each value of an array two times (numpy)', 'Help me understand this C code (*(void(*) ()) scode) ()', 'Unity3D - Audio playing getting muted after getting any call/notification on Android', 'Can you set a tkinter background image without adding a new canvas element?', 'using tapply/dapply etc for t.tests', \"Binding a 'IsReadOnly' Dependency Property\", 'Meteor: Sharing/Passing Variable Between Controller and Helper (diff files)', 'Google Dart Simple Contact form', 'Loop invariant of linear search', 'How do I add an element to a list in Groovy?', 'DbAcl::check() - Failed ARO/ACO node lookup in permissions check.', 'Rotating coverflow effect', 'How to create multiple objects from a class with different variables?', 'How to store DbType.Time from c#', 'Custom keyboard clear button', 'Test class extending test class in dependency module', 'Error while making CLucene for Max OS X 10.10', 'Bind to docker socket on Windows', 'give type to anonymous type in linq query', 'Bigger image for first item of the gridview android', 'Form is submitting the Array instead of the wanted field in CakePHP', 'Proper groovy script for sum of fields in Elasticsearch documents', 'Monitor network usage of a process', 'PHP SCRIPT issue with passing the uploaded image to facebook->api function', 'Cocoon and has_one association', 'Bad performance (stuttering) with Windows Phone 7 Page Transitions', 'Datagridview enter key selects next cell from next row', 'Search and then delete depending on whether files contain a string', 'Beautifulsoup Exception list out of range', 'Footer. It overlaps on div', 'How to get the semantic orientation of String or adjectives by using SentiWordNet', 'Visual Basic Regular Expression Question', 'Jquery validate file ext on upload', 'CKEditor paragraph spacing issue', 'boost::shared_ptr and nullptr in default template function argument', \"Enemy Script Isn't working properly on my Tower Defense game c#\", 'TFS Build fails on Specifying Drop folder location', 'Formatting a numeric field to fixed length in crystal reports', 'Is there a framework/app for testing distributed systems or just network apps?', 'async/await for Worker', 'ComboBox bound to ICollectionView is displaying incorrect SelectedItem', 'How do I implement multiple argument generation using FsCheck?', 'Universal Analytics Custom Dimensions with Multiple Trackers - Old tracker recording User-Level Scope Dimension', 'SSLSetup on Amazon Linux: SSL Error, Multiple certificates provided', 'Firebird 2.5.6 romanian collation for UTF8 charset', 'How to implement builder pattern with fluent-interface with immutable results and extended interfaces?', 'Why did Rails Active Record migration generate COLLATE utf8_bin on varchar columns of mysql', 'Assign Topic in chm file', 'How do I get a stack trace using the ruby debugger?', \"ef7 unable to retrieve child collections' child object's properties\", 'C# JSON Post From JavaScript', 'simple sentiment analysis with java', 'dynamic allocation of more than 1 dimensional array', 'jQuery works on my page, but firebug says $ is not defined error. Why and how to avoid it?', 'How reliable is h2 database?', 'Scrapy How to check if certain class exists in a given element', 'Using Workflow Foundation to define flow of asp.net pages', 'Add precompiled dynamic library to APK when using QBS build system', 'Connecting mssql using php in linux server', '2 states roundable numeric text box with knockoutjs', 'a href in FT InfoWindow not working as I would like', 'How can I do point-to-point messaging in Bluemix using MQ Light?', 'My javascript web workers are dying silently at random places. How can I debug this?', 'Docker compose - secrets Additional property secrets is not allowed', \"NUnit - Loads ALL TestCaseSources even if they're not required by current test\", \"What's MySQL's string compare rule?\", 'Python: Using Excel CSV file to read only certain columns and rows', 'Creating a jump function', 'auto-increment using loopback.js and MongoDB', 'How to go to next screen of an app using appium?', 'CSS3 Rotate on animated element causing click event not to invoke', 'datagridview keypress event for adding new row', 'Subtypes vs Derived Types in C++', 'asmx service work regular but not async', 'Intellisense on wstring displays: npos = 18446744', 'After update from vs15 to vs17 660 errors appeared', 'Is there a better HTML escaping and unescaping tool than CGI for Ruby?', \"Can't add content on pages using webform template in Umbraco\", 'Xcode crashes when i run the app on my real device', 'How to set a custom UIToolBar always in the front and top of the application?', 'How can I use the mongolab add-on to Heroku from python?', \"I want to initialized every jtabbedpane's JTextarea with a new dynamic name?\", 'jquery: maskedinput plugin not playing nice with validation plugin', 'CSS Conditionals for WebKit Browsers', 'How to check if an NSMutableArray contains an object which contains certain text?', 'RxJS: Share() an Observable & Emit Last Value to each new subscriber', 'how to load unstructured non-queryset data with django-tables2', 'How to search a video using youtube api', 'div width height according text?', 'Jenkins node connection troubles', 'unexpected behavior in core.logic conjo goal', 'Calling an extension method on a member variable of type T of class<T>', 'Clear CSS menu hover state on click (page loaded via ajax)', \"Field 'x' doesn't have a default value\", 'Compatibility issues in swing drawing app OSX/Windows', 'glMapBufferRange() is slow and memcpy() of the mapped data is also slow on Android', 'Finding a control in TemplatedWizardStep', 'WPF how to easily chain animations in code behind?', 'Connect to remote MongoDB instance from ASP.NET', 'What does --net=host option in Docker command really do?', 'Inject database context into classes using interface', 'dojo tree custom icons', 'Add a choicefield to search_fields in django admin', 'iOS app is rejected as \"Spam\"', 'getElementsByTagName results in NullPointerException', 'Combining Parsley.js validation with the malsup jQuery form plugin', 'Laravel 5.2 - Updated and Route group Middleware now is no longer called', 'C# Component collection property not serialized when filled from property setter', 'How to enable bokeh tools in a pyqt QWebview', 'How to pass JavaScript value from View to Controller?', 'BlueZ version in Android Honeycomb', \"How do I ensure nicely formatted HTML when I 'view source' on the browser?\", 'C# Socket BeginReceive / EndReceive capturing multiple messages', 'Retrieve info from MongoDB using C#', 'Invalid read/write of size when alloc', 'Why is assigning a value to the variable \"let\" possible?', 'Is there any way to force https for some pages in spring-security?', \"zClip don't work - multiple copy to clipboard JS\", 'ArangoDB - Executing AQL using java driver 4.0.0 using filter returns null', 'How to add an attribute to a field a many-to many-field selected entry of a model which is inline in django 1.2?', 'ASP.NET oData patchValue received from Angular is nothing', 'Hard Code List of Years?', 'Is it possible to access the state of a trigger in Angular2?', \"JsonConvert throws a 'not a valid integer' exception when deserializing to a double\", 'Use a Gnuplot variable instead of Bash Variable in a bash script + gnuplot script', 'How to make a query linq check date is in month, quarter or a year', 'Android app installation: Unknown failure (Failure - not installed for 0)', 'How to include the GroupBy() elements in Select() in Linq to Sql query', 'Does iPhone OS 3.0.1 ruin your development phone?', 'htaccess Rewrite URL Without .php Extension To File', 'NodeJs receive UDP numbers in ugly binary format', \"Failed to execute 'importStylesheet' on 'XSLTProcessor': parameter 1 is not of type 'Node'\", 'ClickOnce Error, Cannot activate a deployment with earlier version', 'Dynamically creating checkboxes', 'Is Selenium 2.0 waiting for element / page to load?', 'Developing Cordova plugins for Firefox OS', 'Implementing a \"Singleton\" like feature using internal', 'CSS Right Margin Does Not Work Inside a Div With Overflow Scroll', 'sql query to get distinct rows in let table in simple two tables', 'Connecting my Android phone to the DDMS SDK utility', 'Google Charts - switch between table and chart view', 'MVC Restful routing and returning Views', 'WPF UpdateSourceTrigger', 'How to launch a LWUIT form from a LCDUI form?', 'How do I remove from the beginning to the 2nd specific character of a string?', 'Create dynamic checkbox in UIWebView', 'Azure-cli installation failed', 'Uncaught SyntaxError: Unexpected token < VM105:17Uncaught ReferenceError: System is not defined', 'org.hibernate.StaleStateException: Batch update returned unexpected row count from update [0]; actual row count: 0; expected: 1', 'Show div based on selected checkboxes', 'Fullcalendar week view has unrecognized character', 'How to visualize embedded derby database?', 'Hyperlink URL causing resource not found error', 'List view item having multiple buttons', 'Android AWS S3 video upload occasionally does not work', 'Soft keyboard \"del\" key fails in EditText on Gallery widget', 'Compare two List<string> and print the duplicates', 'Need to pass string with newline character from Unix shell script to sql query', 'Correct way to initialize a NULL-terminated array of strings in C', 'How can i run this program in parallel', 'Exporting order details magento', \"Bokeh's equivalent to matplotlib subplots\", 'TypeScript type checking on type rather than instance', 'componentdef error with ant', 'How to setup Quartz.NET for scheduling Emails', 'HTML <tr> on double click show new messagebox containing table format', 'Getting the name or ID of the User Name TextBox from an ASP.Net Login Control', 'Context Free Grammar for which a RegEx is impossible', \"How to remove entire substring from '<' to '>' in Java\", \"Red5 demos don't work\", 'How to change the background color of a non selected cell in JavaFx 8 table view', \"Android Bitmap setPixel doens't work correctly? (set value, then read a different value)\", 'Attach Database using Management studio points to the wrong file path for the log file', 'Growing memory usage in MATLAB', 'I have issue about the design view of windows phone 8 in blend&visual 2012', 'get Phone Number from Facebook', 'Error in SendGrid on Heroku cedar stack', 'Mac OSX PHP and XAMPP path issue', 'Sharing data between Elastic Beanstalk web and worker tiers', 'Reroute query string using friendlyUrl', 'Simultaneous events', 'Inserting a checkbox via jQuery stops the form to submit on webkit', 'Memory versus Speed in Javascript Web Applications', 'Missing \"libiconv.h\" when crosscompiling for Windows with mingw on Ubuntu', 'How to setup a JMX Notification Listener?', 'IllegalStateException: Cannot convert value of type to required type', 'HTML5 video background in Android showing black', 'CORONA: timer.cancel() returns \"Attempt to index a nil value\"', 'D3js code when called twice duplicates the graph instead of refreshing', 'What is the shortest way of converting any JavaScript value to a string?', 'how should I use the velX,velY information to get the displacement in X and Y between current frame and previous frame?', 'How to detect headset button double click in HTC phones with broadcast receiver?', '(Java) Check array for increasing elements', 'Toast notifications only pop up if the app is being activated', 'Add totals from rows that are otherwise identical', 'Auto select item on JavaFX ComboBox after KeyPress', 'Why is Ebean not loading field project from ZenTasks example application?', 'Compile error on serializing boost::unordered_set', 'C++ A method that returns the decimal value as an integer of a binary that is represented with a boolean array', 'Using SetThreadAffinityMask function imported from kernel32.dll in C # code', 'Change tab names in app', 'apache rewrite: force https and name of server, not IP', 'Is it possible to generate a global list of marked strings at compile time/runtime?', 'PHP Content-Length header not working', 'How do I tell if the ObjectDataSource OnSelected event was called for the selectmethod or selectcountmethod?', 'set background image in Jlabel (Label) box with dynamic text', 'Errors with json_decode, array and foreach', \"Action Script 3. Timer starts count when I'm in menu, but game not started\", \"How to download a file with it's name using curl (C++ or D)\", 'query error on search result of a xml file', 'What do they mean when they say LINQ is composable?', 'How to render a Javascript and CSS for desktop devices only with client side solution?', 'SqlAlchemy Oracle DataTime format', 'Keyword sorting algorithm', 'Writing to textbox in another process in Win32 (c++)', 'How to access spring jpa references in json', 'passing variables to sed command', 'How to send a data from arduino uno to a webpage through esp8266 wifi module?', 'enums inside a struct - C vs C++', 'Binary Tree type constructor in Haskell', 'How to add an error to a constraint in form?', 'Java - Take text from file and assign matching parameter text to matching object', 'negative integer/float decimal number to signed hex and octal in standard C code', 'Programmatically append Swagger operations to generated JSON', 'HTTP Error 500.19 - Internal Server Error', 'Can we return any class object to Interceptor from action class', 'Cannot find existing package', 'Displaying an ArrayList with and without sorting?', 'Foreach group and subgroup dynamic loop', 'Display Images from internet in a windows phone 7 app?', 'Garbage collection with a very large dictionary', 'PHP - Simplest Way to Post & Display', 'NSCoding crash on encode only on 64bit devices', 'highchart mysql jason with dropdown select value for where condition', 'WPF Data binding C# in xaml', 'Making a content div fill the space between a variable height header and fixed height footer', 'What are some viable alternatives to BizTalk Server?', 'Bluebird Promise.any() early reject?', 'How to make non-blocking raw_input when using eventlet.monkey_patch() and why it block everything, even when executed on another thread?', 'How Can I Make These Links Rotate in PHP?', \"I18n and Passwords that aren't US-ASCII, Latin1, or Win1252\", 'How to add a peridic timer callback in a linux kernel module', \"Hide all div's except one\", 'How can I calculate pi using Bash command', 'Gson with dynamic objects', 'Convert iOS project to 64 bit using ConvertCocoa64 script', 'Material 2 - autocomplete not showing options', 'Laravel Valet not working. 127.0.0.1 Connection Refused', 'How to check column is virtual in Oracle?', 'Search functionality result should be in the same page in Rails', 'Importing values from one window to another in MATLAB GUI', 'how to read sql server mdf header for log file information programmatically in c#', 'Display progress while restoring database in linqpad with reative extensions', 'How to invoke a remote REST service in NiFi', 'Using Ajax to render partial view, taking an object as parameter', 'PHP fread() Function Returning Extra Characters at the Front on UTF-8 Text Files', 'How can I call a webservice from C# with HTTP POST', 'Why is there a visible gap between adjacent DIVs on iOS Safari?', 'Doxygen and Objective-C categories', 'How to send personal message to my Facebook friends in iOS SDK', 'Slicing NumPy array with dictionary', 'Should a class constructor return a subclass?', 'How can I programmatically set column filters?', 'Stackoverflow exception in JSON.net', 'Xcopy to multiple folder into subdirectory', 'Retrieving the length of a list in MongoDB', 'Android Database Access Design Approach', 'parse XML Subfolders in to iphone', 'Is 1 Session Token enough for multiple Ajax Request?', 'LNK2005: \" already defined error', 'Get element width in px', 'StreamWriter 64512 character limitation', 'Fixed Header & Footer not working in JqueryMobile', 'call a function when the program is finished with ctrl c', \"when implementing a binary search in Java, is using ArrayList.sublist considered 'in place'?\", 'Google+ Domains API 404 Not Found error', 'File name matching with -e and regular expressions in perl', 'Issue setting up Android SDK - Failed to Start Emulator', 'How to read Logback configuration file from path outside the war file?', 'Display multiple tables in datagrid', 'Mocha + React: navigator is not defined', 'matlab: eigs appears to give out inconsistent results', 'Passing lxml output to BeautifulSoup', 'Pass an array of objects with function to directives', 'Cocoapods Completely Broke', 'Reading/editing IndexedDB data for IE11', 'css ie6 sprities image not showing using inline-block', 'why is 5 the default number of connections in the rails database connection pool?', 'How can I make my elements fade in and out as their display attributes are changed in Javascript?', 'Jaggies text when fillText in canvas in chrome', 'Window_Load event in MVVM', 'Use calc() in transform:rotate()', 'Speed of many regular expressions in python', 'Notification placement on website with notify.js', 'image size limit on iPad?', 'How to remove whitespace in a list', 'Generate a dynamic ul li List from DB', 'Shopping cart program', 'Error Importing Jar to Android Project', 'Convert Varied Text Fields of Duration to Seconds in Pandas', 'How to POST empty <select .. multiple> HTML elements if empty?', 'How does Erlang heart work?', 'Fix spurious rspec \"photo can\\'t be blank\" failures for Carrierwave', 'how have different background images for different times in the day', 'Creating a loading Arc in C# (WPF)', 'some clang-generated assembly not working in real mode (.COM, tiny memory model)', 'Handle tunneled custom routed event', 'Android app Listview cannot be scrolled to bottom to search a specific element using appium in java', 'How to use boto.manage.cmdshell with ssh-agent?', 'How to create URL Link outside UI Project?', 'Proximity searching phrases with root expanders in Solr or ElasticSearch (especially websolr or bonsai.io)?', 'What is localStorage?', 'The easiest way to replace white spaces with (underscores) _ in bash', 'Not Able To Add A New User To An Existing Account Using Management API', 'In Emacs, how do I display a message in the minibuffer with font face properties?', 'codeigniter validation should work only when array of email id is not empty', 'Why does Phalcon 2 raise \"undefined symbol: php_pdo_get_dbh_ce in Unknown on line 0\" warning?', \"How to solve undefined method `to_key' for #<Book::ActiveRecord_Relation:0x007fb709a6a8c0>?\", \"TypeScript 0.9.* VisualStudio TS5037: Cannot compile external modules unless the '--module' flag is provided\", 'Cannot get my bootstrap rows on the same line', 'RInside on Mac OS X', 'Communication between two modules in AngularJs', 'iframe scrolling on the iphone', 'TURN Server use https connection for the admin session', 'IOUtils.copy fails 2nd time', 'print copyright symbol in TextView', \"How does codeigniter's load work?\", 'How to create Windows Phone 7 SMS textbox', 'Mock GPS location and Chrome for Android', 'What was Tim Sweeney thinking? (How does this C++ parser work?)', 'Init a class with one argument using objc_msgSend', 'SQL Server Management Studio Schema View', 'C++11 for windows XP SP1', 'Invalid Cast DateTime?', 'How to implement clock frequency multiplier using VHDL', 'Send an email from an iPhone app containing an img tag', 'Regex which ignores comments', 'How to implement AVAudioPlayer Inside Singleton Method?', 'How do I get rid of the gap left by an relative positioned div in Firefox?', 'What is a good method of persisting application properties?', 'Simple way to hook registry access for specific process', 'ember.js show default nested route if none provided', 'Using transform() and calc() in firefox', 'twisted passing certificate to ssl handler', 'Processing items in SQS queue with a php script', 'Dirty Reads in SQL Server AlwaysOn', 'Looping through generic object properties', 'Why is Cocoapods complaining about the embedded content contains swift setting in the build settings?', 'Using PHP & cron how can i inform  a user that he has got 15 days more left to pay his amount?', 'MVC 5: Should I inherit my User from IdentityUser class?', 'Preserve the tab spacing and white spaces in attributes of XML', 'Is it possible to refresh a timer in a Today Widget?', 'Jenkins copy files between 2 Server', 'app is crashing when i try to release nsmutablestring please help on this', 'Custom UIView iboutlet not set', 'How can I achieve float left at bottom and float right at top with css flexbox?', 'shell_exec() returning null on \"ls\"', 'How to do an XOR of the binary forms of all integer items in a list', 'Passing Form OpenArgs errors as NULL?', 'Getting quoted string using ContentValues for insertOrThrow', \"is there an 'afterShow' on jQuery UI datepicker?\", 'cell computation for tablesorter', 'accumulation curve in R', 'php script running on apache', 'NSString to NSData Failing in Encoding', 'How to match a crash\\'s \"Fault offset\" to the source code?', 'How to get the total number of subscribers from start date to current date?', 'sbt unresolved dependency for spark-cassandra-connector 2.0.2', 'how to remove the save button in odoo 10?', 'Explicit instantiation of a templated class and dynamic_cast in a shared library', 'Restrict keypress in wpf textbox', 'Rails - how to send some information from one form to other controller', 'Using Filemerge how to you get to see the lower pane. The one with the results in?', 'web.go install error', 'How to update the different XML element simultaneously by multiple users in single XML file?', 'Bootstrap Carousel does not work', 'Formatting textfield based on currency style', 'TCL : what is the major drawbacks of source command over package command', 'How to Declare Complex Nested C# Type for Web Service', 'JmsTemplate - define concurrency per queue?', 'Debug+Unplug vs RUN Android', 'Get configured wifis with ADB', 'Errno::EPERM (Operation not permitted FILE_PATH) when uploading image with Rails, Carrierwave, Amazon EC2', 'how to change xcode app icon?', 'adding multiple columns to a data.table, where column names are held in a vector', 'Find the date difference in ElasticSearch', 'Yii2 has many or where', 'Compare array values with others values from the same array', \"Create appointment via Exchange Web Services, set extended property only on organizer's instance\", 'Bokeh - how to update ColumnDataSource to plot streaming line graph using periodic callback', 'how to get selected rows in QTableView', 'Delphi-XE4 understanding threads count', 'Visual Studio Report Designer: Embed font', 'Facebook like button statistics', 'SQL - One record per date', 'Passing Parameters between xaml window and usercontrol WPF', \"Password field <p:password> Value Won't Re-Appear In Form After Saved And Selecting That Row From Data Table\", 'Extjs:Assign value to hiiden field from store', 'Workaround for external API which does not have CORS enabled?', 'How to edit epub file content with PHP', 'How do you handle an aggregate root with a collection of child entities whose update frequency is different than the root?', 'Change Select value using GWT Uniform.js', 'Redirect to action passes null instead of object', 'Convert Begin and End Coordinates into Spatial Lines in R', 'Using the Windows.Media.Speechrecognition namespace in a Qt C++ application', 'Table View Cells \"jump\" when going back from View Controller to Table View Controller', 'Positioning Toolbars in Eclipse/RCP', 'Redirect simple url to https in php codeigniter', 'Chrome Extension with Database API interface', 'Testing a web based application on Iphone', 'RSA encryption AND decryption with JS AND PHP', 'Sort Options in a Select List with javascript/jQuery.. but not alphabetically', 'Output tabular data with IO.ANSI', 'Binding Attached Behaviour from code', 'Set zebra list after javascript filtering', 'Externalizing JPA Mappings Configuration', 'MemoryStream Seek, Needed After Instance Creation With Buffer?', 'Building QGIS source code on Windows 7 - Not working', 'How to add/remove many-to-many relation with entity framework by entity key?', 'Choosing cloud storage service with web API can FTP third party server', 'How to pass text with new line as parameter to a bat file?', 'How can I populate an associative array with a variable name in bash?', 'Using map in Python', 'unable to apply three.js texture to JSON model imported from blender', 'XPS Viewer will not open document created using .NET printer Graphics object?', 'Comparing value to that of previous row depending on different field', 'Anomaly in GNU Prolog `delete/3` predicate?', 'Zend Php ORA-02391', 'Stream a PDF to a web page failing', 'Counting the frequencies of bases using for loop and substr in perl', 'Angular slotted transclusion with attributes', 'Kerberos/SPNEGO : multiple SPNs for the same AD account', 'React es7 static childContextTypes unexpected token', 'Simultaneous HttpClient request using multiple AsyncTasks', 'PHP extension install - phpize error - on NGINX/PHP-FPM', 'Redirect only WordPress homepage with a 301 redirect', 'Convert unicode to string', 'Disabling specific cell edit in DataGrid', 'Python and Regular Expression Substring', 'Workflow for Using Django South with Multiple Code Branches', 'How to dynamically generate CSS file from database in ASP.NET MVC', 'CLLocationCoordinate2D without knowing how many will be in the array?', 'Castle Windsor: How to register by convention with delegate method?', 'How to apply segment using Google Analytics .NET client', 'Is there a way to redirect the browser from the bootstrap in Zend Framework?', \"GWT RPC can't instatiate class on server side\", 'Load website in iframe dialog, jquery', 'How to execute code when textField content changes?', 'Recursion in C confusion', 'Find Leaflet map object after initialisation', 'WM_GETREDRAW available?', 'Javascript: Round Time UP nearest 5 minutes', 'Fatal Error Msg', 'New line character in VB.Net?', 'Finding all indices for certain input', 'Call function on jQuery show()', 'Hex sum algorithm', 'Run PHP using AJAX in Laravel', 'Eclipse hangs when trying to debug clojure project', 'MVC2 how is <%: tag different to <%=', 'What is the default PHP configuration?', 'How to copy entire directory structure?', 'Laravel Error on Repopulating: htmlentities() expects parameter 1 to be string, array given in', \"Threaded Beans doesn't get Environment @Autowired to them in Spring when using JSR330 Provider\", 'Sorting and Limiting data in MySQL', \"Same versions of Office.js hosted on 'beta' and '/1/'?\", 'SAX2 (Xerces-C): How to get the line number of parsed tags?', 'LVM_GETITEMPOSITION', 'regex match string replace in new string (notepad )', 'Android ImageView drag and drop positioning', 'Where I can find a place id on google maps', 'categories is undefined - rails', 'backbone: better way to template?', \"Where's my stderr going?\", 'Java Spring - Redirect page to \"outage\" based on db cell value.', 'Is there a way to open the Duplicate Detection window in CRM using javascript and without saving the record?', 'Energy efficiency on CPU utilization', 'Using same hibernate mapping files across multiple projects', 'Linq to XML query not picking up any values', 'pyqt: controlling a border widget', 'I am searching for the PowerBuider Foundation Classes User Guide. Preferably PDF to download', 'CodeIgniter - get error messages', 'How to read logback configuration file from system environment in tomcat 7', \"jQuery Ajax file upload : Required MultipartFile parameter 'file' is not present\", 'read xml from jsp', 'Adding objects to an array and then showing in a table', 'How do you write an exception without revealing sensitive information?', 'Wordcount example using Apache pig', 'How to know the which activity is ruuning in windows phone 7?', 'how to get log messages from ios app', 'Formula to divide data from one cell equally into multiple cells', 'Multiply two int arrays', 'Connection string error using membership provider from WCF service', 'Java : How to access UNC location', 'Permission denied to access property \"invoke\"', 'MvvmCross services from another assembly, not MyApp.Core', 'Why we should always return values from a function?', 'Updating iTunesArtwork and screenshots for published app', 'How to pass a Javascript variable to Twig in this particular example', 'Zebra-striping nested lists with CSS', 'AngularJS - Create a login page with a totally different layout', 'How to drop rows by name pattern in R?', 'Summarizing rows in a Pandas DataFrame', 'Equivalent of Hibernate SEQUENCE in Sybase ASE 15.5', 'recreating iOS SMS/Facebook Messenger text bubble tail', 'Border Image Confusion', 'How to build a numpy array row by row in a for loop?', 'WPF validation not working as expected', 'Change Tab view after certain time interval received as response from Server request', \"Can all 'for' loops be replaced with a LINQ statement?\", 'Seconds into time elapsed in JS', \"can't override class file in module in prestashop\", 'MOMC error in xCode 6.2 beta', 'Using a fragment as a ListView header in only one orientation', 'How to use unapi for biliographic in drupal', 'WinForms Data Binding Entity Framework 6', 'String masking: Confoming text to a given mask', \"Removing rows which contain all 0's in r\", 'how to add 2 background images on the sides of the page', 'Beginning and end of the string in Emacs regexps', 'multiple gremlin commands combined as one', 'SQL join, sum, group-by and instead of null 0', 'How to check cursor is on newline or not in ckeditor 4.x', 'Filter array result with mechanize', 'How to remove � character while parsing xml file in android', 'LINQ to Json data retrieval from polymorphic json', 'Running native code on Azure', 'Bootstrap3 Navbar fill content', 'Does SQL Server Compact (CE) support a RequiresNew transaction scope inside another one?', 'How to redirect a URL containing smartquotes via .htaccess?', 'Accordion open when page loads', 'Zurb foundation more than one joyride', 'Is there something like $this->db->matched_rows() in CodeIgniter?', 'C# LinqToSql SubmitChanges() does not update, even though PK is set', 'How to completely remove vitualenv?', 'Java rotate an image in the center', 'why do `#!/usr/bin/env var=val command` gets into an infinite loop', 'OpenTBS - Strategy for dynamic number of row, column generation in excel template (used for chart data)', 'Error installing Frama-C with opam (Ubuntu 14.04 LTS)', 'How to configure jacoco for integration tests written in jersey test framework', 'Video chat application : Which technology to choose?', 'A strange error in java generic', 'Pandas Split Column', 'How to add dynamically created tables to SQLFORM in web2py', 'A separate thread freezes while sending HTTP sequests', 'converting javascript array to a dropdown - jquery', 'Spring jpa modifies column names', 'Country, state list for SQL Server', 'server side control in MVC', 'java not saving ints correctly', 'Size of menu dependent on screen resolution', 'Add PHP API documentation to vims balloonexpr', 'How best to access current_user devise helper in backbone', 'how do I generate histogram output from an array in Java?', 'Modify dynamically a rdlc report (c#)', 'Delphi XE4 64bit _TExitDllException', 'java.lang.IllegalArgumentException: Failed to find configured root that contains /storage/emulated/0/Pictures/', 'how to use CSPARQL-ReadyToGoPack-0.9 in a SBT project', 'ClassNotFound exception during deploy', 'Dictionary Help! Extracting values and making a table', 'Permission to provision new site collection through workflow', 'How to Retrive Apple App Store Rating Details', 'converting UTF-8 string to ASCII in pure LUA', 'Retrieve rails/devise current_user from Backbone', 'How to create dynamic dependent list in Excel VBA?', 'Mysqli query return empty results', 'Finding the shortest path between 2 points namely S and G?', 'Input to print output', 'NHibernate - Paging with ICriteria and optional ICriteria calls', 'Oracle adding trailing whitespace to my to_char(date)', 'variable passing -v in awk not working', 'Routes in DART, s server required?', 'Why does the Server need access to Kerberos?', 'JQuery > ScrollTo > highlighting the item that was scrolled to', 'How to get the package name from JNI to Android?', 'How to use or condition in serverspec?', '7-Segment display control using Microprocessor', 'Newly installed IIS. Aspx page not getting displayed', 'Finding string length without using strlen and using function in C', 'force LinqToSql to submit', 'makedepend missing?', 'Array implementation on FPGA using VHDL', 'Would you implement a lightweight XML parser with <regex>?', 'Differentiating division from regex when lexing gawk code', 'Mssql query exec returns error', 'C# ASP.NET SQL Data Source', 'Webpage Fitting To Every Screen Reslution', 'Find the path of a local file or directory in javascript', 'What is the recommended way to append to files on HDFS?', 'UML modelling tool for php', 'Jacoco.exec file not being picked up by Sonar in Jenkins', 'WPF : Is it impossible to UI load in background thread?', \"CodeIgniter doesn't see images (using file_exists)\", 'SQL Server real/float precision changing during SSIS import to MS-Access database', 'How can I easily maintain a cross-file JavaScript Library Development Environment', 'Passing arguments to execfile in python 2.7', 'Runtime error of Console()', 'Is android.view.View touched now?', 'Play MP3/WAV files without using libraries?', '@ManyToMany relation not save', 'How to have margin on extended page tablix with SSRS', 'Can we export multiple non-AMD functions from a module in requirejs?', 'Distribution of decreasing quantity over X number of days', 'Assistance with Nested Dictionary', '-[UIScrollView zoomToRect:animated:] weird behavior when contentSize < bounds.size', 'Appointment.Bind() and Mailbox', 'I want to pull out the number of special characters and the number of vowels in each sentence using a matlab command', 'Setting background color of android actionbar', 'Add an arrow under the active menu item in HTML+CSS', 'Delphi - XE2 code to Delphi7 needed. Using wininet to download a file', 'Carriage Return showing in notepad++ but not textpad?', 'Django SSL for some pages only', \"D3 - Uncaught TypeError: Cannot read property 'length' of undefined\", 'How to check for network reachability on iOS in a non-blocking manner?', 'How do you best convert a recursive function to an iterative one?', 'JQuery use .on() with not selector', 'How to run an application in background for windows mobile 6?', 'Swing GUI Development with Spring', 'Access Get parameter with a scriptlet', 'Exporting HBase table to mysql', 'R extension breaks connection to extensions directory in NetLogo', 'Google App Engine Deployment Failed, \"empty index configuration\"', 'CRON - chown and chgrp to a directory from root user to www-data', 'EaselJS object inspector', 'Applying jQuery Resizable on a dynamically generated html data table', 'Running magento on other port than default 80', 'Liferay: what is the default approach for logging in Liferay?', \"UICollectionVIew : How can i remove the space on top first cell's row\", 'Sort a Delphi dataset', 'Polygon object support in Backand with an external MySQL', 'Multiple JavaFX stages in fullscreen mode', 'matching form input to mysql database value', 'Firemonkey IFMXLoggingService Windows Event Log Location', 'tpl dataflow: fixed buffer size without throwing items away', 'bash- Redirection inside quotes after ssh', 'Fetch 5 Columns and their value from Mysql query and translate into PHP', 'IndexedDB - Dexie JS : Dynamically create stores', 'How to use PackageManager to check if an app is disabled in a method', 'How to show notification on top of screen?', 'Sqlalchemy: Undefined variable from import: metadata', 'ansible: use different logging level for terminal and log file', \"How do I refresh page automatically when partial refresh doesn't work?\", \"TFS - What security would allow me to 'Add files' in one project and not the other?\", 'PHP rest API authentication', 'Displaying or editing data readed from floppy', 'What does the slash denote in postgresql virtual transaction identifiers?', 'Is it possible to create a bubble polar chart with Highcharts?', 'Mako Filter in Chameleon?', 'how to do select all when selected a checkbox', 'ExtJS floating window focus lose detection', 'How to hide the paging row in the gridview when exporting in excel?', 'Error \"No recognizer is installed\" with recognition speech', 'embed json file within d3.js', 'is there any way to create a menu bar using glut?', 'How does waze change objects location with their localization?', 'how to call cross-domain web api using ajax?', 'Printing Entire Contents of WebView in Cocoa, Not Just Displayed', 'JSON arrays with duplicate items with Hamcrest and RestAssured', 'How can I return an array of Promises from a then clause', \"Can't get run my application after installation?\", 'How do websites like torrentz.eu collect their content?', 'how to include google-map in polymer#^2.0 as it was working in polymer 1.7', 'How to change the reference point of an html element?', 'Core data executeFetchRequest consumes huge amounts of memory', 'Daylight Saving Cause an issue on jQuery UI datepicker on Firefox', \"Why can't this macro execute?\", 'How to get linkedin profile follower count', 'How to call protected constructor in c#?', 'Excel VBA / SQL Union', 'Go, Golang : array type inside struct, missing type composite literal', 'Unable to install bower on Openshift', 'Combining jQuery .val() and .contains()', 'CNG, CryptoServiceProvider and Managed implementations of HashAlgorithm', 'NSString writeToFile with URL encoded string', 'Django: Access pre-save object with post-save signal?', 'Custom Merge Function in R', 'Assignment makes pointer without a cast', 'Weird Behaviors of time in Rails application', 'Python-mock: how to test if super() was called', 'setGraphic() not working correctly on recursively created TreeItems', 'Strange behaviour of sscanf with string', 'HTTP method for a WCF Restful Service', 'SubSonic .Filter() in memory filter', 'Does ASP.NET MVC use the regular toolbox controls?', 'How can I render a GSP as a String?', 'publishing ASP.Net MVC 4 Project', 'how to hyperlink to a TFS item from visual studio', 'mutex attribute PTHREAD_PROCESS_SHARED inverts logic?', 'Unable to call SOAP Webservice using jQuery']\n"
     ]
    }
   ],
   "source": [
    "max_validation_examples = 2\n",
    "\n",
    "for i, line in enumerate(tqdm(validation_data)):\n",
    "    if i == max_validation_examples:\n",
    "        break\n",
    "    q, *ex = line\n",
    "    print(f'------------------------------------{i}----------------------------------------')\n",
    "    print(q)\n",
    "    print('----------------------------------------------------------------------------')\n",
    "    print(ex)"
   ]
  },
  {
   "cell_type": "code",
   "execution_count": null,
   "metadata": {},
   "outputs": [],
   "source": []
  },
  {
   "cell_type": "code",
   "execution_count": null,
   "metadata": {},
   "outputs": [],
   "source": []
  },
  {
   "cell_type": "code",
   "execution_count": 328,
   "metadata": {
    "id": "OQonbm4nMenD"
   },
   "outputs": [
    {
     "data": {
      "application/vnd.jupyter.widget-view+json": {
       "model_id": "f091091e34434a7c8dabdf54867f11ee",
       "version_major": 2,
       "version_minor": 0
      },
      "text/plain": [
       "  0%|          | 0/3760 [00:00<?, ?it/s]"
      ]
     },
     "metadata": {},
     "output_type": "display_data"
    },
    {
     "name": "stdout",
     "output_type": "stream",
     "text": [
      "CPU times: user 730 ms, sys: 24 µs, total: 730 ms\n",
      "Wall time: 731 ms\n"
     ]
    }
   ],
   "source": [
    "%%time\n",
    "\n",
    "wv_ranking = []\n",
    "# max_validation_examples = 1000\n",
    "max_validation_examples = 1\n",
    "for i, line in enumerate(tqdm(validation_data)):\n",
    "    if i == max_validation_examples:\n",
    "        break\n",
    "    q, *ex = line\n",
    "    ranks = rank_candidates(q, ex, embeddings_trained, MyTokenizer_obj)\n",
    "    wv_ranking.append([r[0] for r in ranks].index(0) + 1)"
   ]
  },
  {
   "cell_type": "code",
   "execution_count": 329,
   "metadata": {
    "id": "3kahBUPGMgGR"
   },
   "outputs": [
    {
     "data": {
      "application/vnd.jupyter.widget-view+json": {
       "model_id": "6c08001e72a64e58acb4675d3aa78486",
       "version_major": 2,
       "version_minor": 0
      },
      "text/plain": [
       "  0%|          | 0/4 [00:00<?, ?it/s]"
      ]
     },
     "metadata": {},
     "output_type": "display_data"
    },
    {
     "name": "stdout",
     "output_type": "stream",
     "text": [
      "DCG@   1: 0.000 | Hits@   1: 0.000\n",
      "DCG@   5: 0.000 | Hits@   5: 0.000\n",
      "DCG@  10: 0.000 | Hits@  10: 0.000\n",
      "DCG@ 100: 0.000 | Hits@ 100: 0.000\n"
     ]
    }
   ],
   "source": [
    "# for k in tqdm([1, 5, 10, 100, 500, 1000]):\n",
    "for k in tqdm([1, 5, 10, 100]):\n",
    "    print(\"DCG@%4d: %.3f | Hits@%4d: %.3f\" % (k, dcg_score(wv_ranking, k), k, hits_count(wv_ranking, k)))"
   ]
  },
  {
   "cell_type": "code",
   "execution_count": 330,
   "metadata": {
    "id": "a62r11cT6j10"
   },
   "outputs": [
    {
     "data": {
      "application/vnd.jupyter.widget-view+json": {
       "model_id": "c8eac47893094eca9640b966c3e57e54",
       "version_major": 2,
       "version_minor": 0
      },
      "text/plain": [
       "  0%|          | 0/3760 [00:00<?, ?it/s]"
      ]
     },
     "metadata": {},
     "output_type": "display_data"
    },
    {
     "name": "stdout",
     "output_type": "stream",
     "text": [
      "CPU times: user 5.47 s, sys: 0 ns, total: 5.47 s\n",
      "Wall time: 5.47 s\n"
     ]
    }
   ],
   "source": [
    "%%time\n",
    "\n",
    "wv_ranking_2 = []\n",
    "# max_validation_examples = 1000\n",
    "max_validation_examples = 1\n",
    "for i, line in enumerate(tqdm(validation_data)):\n",
    "    if i == max_validation_examples:\n",
    "        break\n",
    "    q, *ex = line\n",
    "    ranks = rank_candidates(q, ex, embeddings_trained, MyTokenizer_2_obj)\n",
    "    wv_ranking_2.append([r[0] for r in ranks].index(0) + 1)"
   ]
  },
  {
   "cell_type": "code",
   "execution_count": 331,
   "metadata": {},
   "outputs": [
    {
     "data": {
      "application/vnd.jupyter.widget-view+json": {
       "model_id": "f5ef26f0cae84a2ea44fe35c0179810e",
       "version_major": 2,
       "version_minor": 0
      },
      "text/plain": [
       "  0%|          | 0/4 [00:00<?, ?it/s]"
      ]
     },
     "metadata": {},
     "output_type": "display_data"
    },
    {
     "name": "stdout",
     "output_type": "stream",
     "text": [
      "DCG@   1: 0.000 | Hits@   1: 0.000\n",
      "DCG@   5: 0.000 | Hits@   5: 0.000\n",
      "DCG@  10: 0.000 | Hits@  10: 0.000\n",
      "DCG@ 100: 0.173 | Hits@ 100: 1.000\n"
     ]
    }
   ],
   "source": [
    "# for k in tqdm([1, 5, 10, 100, 500, 1000]):\n",
    "for k in tqdm([1, 5, 10, 100]):\n",
    "    print(\"DCG@%4d: %.3f | Hits@%4d: %.3f\" % (k, dcg_score(wv_ranking_2, k), k, hits_count(wv_ranking_2, k)))"
   ]
  },
  {
   "cell_type": "code",
   "execution_count": 332,
   "metadata": {},
   "outputs": [
    {
     "data": {
      "application/vnd.jupyter.widget-view+json": {
       "model_id": "abafc103617b4df2bb4e426e9348a3eb",
       "version_major": 2,
       "version_minor": 0
      },
      "text/plain": [
       "  0%|          | 0/3760 [00:00<?, ?it/s]"
      ]
     },
     "metadata": {},
     "output_type": "display_data"
    },
    {
     "name": "stdout",
     "output_type": "stream",
     "text": [
      "CPU times: user 738 ms, sys: 3.89 ms, total: 742 ms\n",
      "Wall time: 737 ms\n"
     ]
    }
   ],
   "source": [
    "%%time\n",
    "\n",
    "wv_ranking_2_1 = []\n",
    "# max_validation_examples = 1000\n",
    "max_validation_examples = 1\n",
    "for i, line in enumerate(tqdm(validation_data)):\n",
    "    if i == max_validation_examples:\n",
    "        break\n",
    "    q, *ex = line\n",
    "    ranks = rank_candidates(q, ex, embeddings_trained, MyTokenizer_2_1_obj)\n",
    "    wv_ranking_2_1.append([r[0] for r in ranks].index(0) + 1)"
   ]
  },
  {
   "cell_type": "code",
   "execution_count": 333,
   "metadata": {},
   "outputs": [
    {
     "data": {
      "application/vnd.jupyter.widget-view+json": {
       "model_id": "91518a5af4754a49b4a1167d90a68a75",
       "version_major": 2,
       "version_minor": 0
      },
      "text/plain": [
       "  0%|          | 0/4 [00:00<?, ?it/s]"
      ]
     },
     "metadata": {},
     "output_type": "display_data"
    },
    {
     "name": "stdout",
     "output_type": "stream",
     "text": [
      "DCG@   1: 0.000 | Hits@   1: 0.000\n",
      "DCG@   5: 0.000 | Hits@   5: 0.000\n",
      "DCG@  10: 0.000 | Hits@  10: 0.000\n",
      "DCG@ 100: 0.159 | Hits@ 100: 1.000\n"
     ]
    }
   ],
   "source": [
    "# for k in tqdm([1, 5, 10, 100, 500, 1000]):\n",
    "for k in tqdm([1, 5, 10, 100]):\n",
    "    print(\"DCG@%4d: %.3f | Hits@%4d: %.3f\" % (k, dcg_score(wv_ranking_2_1, k), k, hits_count(wv_ranking_2_1, k)))"
   ]
  },
  {
   "cell_type": "code",
   "execution_count": 249,
   "metadata": {},
   "outputs": [
    {
     "data": {
      "application/vnd.jupyter.widget-view+json": {
       "model_id": "2ed1b43f466244a5a957b693e23d0f7c",
       "version_major": 2,
       "version_minor": 0
      },
      "text/plain": [
       "  0%|          | 0/3760 [00:00<?, ?it/s]"
      ]
     },
     "metadata": {},
     "output_type": "display_data"
    },
    {
     "name": "stdout",
     "output_type": "stream",
     "text": [
      "CPU times: user 541 ms, sys: 8.02 ms, total: 549 ms\n",
      "Wall time: 537 ms\n"
     ]
    }
   ],
   "source": [
    "%%time\n",
    "\n",
    "wv_ranking_3 = []\n",
    "# max_validation_examples = 1000\n",
    "max_validation_examples = 1\n",
    "for i, line in enumerate(tqdm(validation_data)):\n",
    "    if i == max_validation_examples:\n",
    "        break\n",
    "    q, *ex = line\n",
    "    ranks = rank_candidates(q, ex, embeddings_trained, MyTokenizer_3_obj)\n",
    "    wv_ranking_2.append([r[0] for r in ranks].index(0) + 1)"
   ]
  },
  {
   "cell_type": "code",
   "execution_count": 250,
   "metadata": {},
   "outputs": [
    {
     "data": {
      "application/vnd.jupyter.widget-view+json": {
       "model_id": "191a2211f28d45a59d68745e56fed9ad",
       "version_major": 2,
       "version_minor": 0
      },
      "text/plain": [
       "  0%|          | 0/4 [00:00<?, ?it/s]"
      ]
     },
     "metadata": {},
     "output_type": "display_data"
    },
    {
     "name": "stdout",
     "output_type": "stream",
     "text": [
      "DCG@   1: nan | Hits@   1: nan\n",
      "DCG@   5: nan | Hits@   5: nan\n",
      "DCG@  10: nan | Hits@  10: nan\n",
      "DCG@ 100: nan | Hits@ 100: nan\n"
     ]
    },
    {
     "name": "stderr",
     "output_type": "stream",
     "text": [
      "/home/opv002/miniconda3/envs/test_env/lib/python3.10/site-packages/numpy/core/fromnumeric.py:3504: RuntimeWarning: Mean of empty slice.\n",
      "  return _methods._mean(a, axis=axis, dtype=dtype,\n",
      "/home/opv002/miniconda3/envs/test_env/lib/python3.10/site-packages/numpy/core/_methods.py:129: RuntimeWarning: invalid value encountered in scalar divide\n",
      "  ret = ret.dtype.type(ret / rcount)\n"
     ]
    }
   ],
   "source": [
    "# for k in tqdm([1, 5, 10, 100, 500, 1000]):\n",
    "for k in tqdm([1, 5, 10, 100]):\n",
    "    print(\"DCG@%4d: %.3f | Hits@%4d: %.3f\" % (k, dcg_score(wv_ranking_3, k), k, hits_count(wv_ranking_3, k)))"
   ]
  },
  {
   "cell_type": "code",
   "execution_count": null,
   "metadata": {},
   "outputs": [],
   "source": []
  },
  {
   "cell_type": "markdown",
   "metadata": {
    "id": "tY8PxB0j-ThG"
   },
   "source": [
    "### Замечание:\n",
    "Решить эту задачу с помощью обучения полноценной нейронной сети будет вам предложено, как часть задания в одной из домашних работ по теме \"Диалоговые системы\"."
   ]
  },
  {
   "cell_type": "markdown",
   "metadata": {
    "id": "vymVj8IxO2PO"
   },
   "source": [
    "Напишите свой вывод о полученных результатах.\n",
    "* Какой принцип токенизации даёт качество лучше и почему?\n",
    "* Помогает ли нормализация слов?\n",
    "* Какие эмбеддинги лучше справляются с задачей и почему?\n",
    "* Почему получилось плохое качество решения задачи?\n",
    "* Предложите свой подход к решению задачи.\n",
    "\n",
    "## Вывод:\n"
   ]
  },
  {
   "cell_type": "markdown",
   "metadata": {
    "id": "emODHztAQUQz"
   },
   "source": []
  }
 ],
 "metadata": {
  "colab": {
   "collapsed_sections": [
    "BIWqBuEa6j0b",
    "uS9FwWNd5a3S",
    "MQk_rolFwT_h",
    "ai48-5vv6j1d",
    "Y60z4t6W6j16",
    "0sUSxk866j1_",
    "J5xWOORI6j2F",
    "tHZqgDTo6j0i",
    "ySQQp0oQt1Ep",
    "LL6_Rjg3InL8"
   ],
   "name": "[homework]simple_embeddings.ipynb",
   "provenance": []
  },
  "kernelspec": {
   "display_name": "Python 3 (ipykernel)",
   "language": "python",
   "name": "python3"
  },
  "language_info": {
   "codemirror_mode": {
    "name": "ipython",
    "version": 3
   },
   "file_extension": ".py",
   "mimetype": "text/x-python",
   "name": "python",
   "nbconvert_exporter": "python",
   "pygments_lexer": "ipython3",
   "version": "3.10.13"
  }
 },
 "nbformat": 4,
 "nbformat_minor": 4
}
