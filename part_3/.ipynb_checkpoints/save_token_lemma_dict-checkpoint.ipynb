{
 "cells": [
  {
   "cell_type": "code",
   "execution_count": 1,
   "id": "0fcb5dec-fa7a-419d-a299-5a9f2af871df",
   "metadata": {},
   "outputs": [],
   "source": [
    "from nltk.tokenize import WordPunctTokenizer, RegexpTokenizer\n",
    "from nltk.corpus import stopwords\n",
    "from nltk.stem import PorterStemmer, SnowballStemmer\n",
    "import string\n",
    "\n",
    "import numpy as np\n",
    "import re\n",
    "\n",
    "from sklearn.metrics.pairwise import cosine_similarity\n",
    "from copy import deepcopy\n",
    "import spacy"
   ]
  },
  {
   "cell_type": "code",
   "execution_count": 2,
   "id": "082aecef-302d-4169-9637-4a27a24bb2e7",
   "metadata": {},
   "outputs": [],
   "source": [
    "nlp = spacy.load(\"en_core_web_sm\", disable=['ner', 'parser', 'textcat'])"
   ]
  },
  {
   "cell_type": "code",
   "execution_count": 3,
   "id": "0e887674-8329-433b-afa6-94e6adf190f7",
   "metadata": {},
   "outputs": [],
   "source": [
    "def read_corpus(filename):\n",
    "    data = []\n",
    "    for line in open(filename, encoding='utf-8'):\n",
    "        '''your code'''\n",
    "        # data.extend(line.split('\\t'))\n",
    "        data.append(line.strip().split('\\t'))\n",
    "    return data"
   ]
  },
  {
   "cell_type": "code",
   "execution_count": 4,
   "id": "c9c1677c-10df-4616-9468-d3968cbca61e",
   "metadata": {},
   "outputs": [],
   "source": [
    "validation_data = read_corpus('./data/validation.tsv')"
   ]
  },
  {
   "cell_type": "code",
   "execution_count": 5,
   "id": "9a87a1d1-d6ba-476c-b1d9-eb963d5df430",
   "metadata": {},
   "outputs": [
    {
     "name": "stdout",
     "output_type": "stream",
     "text": [
      "3760\n",
      "1001\n"
     ]
    }
   ],
   "source": [
    "print(len(validation_data))\n",
    "print(len(validation_data[0]))"
   ]
  },
  {
   "cell_type": "code",
   "execution_count": 6,
   "id": "ad2bed66-f934-49ce-aeed-9ce61a9f2904",
   "metadata": {},
   "outputs": [],
   "source": [
    "tk = WordPunctTokenizer()\n",
    "sw = set(stopwords.words('english'))"
   ]
  },
  {
   "cell_type": "code",
   "execution_count": 8,
   "id": "dd356852-a97e-41ca-a0f8-9ffb89c8dab4",
   "metadata": {},
   "outputs": [
    {
     "name": "stdout",
     "output_type": "stream",
     "text": [
      "---------------------------0------------------------------\n",
      "---------------------------100------------------------------\n",
      "---------------------------200------------------------------\n",
      "---------------------------300------------------------------\n",
      "---------------------------400------------------------------\n",
      "---------------------------500------------------------------\n",
      "---------------------------600------------------------------\n",
      "---------------------------700------------------------------\n",
      "---------------------------800------------------------------\n",
      "---------------------------900------------------------------\n",
      "CPU times: user 5min 34s, sys: 172 ms, total: 5min 35s\n",
      "Wall time: 5min 35s\n"
     ]
    }
   ],
   "source": [
    "%%time\n",
    "\n",
    "max_validation_examples = 1000\n",
    "\n",
    "def fill_token_lemma_dict(data, max_val_ex, sw_list, tokenizer):\n",
    "    token_lemma_dict = {}\n",
    "    # for i, line in enumerate(data):\n",
    "    for i in range(0, len(data)):\n",
    "        if i == max_val_ex:\n",
    "            break\n",
    "        if i % 100 == 0:\n",
    "            print(f'---------------------------{i}------------------------------')\n",
    "        line = data[i]\n",
    "        line_lower = ' '.join(line).lower()\n",
    "        batch_no_sw = [word for word in line_lower.split(' ') if word not in sw_list]\n",
    "        batch_tokens_no_sw = tokenizer.tokenize(' '.join(batch_no_sw))\n",
    "        batch_tokens_no_sw_no_punct = [token for token in batch_tokens_no_sw if token not in string.punctuation]\n",
    "        lemmatization_results = nlp(' '.join(batch_tokens_no_sw_no_punct))\n",
    "        for token in lemmatization_results:\n",
    "            if token not in token_lemma_dict:\n",
    "                token_lemma_dict[token.__str__()] = token.lemma_\n",
    "    return token_lemma_dict\n",
    "\n",
    "token_lemma_dict = fill_token_lemma_dict(validation_data, max_validation_examples, sw, tk)"
   ]
  },
  {
   "cell_type": "code",
   "execution_count": 9,
   "id": "38d5da75-69f9-40f3-a839-2858ff50018b",
   "metadata": {},
   "outputs": [],
   "source": [
    "import json\n",
    "\n",
    "path_to_json = '/home/opv002/py_notes/stepik/Deep_Learning_MIPT_2/part_3/data/token_lemma_dict.json'\n",
    "with open(path_to_json, 'w') as fp:\n",
    "    json.dump(token_lemma_dict, fp)"
   ]
  },
  {
   "cell_type": "code",
   "execution_count": 13,
   "id": "80d1f0a7-5072-4189-a7f4-be98d142e9b2",
   "metadata": {},
   "outputs": [],
   "source": [
    "lemmatization_results = nlp('Some sentence (example)')"
   ]
  },
  {
   "cell_type": "code",
   "execution_count": 21,
   "id": "12c08828-1895-4a7a-b372-cfbc61f49a73",
   "metadata": {},
   "outputs": [
    {
     "name": "stdout",
     "output_type": "stream",
     "text": [
      "Some\n",
      "<class 'spacy.tokens.token.Token'>\n",
      "some\n",
      "<class 'str'>\n",
      "Some\n",
      "<class 'str'>\n"
     ]
    }
   ],
   "source": [
    "print(lemmatization_results[0])\n",
    "print(type(lemmatization_results[0]))\n",
    "print(lemmatization_results[0].lemma_)\n",
    "print(type(lemmatization_results[0].lemma_))\n",
    "print(lemmatization_results[0].__str__())\n",
    "print(type(lemmatization_results[0].__str__()))"
   ]
  },
  {
   "cell_type": "code",
   "execution_count": 19,
   "id": "5590d8bf-803e-4edb-b305-27dd5aa857a7",
   "metadata": {},
   "outputs": [
    {
     "data": {
      "text/plain": [
       "'Some'"
      ]
     },
     "execution_count": 19,
     "metadata": {},
     "output_type": "execute_result"
    }
   ],
   "source": []
  },
  {
   "cell_type": "code",
   "execution_count": null,
   "id": "2ed3b1e3-0bfe-4c0d-9af2-1880e7575445",
   "metadata": {},
   "outputs": [],
   "source": []
  }
 ],
 "metadata": {
  "kernelspec": {
   "display_name": "Python 3 (ipykernel)",
   "language": "python",
   "name": "python3"
  },
  "language_info": {
   "codemirror_mode": {
    "name": "ipython",
    "version": 3
   },
   "file_extension": ".py",
   "mimetype": "text/x-python",
   "name": "python",
   "nbconvert_exporter": "python",
   "pygments_lexer": "ipython3",
   "version": "3.10.13"
  }
 },
 "nbformat": 4,
 "nbformat_minor": 5
}
