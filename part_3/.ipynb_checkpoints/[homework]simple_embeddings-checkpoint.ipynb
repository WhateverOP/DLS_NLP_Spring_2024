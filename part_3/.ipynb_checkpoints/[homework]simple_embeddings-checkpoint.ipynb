{
 "cells": [
  {
   "cell_type": "markdown",
   "metadata": {
    "id": "Ot3c4fjZwC4T"
   },
   "source": [
    "<img src=\"https://s8.hostingkartinok.com/uploads/images/2018/08/308b49fcfbc619d629fe4604bceb67ac.jpg\" width=500, height=450>\n",
    "<h3 style=\"text-align: center;\"><b>Физтех-Школа Прикладной математики и информатики (ФПМИ) МФТИ</b></h3>"
   ]
  },
  {
   "cell_type": "markdown",
   "metadata": {
    "id": "P2JdzEXmwRU5"
   },
   "source": [
    "---"
   ]
  },
  {
   "cell_type": "markdown",
   "metadata": {
    "id": "Fc8iHXIVwDwj"
   },
   "source": [
    "***Some parts of the notebook are almost the copy of [ mmta-team course](https://github.com/mmta-team/mmta_fall_2020). Special thanks to mmta-team for making them publicly available. [Original notebook](https://github.com/mmta-team/mmta_fall_2020/blob/master/tasks/01_word_embeddings/task_word_embeddings.ipynb).***"
   ]
  },
  {
   "cell_type": "markdown",
   "metadata": {
    "id": "7D0wm5jt6j0U"
   },
   "source": [
    "<b> Прочитайте семинар, пожалуйста, для успешного выполнения домашнего задания. В конце ноутка напишите свой вывод. Работа без вывода оценивается ниже."
   ]
  },
  {
   "cell_type": "markdown",
   "metadata": {
    "id": "BIWqBuEa6j0b"
   },
   "source": [
    "## Задача поиска схожих по смыслу предложений"
   ]
  },
  {
   "cell_type": "markdown",
   "metadata": {
    "id": "NUkwMPLA6j0g"
   },
   "source": [
    "Мы будем ранжировать вопросы [StackOverflow](https://stackoverflow.com) на основе семантического векторного представления "
   ]
  },
  {
   "cell_type": "markdown",
   "metadata": {
    "id": "dNRXIEfu5a3Q"
   },
   "source": [
    "До этого в курсе не было речи про задачу ранжировния, поэтому введем математическую формулировку"
   ]
  },
  {
   "cell_type": "markdown",
   "metadata": {
    "id": "uS9FwWNd5a3S"
   },
   "source": [
    "## Задача ранжирования(Learning to Rank)"
   ]
  },
  {
   "cell_type": "markdown",
   "metadata": {
    "id": "wdwY9-f75a3T"
   },
   "source": [
    "* $X$ - множество объектов\n",
    "* $X^l = \\{x_1, x_2, ..., x_l\\}$ - обучающая выборка\n",
    "<br>На обучающей выборке задан порядок между некоторыми элементами, то есть нам известно, что некий объект выборки более релевантный для нас, чем другой:\n",
    "* $i \\prec j$ - порядок пары индексов объектов на выборке $X^l$ c индексами $i$ и $j$\n",
    "### Задача:\n",
    "построить ранжирующую функцию $a$ : $X \\rightarrow R$ такую, что\n",
    "$$i \\prec j \\Rightarrow a(x_i) < a(x_j)$$"
   ]
  },
  {
   "cell_type": "markdown",
   "metadata": {
    "id": "WG2IGBsh5a3U"
   },
   "source": [
    "<img src=\"https://d25skit2l41vkl.cloudfront.net/wp-content/uploads/2016/12/Featured-Image.jpg\" width=500, height=450>"
   ]
  },
  {
   "cell_type": "markdown",
   "metadata": {
    "id": "MQk_rolFwT_h"
   },
   "source": [
    "### Embeddings"
   ]
  },
  {
   "cell_type": "markdown",
   "metadata": {
    "id": "xUe1PGXn6j0l"
   },
   "source": [
    "Будем использовать предобученные векторные представления слов на постах Stack Overflow.<br>\n",
    "[A word2vec model trained on Stack Overflow posts](https://github.com/vefstathiou/SO_word2vec)"
   ]
  },
  {
   "cell_type": "code",
   "execution_count": 1,
   "metadata": {
    "id": "mYkI54Y-rk7a"
   },
   "outputs": [],
   "source": [
    "# !wget https://zenodo.org/record/1199620/files/SO_vectors_200.bin?download=1"
   ]
  },
  {
   "cell_type": "code",
   "execution_count": 2,
   "metadata": {
    "id": "O8YJTOYv6j0s"
   },
   "outputs": [],
   "source": [
    "from gensim.models.keyedvectors import KeyedVectors\n",
    "wv_embeddings = KeyedVectors.load_word2vec_format(\"SO_vectors_200.bin?download=1\", binary=True)"
   ]
  },
  {
   "cell_type": "markdown",
   "metadata": {
    "id": "aIcT_g-C6j1E"
   },
   "source": [
    "#### Как пользоваться этими векторами?"
   ]
  },
  {
   "cell_type": "markdown",
   "metadata": {
    "id": "DWO5SPDY6j1G"
   },
   "source": [
    "Посмотрим на примере одного слова, что из себя представляет embedding"
   ]
  },
  {
   "cell_type": "code",
   "execution_count": 3,
   "metadata": {
    "id": "KeSBlQfk6j1J"
   },
   "outputs": [
    {
     "name": "stdout",
     "output_type": "stream",
     "text": [
      "float32 (200,)\n"
     ]
    }
   ],
   "source": [
    "word = 'dog'\n",
    "if word in wv_embeddings:\n",
    "    print(wv_embeddings[word].dtype, wv_embeddings[word].shape)"
   ]
  },
  {
   "cell_type": "code",
   "execution_count": 4,
   "metadata": {
    "id": "T4Eq-D1qxpMJ"
   },
   "outputs": [
    {
     "name": "stdout",
     "output_type": "stream",
     "text": [
      "Num of words: 1787145\n"
     ]
    }
   ],
   "source": [
    "print(f\"Num of words: {len(wv_embeddings.index_to_key)}\")"
   ]
  },
  {
   "cell_type": "markdown",
   "metadata": {
    "id": "ZT6NTCys6j1Q"
   },
   "source": [
    "Найдем наиболее близкие слова к слову `dog`:"
   ]
  },
  {
   "cell_type": "markdown",
   "metadata": {
    "id": "n08z2PjMwC5o"
   },
   "source": [
    "#### Вопрос 1:\n",
    "* Входит ли слов `cat` топ-5 близких слов к слову `dog`? Какое место? "
   ]
  },
  {
   "cell_type": "code",
   "execution_count": 5,
   "metadata": {
    "id": "nYwVz0xG6j1U"
   },
   "outputs": [
    {
     "data": {
      "text/plain": [
       "[('animal', 0.8564180135726929),\n",
       " ('dogs', 0.7880866527557373),\n",
       " ('mammal', 0.7623804211616516),\n",
       " ('cats', 0.7621253728866577),\n",
       " ('animals', 0.760793924331665)]"
      ]
     },
     "execution_count": 5,
     "metadata": {},
     "output_type": "execute_result"
    }
   ],
   "source": [
    "# method most_simmilar\n",
    "'''your code'''\n",
    "wv_embeddings.most_similar('dog')[0:5]"
   ]
  },
  {
   "cell_type": "markdown",
   "metadata": {},
   "source": [
    "# Ответ: да, входит."
   ]
  },
  {
   "cell_type": "markdown",
   "metadata": {
    "id": "ai48-5vv6j1d"
   },
   "source": [
    "### Векторные представления текста\n",
    "\n",
    "Перейдем от векторных представлений отдельных слов к векторным представлениям вопросов, как к **среднему** векторов всех слов в вопросе. Если для какого-то слова нет предобученного вектора, то его нужно пропустить. Если вопрос не содержит ни одного известного слова, то нужно вернуть нулевой вектор."
   ]
  },
  {
   "cell_type": "code",
   "execution_count": 6,
   "metadata": {
    "id": "EhNuxBJd6j1f"
   },
   "outputs": [],
   "source": [
    "from nltk.tokenize import WordPunctTokenizer, RegexpTokenizer\n",
    "from nltk.corpus import stopwords\n",
    "from nltk.stem import PorterStemmer, SnowballStemmer\n",
    "import string\n",
    "\n",
    "import numpy as np\n",
    "import re\n",
    "# you can use your tokenizer\n",
    "# for example, from nltk.tokenize import WordPunctTokenizer\n",
    "class MyTokenizer:\n",
    "    def __init__(self, ext_tokenizer, ext_stopwords, ext_punctuation):\n",
    "        self.tokenizer = ext_tokenizer\n",
    "        self.stopwords = ext_stopwords\n",
    "        self.punctuation = ext_punctuation\n",
    "    def tokenize(self, text):\n",
    "        tokens = self.tokenizer.tokenize(text.lower())\n",
    "        tokens_no_sw_punct = [token for token in tokens if token not in self.stopwords and token not in self.punctuation]\n",
    "        return tokens_no_sw_punct"
   ]
  },
  {
   "cell_type": "code",
   "execution_count": 7,
   "metadata": {},
   "outputs": [],
   "source": [
    "tk = WordPunctTokenizer()\n",
    "sw = set(stopwords.words('english'))\n",
    "punct = string.punctuation\n",
    "MyTokenizer_obj = MyTokenizer(tk, sw, punct)"
   ]
  },
  {
   "cell_type": "code",
   "execution_count": 8,
   "metadata": {
    "id": "YHcvu6186j1m"
   },
   "outputs": [],
   "source": [
    "def question_to_vec(question, embeddings, tokenizer, dim=200):\n",
    "    \"\"\"\n",
    "        question: строка\n",
    "        embeddings: наше векторное представление\n",
    "        dim: размер любого вектора в нашем представлении\n",
    "        \n",
    "        return: векторное представление для вопроса\n",
    "    \"\"\"\n",
    "    \n",
    "    question_tokens = tokenizer.tokenize(question)\n",
    "    question_vector = []\n",
    "    for token in question_tokens:\n",
    "        if token in embeddings:\n",
    "            question_vector.append(embeddings[token])\n",
    "\n",
    "    if len(question_vector) > 0:\n",
    "        return np.mean(question_vector, axis=0)\n",
    "    return np.zeros(dim)"
   ]
  },
  {
   "cell_type": "markdown",
   "metadata": {
    "id": "u5Q_4j7r6j1u"
   },
   "source": [
    "Теперь у нас есть метод для создания векторного представления любого предложения."
   ]
  },
  {
   "cell_type": "markdown",
   "metadata": {
    "id": "EsJSNkhm6j1y"
   },
   "source": [
    "#### Вопрос 2:\n",
    "* Какая третья(с индексом 2) компонента вектора предложения `I love neural networks` (округлите до 2 знаков после запятой)?"
   ]
  },
  {
   "cell_type": "code",
   "execution_count": 9,
   "metadata": {
    "id": "a62r11cT6j10"
   },
   "outputs": [
    {
     "name": "stdout",
     "output_type": "stream",
     "text": [
      "-1.29\n"
     ]
    }
   ],
   "source": [
    "'''your code'''\n",
    "q_ex_mean_vec3 = question_to_vec('I love neural networks', wv_embeddings, MyTokenizer_obj)\n",
    "print(np.around(q_ex_mean_vec3[2],2))"
   ]
  },
  {
   "cell_type": "markdown",
   "metadata": {},
   "source": [
    "# Ответ: -1.29"
   ]
  },
  {
   "cell_type": "markdown",
   "metadata": {
    "id": "Y60z4t6W6j16"
   },
   "source": [
    "### Оценка близости текстов\n",
    "\n",
    "Представим, что мы используем идеальные векторные представления слов. Тогда косинусное расстояние между дублирующими предложениями должно быть меньше, чем между случайно взятыми предложениями. \n",
    "\n",
    "Сгенерируем для каждого из $N$ вопросов $R$ случайных отрицательных примеров и примешаем к ним также настоящие дубликаты. Для каждого вопроса будем ранжировать с помощью нашей модели $R + 1$ примеров и смотреть на позицию дубликата. Мы хотим, чтобы дубликат был первым в ранжированном списке.\n",
    "\n",
    "#### Hits@K\n",
    "Первой простой метрикой будет количество корректных попаданий для какого-то $K$:\n",
    "$$ \\text{Hits@K} = \\frac{1}{N}\\sum_{i=1}^N \\, [rank\\_q_i^{'} \\le K],$$\n",
    "* $\\begin{equation*}\n",
    "[x < 0 ] \\equiv \n",
    " \\begin{cases}\n",
    "   1, &x < 0\\\\\n",
    "   0, &x \\geq 0\n",
    " \\end{cases}\n",
    "\\end{equation*}$ - индикаторная функция\n",
    "* $q_i$ - $i$-ый вопрос\n",
    "* $q_i^{'}$ - его дубликат\n",
    "* $rank\\_q_i^{'}$ - позиция дубликата в ранжированном списке ближайших предложений для вопроса $q_i$.\n",
    "\n",
    "#### DCG@K\n",
    "Второй метрикой будет упрощенная DCG метрика, учитывающая порядок элементов в списке путем домножения релевантности элемента на вес равный обратному логарифму номера позиции::\n",
    "$$ \\text{DCG@K} = \\frac{1}{N} \\sum_{i=1}^N\\frac{1}{\\log_2(1+rank\\_q_i^{'})}\\cdot[rank\\_q_i^{'} \\le K],$$\n",
    "С такой метрикой модель штрафуется за большой ранк корректного ответа"
   ]
  },
  {
   "cell_type": "markdown",
   "metadata": {
    "id": "eHCnH-jw6j18"
   },
   "source": [
    "#### Вопрос 3:\n",
    "* Максимум `Hits@47 - DCG@1`?"
   ]
  },
  {
   "cell_type": "markdown",
   "metadata": {},
   "source": [
    "# Ответ: 1\n",
    "## Максимум Hits@47 = 1 (для ранков от 1 до 46 включительно)\n",
    "## Минимум DCG@1 = 0 (для ранков от 2 до бесконечности)"
   ]
  },
  {
   "cell_type": "markdown",
   "metadata": {
    "id": "_tFemBkP6j1-"
   },
   "source": [
    "<img src='https://hsto.org/files/1c5/edf/dee/1c5edfdeebce4b71a86bdf986d9f88f2.jpg' width=400, height=200>"
   ]
  },
  {
   "cell_type": "markdown",
   "metadata": {
    "id": "0sUSxk866j1_"
   },
   "source": [
    "#### Пример оценок\n",
    "\n",
    "Вычислим описанные выше метрики для игрушечного примера. \n",
    "Пусть\n",
    "* $N = 1$, $R = 3$\n",
    "* <font color='green'>\"Что такое python?\"</font> - вопрос $q_1$\n",
    "* <font color='red'>\"Что такое язык python?\"</font> - его дубликат $q_i^{'}$\n",
    "\n",
    "Пусть модель выдала следующий ранжированный список кандидатов:\n",
    "\n",
    "1. \"Как изучить с++?\"\n",
    "2. <font color='red'>\"Что такое язык python?\"</font>\n",
    "3. \"Хочу учить Java\"\n",
    "4. \"Не понимаю Tensorflow\"\n",
    "\n",
    "$\\Rightarrow rank\\_q_i^{'} = 2$\n",
    "\n",
    "Вычислим метрику *Hits@K* для *K = 1, 4*:\n",
    "\n",
    "- [K = 1] $\\text{Hits@1} =  [rank\\_q_i^{'} \\le 1)] = 0$\n",
    "- [K = 4] $\\text{Hits@4} =  [rank\\_q_i^{'} \\le 4] = 1$\n",
    "\n",
    "Вычислим метрику *DCG@K* для *K = 1, 4*:\n",
    "- [K = 1] $\\text{DCG@1} = \\frac{1}{\\log_2(1+2)}\\cdot[2 \\le 1] = 0$\n",
    "- [K = 4] $\\text{DCG@4} = \\frac{1}{\\log_2(1+2)}\\cdot[2 \\le 4] = \\frac{1}{\\log_2{3}}$"
   ]
  },
  {
   "cell_type": "code",
   "execution_count": 10,
   "metadata": {},
   "outputs": [],
   "source": [
    "def calc_Hits_K(rank, K):\n",
    "    return int(rank <= K)\n",
    "\n",
    "def calc_DCG_K(rank, K):\n",
    "    return int(rank <= K)/(np.log(1 + rank)/np.log(2))"
   ]
  },
  {
   "cell_type": "markdown",
   "metadata": {
    "id": "B4L6HJJC6j2B"
   },
   "source": [
    "#### Вопрос 4:\n",
    "* Вычислите `DCG@10`, если $rank\\_q_i^{'} = 9$(округлите до одного знака после запятой)"
   ]
  },
  {
   "cell_type": "code",
   "execution_count": 11,
   "metadata": {},
   "outputs": [
    {
     "data": {
      "text/plain": [
       "0.3"
      ]
     },
     "execution_count": 11,
     "metadata": {},
     "output_type": "execute_result"
    }
   ],
   "source": [
    "np.around(calc_DCG_K(9, 10),1)"
   ]
  },
  {
   "cell_type": "markdown",
   "metadata": {},
   "source": [
    "# Ответ: 0.3"
   ]
  },
  {
   "cell_type": "markdown",
   "metadata": {
    "id": "J5xWOORI6j2F"
   },
   "source": [
    "### HITS\\_COUNT и DCG\\_SCORE"
   ]
  },
  {
   "cell_type": "markdown",
   "metadata": {
    "id": "I1q9WQOx6j2H"
   },
   "source": [
    "Каждая функция имеет два аргумента: $dup\\_ranks$ и $k$. $dup\\_ranks$ является списком, который содержит рейтинги дубликатов(их позиции в ранжированном списке). Например, $dup\\_ranks = [2]$ для примера, описанного выше."
   ]
  },
  {
   "cell_type": "code",
   "execution_count": 12,
   "metadata": {
    "id": "F5VwySUB6j2J"
   },
   "outputs": [],
   "source": [
    "def hits_count(dup_ranks, k):\n",
    "    \"\"\"\n",
    "        dup_ranks: list индексов дубликатов\n",
    "        result: вернуть  Hits@k\n",
    "    \"\"\"\n",
    "    hits_value = []\n",
    "    for rank in dup_ranks:\n",
    "        hits_value.append(int(rank <= k))\n",
    "    return np.mean(hits_value)"
   ]
  },
  {
   "cell_type": "code",
   "execution_count": 13,
   "metadata": {
    "id": "82hQaxCH6j2R"
   },
   "outputs": [],
   "source": [
    "def dcg_score(dup_ranks, k):\n",
    "    \"\"\"\n",
    "        dup_ranks: list индексов дубликатов\n",
    "        result: вернуть DCG@k\n",
    "    \"\"\"\n",
    "    dcg_value = []\n",
    "    for rank in dup_ranks:\n",
    "        dcg_value.append(int(rank <= k)/(np.log(1 + rank)/np.log(2)))\n",
    "    return np.mean(dcg_value)"
   ]
  },
  {
   "cell_type": "markdown",
   "metadata": {
    "id": "PcwHeXN26j2Y"
   },
   "source": [
    "Протестируем функции. Пусть $N = 1$, то есть один эксперимент. Будем искать копию вопроса и оценивать метрики."
   ]
  },
  {
   "cell_type": "code",
   "execution_count": 14,
   "metadata": {
    "id": "fjISmOEW6j2h"
   },
   "outputs": [],
   "source": [
    "import pandas as pd"
   ]
  },
  {
   "cell_type": "code",
   "execution_count": 15,
   "metadata": {
    "id": "gLa_Wqfh6j2m"
   },
   "outputs": [
    {
     "name": "stdout",
     "output_type": "stream",
     "text": [
      "Ваш ответ HIT: [0.0, 1.0, 1.0, 1.0]\n",
      "Ваш ответ DCG: [0.0, 0.63093, 0.63093, 0.63093]\n"
     ]
    }
   ],
   "source": [
    "copy_answers = [\"How does the catch keyword determine the type of exception that was thrown\",]\n",
    "\n",
    "# наги кандидаты\n",
    "candidates_ranking = [[\"How Can I Make These Links Rotate in PHP\",\n",
    "                       \"How does the catch keyword determine the type of exception that was thrown\",\n",
    "                       \"NSLog array description not memory address\",\n",
    "                       \"PECL_HTTP not recognised php ubuntu\"],]\n",
    "# dup_ranks — позиции наших копий, так как эксперимент один, то этот массив длины 1\n",
    "dup_ranks = [2]\n",
    "\n",
    "# вычисляем метрику для разных k\n",
    "print('Ваш ответ HIT:', [hits_count(dup_ranks, k) for k in range(1, 5)])\n",
    "print('Ваш ответ DCG:', [round(dcg_score(dup_ranks, k), 5) for k in range(1, 5)])"
   ]
  },
  {
   "cell_type": "markdown",
   "metadata": {
    "id": "MoHC3YoQ6j2t"
   },
   "source": [
    "У вас должно получиться"
   ]
  },
  {
   "cell_type": "code",
   "execution_count": 16,
   "metadata": {
    "id": "B0NFWq4f6j2u",
    "scrolled": true
   },
   "outputs": [
    {
     "data": {
      "text/html": [
       "<div>\n",
       "<style scoped>\n",
       "    .dataframe tbody tr th:only-of-type {\n",
       "        vertical-align: middle;\n",
       "    }\n",
       "\n",
       "    .dataframe tbody tr th {\n",
       "        vertical-align: top;\n",
       "    }\n",
       "\n",
       "    .dataframe thead th {\n",
       "        text-align: right;\n",
       "    }\n",
       "</style>\n",
       "<table border=\"1\" class=\"dataframe\">\n",
       "  <thead>\n",
       "    <tr style=\"text-align: right;\">\n",
       "      <th></th>\n",
       "      <th>1</th>\n",
       "      <th>2</th>\n",
       "      <th>3</th>\n",
       "      <th>4</th>\n",
       "    </tr>\n",
       "  </thead>\n",
       "  <tbody>\n",
       "    <tr>\n",
       "      <th>HITS</th>\n",
       "      <td>0</td>\n",
       "      <td>1.00000</td>\n",
       "      <td>1.00000</td>\n",
       "      <td>1.00000</td>\n",
       "    </tr>\n",
       "    <tr>\n",
       "      <th>DCG</th>\n",
       "      <td>0</td>\n",
       "      <td>0.63093</td>\n",
       "      <td>0.63093</td>\n",
       "      <td>0.63093</td>\n",
       "    </tr>\n",
       "  </tbody>\n",
       "</table>\n",
       "</div>"
      ],
      "text/plain": [
       "      1        2        3        4\n",
       "HITS  0  1.00000  1.00000  1.00000\n",
       "DCG   0  0.63093  0.63093  0.63093"
      ]
     },
     "execution_count": 16,
     "metadata": {},
     "output_type": "execute_result"
    }
   ],
   "source": [
    "# correct_answers - метрика для разных k\n",
    "correct_answers = pd.DataFrame([[0, 1, 1, 1], [0, 1 / (np.log2(3)), 1 / (np.log2(3)), 1 / (np.log2(3))]],\n",
    "                               index=['HITS', 'DCG'], columns=range(1,5))\n",
    "correct_answers"
   ]
  },
  {
   "cell_type": "markdown",
   "metadata": {
    "id": "tHZqgDTo6j0i"
   },
   "source": [
    "### Данные\n",
    "[arxiv link](https://drive.google.com/file/d/1QqT4D0EoqJTy7v9VrNCYD-m964XZFR7_/edit)\n",
    "\n",
    "`train.tsv` - выборка для обучения.<br> В каждой строке через табуляцию записаны: **<вопрос>, <похожий вопрос>**\n",
    "\n",
    "`validation.tsv` - тестовая выборка.<br> В каждой строке через табуляцию записаны: **<вопрос>, <похожий вопрос>, <отрицательный пример 1>, <отрицательный пример 2>, ...**"
   ]
  },
  {
   "cell_type": "code",
   "execution_count": 17,
   "metadata": {
    "colab": {
     "base_uri": "https://localhost:8080/"
    },
    "executionInfo": {
     "elapsed": 28,
     "status": "ok",
     "timestamp": 1628256058346,
     "user": {
      "displayName": "Deep Learning School",
      "photoUrl": "https://lh3.googleusercontent.com/a-/AOh14GhNf0RkP5WvkU5MixKfC1Sv3mb-9QWgAbC6VcfQvA=s64",
      "userId": "16549096980415837553"
     },
     "user_tz": -180
    },
    "id": "jKVK2lDGvrIe",
    "outputId": "51944c9b-d6e8-41af-bec4-bb35fba5d51b"
   },
   "outputs": [],
   "source": [
    "# !unzip stackoverflow_similar_questions.zip"
   ]
  },
  {
   "cell_type": "markdown",
   "metadata": {
    "id": "hil2UsUG6j22"
   },
   "source": [
    "Считайте данные."
   ]
  },
  {
   "cell_type": "code",
   "execution_count": 18,
   "metadata": {
    "id": "B4EBho8s6j26"
   },
   "outputs": [],
   "source": [
    "def read_corpus(filename):\n",
    "    data = []\n",
    "    for line in open(filename, encoding='utf-8'):\n",
    "        '''your code'''\n",
    "        # data.extend(line.split('\\t'))\n",
    "        data.append(line.strip().split('\\t'))\n",
    "    return data"
   ]
  },
  {
   "cell_type": "markdown",
   "metadata": {
    "id": "kkTxY3Mk9_nG"
   },
   "source": [
    "Нам понадобиться только файл validation."
   ]
  },
  {
   "cell_type": "code",
   "execution_count": 19,
   "metadata": {
    "colab": {
     "base_uri": "https://localhost:8080/",
     "height": 274
    },
    "executionInfo": {
     "elapsed": 21,
     "status": "error",
     "timestamp": 1628256058355,
     "user": {
      "displayName": "Deep Learning School",
      "photoUrl": "https://lh3.googleusercontent.com/a-/AOh14GhNf0RkP5WvkU5MixKfC1Sv3mb-9QWgAbC6VcfQvA=s64",
      "userId": "16549096980415837553"
     },
     "user_tz": -180
    },
    "id": "PTVB9Tnp6j29",
    "outputId": "9c55c802-3d82-471d-eab2-195dabf5026c"
   },
   "outputs": [],
   "source": [
    "validation_data = read_corpus('./data/validation.tsv')"
   ]
  },
  {
   "cell_type": "markdown",
   "metadata": {
    "id": "bTHfL-9y6j3F"
   },
   "source": [
    "Кол-во строк"
   ]
  },
  {
   "cell_type": "code",
   "execution_count": 20,
   "metadata": {
    "id": "z6ubXhIe6j3H"
   },
   "outputs": [
    {
     "data": {
      "text/plain": [
       "3760"
      ]
     },
     "execution_count": 20,
     "metadata": {},
     "output_type": "execute_result"
    }
   ],
   "source": [
    "len(validation_data)"
   ]
  },
  {
   "cell_type": "markdown",
   "metadata": {
    "id": "kaOQblBy6j3M"
   },
   "source": [
    "Размер нескольких первых строк"
   ]
  },
  {
   "cell_type": "code",
   "execution_count": 21,
   "metadata": {
    "id": "yRx6e-Pe6j3M"
   },
   "outputs": [
    {
     "name": "stdout",
     "output_type": "stream",
     "text": [
      "1 1001\n",
      "2 1001\n",
      "3 1001\n",
      "4 1001\n",
      "5 1001\n"
     ]
    }
   ],
   "source": [
    "for i in range(5):\n",
    "    print(i + 1, len(validation_data[i]))"
   ]
  },
  {
   "cell_type": "markdown",
   "metadata": {
    "id": "ySQQp0oQt1Ep"
   },
   "source": [
    "### Ранжирование без обучения"
   ]
  },
  {
   "cell_type": "markdown",
   "metadata": {
    "id": "iElEDhj-6j3R"
   },
   "source": [
    "Реализуйте функцию ранжирования кандидатов на основе косинусного расстояния. Функция должна по списку кандидатов вернуть отсортированный список пар (позиция в исходном списке кандидатов, кандидат). При этом позиция кандидата в полученном списке является его рейтингом (первый - лучший). Например, если исходный список кандидатов был [a, b, c], и самый похожий на исходный вопрос среди них - c, затем a, и в конце b, то функция должна вернуть список **[(2, c), (0, a), (1, b)]**."
   ]
  },
  {
   "cell_type": "code",
   "execution_count": 22,
   "metadata": {
    "id": "K02JARKr6j3T"
   },
   "outputs": [],
   "source": [
    "from sklearn.metrics.pairwise import cosine_similarity\n",
    "from copy import deepcopy"
   ]
  },
  {
   "cell_type": "code",
   "execution_count": 23,
   "metadata": {},
   "outputs": [],
   "source": [
    "def rank_candidates(question, candidates, embeddings, tokenizer, dim=200, test_out=False):\n",
    "    \"\"\"\n",
    "        question: строка\n",
    "        candidates: массив строк(кандидатов) [a, b, c]\n",
    "        result: пары (начальная позиция, кандидат) [(2, c), (0, a), (1, b)]\n",
    "    \"\"\"\n",
    "    '''your code'''\n",
    "\n",
    "    # тут большая часть кода для тестирования\n",
    "    \n",
    "    question_tokens = tokenizer.tokenize(question)\n",
    "    question_vec = question_to_vec(question, embeddings, tokenizer)\n",
    "\n",
    "    init_pos_list = []\n",
    "    cand_list = []\n",
    "    cand_tokens_list = []\n",
    "    cos_sim_list = []\n",
    "    for i in range(0, len(candidates)):\n",
    "        init_pos_list.append(i)\n",
    "        cand_list.append(candidates[i])\n",
    "        cand_tokens = tokenizer.tokenize(candidates[i])\n",
    "        cand_tokens_list.append(cand_tokens)\n",
    "        cand_vec = question_to_vec(candidates[i], embeddings, tokenizer)\n",
    "        cos_sim = cosine_similarity(question_vec.reshape(1, -1), cand_vec.reshape(1, -1))[0][0]\n",
    "        cos_sim_list.append(cos_sim)\n",
    "\n",
    "    df = pd.DataFrame({'q':[question]*len(cand_list), 'q_tokens':[question_tokens]*len(cand_list),\n",
    "                       'init_pos':init_pos_list, 'cand':cand_list,\n",
    "                       'cand_tokens':cand_tokens_list, 'cos_sim':cos_sim_list,})\n",
    "    df = df.sort_values('cos_sim', ascending=False).reset_index(drop=True)\n",
    "\n",
    "    init_pos_cand = []\n",
    "    for i in range(0, len(df)):\n",
    "        init_pos_cand.append([df.iloc[i]['init_pos'], df.iloc[i]['cand']])\n",
    "\n",
    "    if test_out:\n",
    "        return init_pos_cand, df\n",
    "    else:\n",
    "        return init_pos_cand"
   ]
  },
  {
   "cell_type": "markdown",
   "metadata": {
    "id": "TnBszTb76j3c"
   },
   "source": [
    "Протестируйте работу функции на примерах ниже. Пусть $N=2$, то есть два эксперимента"
   ]
  },
  {
   "cell_type": "code",
   "execution_count": 24,
   "metadata": {
    "id": "xvQgtP176j3h"
   },
   "outputs": [],
   "source": [
    "questions = ['converting string to list', 'Sending array via Ajax fails'] \n",
    "\n",
    "candidates = [['Convert Google results object (pure js) to Python object', # первый эксперимент\n",
    "               'C# create cookie from string and send it',\n",
    "               'How to use jQuery AJAX for an outside domain?'],\n",
    "              \n",
    "              ['Getting all list items of an unordered list in PHP',      # второй эксперимент\n",
    "               'WPF- How to update the changes in list item of a list',\n",
    "               'select2 not displaying search results']]"
   ]
  },
  {
   "cell_type": "code",
   "execution_count": 25,
   "metadata": {
    "id": "bPj1JGFi6j3m"
   },
   "outputs": [],
   "source": [
    "ranks_list = []\n",
    "for question, q_candidates in zip(questions, candidates):\n",
    "    ranks = rank_candidates(question, q_candidates, wv_embeddings, MyTokenizer_obj)\n",
    "    ranks_list.append(ranks)"
   ]
  },
  {
   "cell_type": "code",
   "execution_count": 26,
   "metadata": {},
   "outputs": [
    {
     "data": {
      "text/plain": [
       "[[[1, 'C# create cookie from string and send it'],\n",
       "  [0, 'Convert Google results object (pure js) to Python object'],\n",
       "  [2, 'How to use jQuery AJAX for an outside domain?']],\n",
       " [[0, 'Getting all list items of an unordered list in PHP'],\n",
       "  [2, 'select2 not displaying search results'],\n",
       "  [1, 'WPF- How to update the changes in list item of a list']]]"
      ]
     },
     "execution_count": 26,
     "metadata": {},
     "output_type": "execute_result"
    }
   ],
   "source": [
    "ranks_list"
   ]
  },
  {
   "cell_type": "markdown",
   "metadata": {
    "id": "jm4cidj56j3q"
   },
   "source": [
    "Для первого экперимента вы можете полностью сравнить ваши ответы и правильные ответы. Но для второго эксперимента два ответа на кандидаты будут <b>скрыты</b>(*)"
   ]
  },
  {
   "cell_type": "code",
   "execution_count": 27,
   "metadata": {
    "id": "0LeKMIsn6j3s"
   },
   "outputs": [
    {
     "ename": "SyntaxError",
     "evalue": "invalid syntax (1724534416.py, line 5)",
     "output_type": "error",
     "traceback": [
      "\u001b[0;36m  Cell \u001b[0;32mIn[27], line 5\u001b[0;36m\u001b[0m\n\u001b[0;31m    [(*, 'Getting all list items of an unordered list in PHP'), #скрыт\u001b[0m\n\u001b[0m       ^\u001b[0m\n\u001b[0;31mSyntaxError\u001b[0m\u001b[0;31m:\u001b[0m invalid syntax\n"
     ]
    }
   ],
   "source": [
    "# должно вывести\n",
    "results = [[(1, 'C# create cookie from string and send it'),\n",
    "            (0, 'Convert Google results object (pure js) to Python object'),\n",
    "            (2, 'How to use jQuery AJAX for an outside domain?')],\n",
    "           [(*, 'Getting all list items of an unordered list in PHP'), #скрыт\n",
    "            (*, 'select2 not displaying search results'), #скрыт\n",
    "            (*, 'WPF- How to update the changes in list item of a list')]] #скрыт"
   ]
  },
  {
   "cell_type": "markdown",
   "metadata": {
    "id": "t1ttnIBe6j3x"
   },
   "source": [
    "Последовательность начальных индексов вы должны получить `для эксперимента 1`  1, 0, 2."
   ]
  },
  {
   "cell_type": "markdown",
   "metadata": {
    "id": "5WQgYDWd6j3y"
   },
   "source": [
    "#### Вопрос 5:\n",
    "* Какую последовательность начальных индексов вы получили `для эксперимента 2`(перечисление без запятой и пробелов, например, `102` для первого эксперимента?"
   ]
  },
  {
   "cell_type": "markdown",
   "metadata": {},
   "source": [
    "# Ответ: 021"
   ]
  },
  {
   "cell_type": "markdown",
   "metadata": {
    "id": "fPllOY-Y6j30"
   },
   "source": [
    "Теперь мы можем оценить качество нашего метода. Запустите следующие два блока кода для получения результата. Обратите внимание, что вычисление расстояния между векторами занимает некоторое время (примерно 10 минут). Можете взять для validation 1000 примеров."
   ]
  },
  {
   "cell_type": "code",
   "execution_count": 40,
   "metadata": {},
   "outputs": [
    {
     "data": {
      "application/vnd.jupyter.widget-view+json": {
       "model_id": "afebf7d81bf845349da03238d7d31c96",
       "version_major": 2,
       "version_minor": 0
      },
      "text/plain": [
       "  0%|          | 0/3760 [00:00<?, ?it/s]"
      ]
     },
     "metadata": {},
     "output_type": "display_data"
    },
    {
     "name": "stdout",
     "output_type": "stream",
     "text": [
      "CPU times: user 12min 12s, sys: 1.55 s, total: 12min 13s\n",
      "Wall time: 12min 12s\n"
     ]
    }
   ],
   "source": [
    "%%time\n",
    "\n",
    "wv_ranking = []\n",
    "test_dfs = []\n",
    "max_validation_examples = 1000\n",
    "for i, line in enumerate(tqdm(validation_data)):\n",
    "    if i == max_validation_examples:\n",
    "        break\n",
    "    q, *ex = line\n",
    "    ranks_tests = rank_candidates(q, ex, wv_embeddings, MyTokenizer_obj, test_out=True)\n",
    "    ranks = ranks_tests[0]\n",
    "    test_dfs.append(ranks_tests[1])\n",
    "    wv_ranking.append([r[0] for r in ranks].index(0) + 1)"
   ]
  },
  {
   "cell_type": "code",
   "execution_count": 42,
   "metadata": {
    "id": "gDtS520v6j35"
   },
   "outputs": [
    {
     "data": {
      "application/vnd.jupyter.widget-view+json": {
       "model_id": "e05b5ce7850c423392792d8265dbc9c5",
       "version_major": 2,
       "version_minor": 0
      },
      "text/plain": [
       "  0%|          | 0/6 [00:00<?, ?it/s]"
      ]
     },
     "metadata": {},
     "output_type": "display_data"
    },
    {
     "name": "stdout",
     "output_type": "stream",
     "text": [
      "DCG@   1: 0.417 | Hits@   1: 0.417\n",
      "DCG@   5: 0.504 | Hits@   5: 0.583\n",
      "DCG@  10: 0.525 | Hits@  10: 0.648\n",
      "DCG@ 100: 0.572 | Hits@ 100: 0.877\n",
      "DCG@ 500: 0.584 | Hits@ 500: 0.973\n",
      "DCG@1000: 0.587 | Hits@1000: 1.000\n"
     ]
    }
   ],
   "source": [
    "for k in tqdm([1, 5, 10, 100, 500, 1000]):\n",
    "    print(\"DCG@%4d: %.3f | Hits@%4d: %.3f\" % (k, dcg_score(wv_ranking, k), k, hits_count(wv_ranking, k)))"
   ]
  },
  {
   "cell_type": "markdown",
   "metadata": {},
   "source": [
    "## Взглянем на результаты"
   ]
  },
  {
   "cell_type": "code",
   "execution_count": 72,
   "metadata": {},
   "outputs": [
    {
     "name": "stdout",
     "output_type": "stream",
     "text": [
      "question: \n",
      "jQuery: Show a div2 when mousenter over div1 is over\n",
      "most similar (was 497): \n",
      "jQuery image slide show carousel when using ajax\n",
      "(['jquery', 'show', 'div2', 'mousenter', 'div1'] \n",
      "['jquery', 'image', 'slide', 'show', 'carousel', 'using', 'ajax']) = 0.7918497920036316\n",
      "true similar (now 3): \n",
      "when hover on div1 depenting on if it is on div2 or not it should act differently\n",
      "(['jquery', 'show', 'div2', 'mousenter', 'div1'], \n",
      "['hover', 'div1', 'depenting', 'div2', 'act', 'differently']) = 0.7155495285987854\n"
     ]
    }
   ],
   "source": [
    "index = 2\n",
    "true_df = test_dfs[index][test_dfs[index]['init_pos'] == 0]\n",
    "print(f\"question: \\n{test_dfs[index]['q'][0]}\")\n",
    "print(f\"most similar (was {test_dfs[index].iloc[0]['init_pos'] + 1}): \\n{test_dfs[index].iloc[0]['cand']}\")\n",
    "print(f\"({test_dfs[index]['q_tokens'][0]} \\n{test_dfs[index].iloc[0]['cand_tokens']}) = {test_dfs[index].iloc[0]['cos_sim']}\")\n",
    "print(f\"true similar (now {true_df.index[0] + 1}): \\n{true_df.iloc[0]['cand']}\")\n",
    "print(f\"({test_dfs[index]['q_tokens'][0]}, \\n{true_df.iloc[0]['cand_tokens']}) = {true_df.iloc[0]['cos_sim']}\")"
   ]
  },
  {
   "cell_type": "code",
   "execution_count": 70,
   "metadata": {},
   "outputs": [],
   "source": [
    "# test_dfs[index]"
   ]
  },
  {
   "cell_type": "markdown",
   "metadata": {
    "id": "LL6_Rjg3InL8"
   },
   "source": [
    "### Эмбеддинги, обученные на корпусе похожих вопросов"
   ]
  },
  {
   "cell_type": "code",
   "execution_count": 45,
   "metadata": {
    "id": "iNvbpR5gJIPz"
   },
   "outputs": [],
   "source": [
    "train_data = read_corpus('./data/train.tsv')"
   ]
  },
  {
   "cell_type": "code",
   "execution_count": 46,
   "metadata": {},
   "outputs": [
    {
     "data": {
      "text/plain": [
       "['converting string to list',\n",
       " 'Convert Google results object (pure js) to Python object']"
      ]
     },
     "execution_count": 46,
     "metadata": {},
     "output_type": "execute_result"
    }
   ],
   "source": [
    "train_data[0]"
   ]
  },
  {
   "cell_type": "markdown",
   "metadata": {
    "id": "Nr281ZyEJfjT"
   },
   "source": [
    "Улучшите качество модели.<br>Склеим вопросы в пары и обучим на них модель Word2Vec из gensim. Выберите размер window. Объясните свой выбор."
   ]
  },
  {
   "cell_type": "code",
   "execution_count": 47,
   "metadata": {
    "id": "f6Y46SSQMTL0"
   },
   "outputs": [],
   "source": [
    "'''your code'''\n",
    "\n",
    "train_data_list = []\n",
    "for pair in train_data:\n",
    "    pair_splitted = ' '.join(pair).split(' ')\n",
    "    train_data_list.append(pair_splitted)"
   ]
  },
  {
   "cell_type": "code",
   "execution_count": 48,
   "metadata": {},
   "outputs": [
    {
     "name": "stdout",
     "output_type": "stream",
     "text": [
      "['converting', 'string', 'to', 'list', 'Convert', 'Google', 'results', 'object', '(pure', 'js)', 'to', 'Python', 'object']\n"
     ]
    }
   ],
   "source": [
    "print(train_data_list[0])"
   ]
  },
  {
   "cell_type": "code",
   "execution_count": 49,
   "metadata": {
    "id": "QuJzAM0cI-UH"
   },
   "outputs": [
    {
     "name": "stdout",
     "output_type": "stream",
     "text": [
      "CPU times: user 5min, sys: 996 ms, total: 5min 1s\n",
      "Wall time: 1min 45s\n"
     ]
    }
   ],
   "source": [
    "%%time\n",
    "\n",
    "from gensim.models import Word2Vec\n",
    "embeddings_trained = Word2Vec(train_data_list, # data for model to train on\n",
    "                 vector_size=200,                 # embedding vector size\n",
    "                 min_count=5,             # consider words that occured at least 5 times\n",
    "                 window=5).wv"
   ]
  },
  {
   "cell_type": "code",
   "execution_count": 50,
   "metadata": {
    "id": "OQonbm4nMenD"
   },
   "outputs": [
    {
     "data": {
      "application/vnd.jupyter.widget-view+json": {
       "model_id": "a7439ea6c976449bb702d8152b57a342",
       "version_major": 2,
       "version_minor": 0
      },
      "text/plain": [
       "  0%|          | 0/3760 [00:00<?, ?it/s]"
      ]
     },
     "metadata": {},
     "output_type": "display_data"
    },
    {
     "name": "stdout",
     "output_type": "stream",
     "text": [
      "CPU times: user 11min 56s, sys: 1.59 s, total: 11min 57s\n",
      "Wall time: 11min 56s\n"
     ]
    }
   ],
   "source": [
    "%%time\n",
    "\n",
    "wv_ranking_trained = []\n",
    "test_dfs_trained = []\n",
    "max_validation_examples = 1000\n",
    "for i, line in enumerate(tqdm(validation_data)):\n",
    "    if i == max_validation_examples:\n",
    "        break\n",
    "    q, *ex = line\n",
    "    ranks_tests = rank_candidates(q, ex, embeddings_trained, MyTokenizer_obj, test_out=True)\n",
    "    ranks = ranks_tests[0]\n",
    "    test_dfs_trained.append(ranks_tests[1])\n",
    "    wv_ranking_trained.append([r[0] for r in ranks].index(0) + 1)"
   ]
  },
  {
   "cell_type": "code",
   "execution_count": 51,
   "metadata": {
    "id": "3kahBUPGMgGR"
   },
   "outputs": [
    {
     "data": {
      "application/vnd.jupyter.widget-view+json": {
       "model_id": "ac96f75f39be4fe58c6f6396535effb7",
       "version_major": 2,
       "version_minor": 0
      },
      "text/plain": [
       "  0%|          | 0/6 [00:00<?, ?it/s]"
      ]
     },
     "metadata": {},
     "output_type": "display_data"
    },
    {
     "name": "stdout",
     "output_type": "stream",
     "text": [
      "DCG@   1: 0.313 | Hits@   1: 0.313\n",
      "DCG@   5: 0.400 | Hits@   5: 0.478\n",
      "DCG@  10: 0.425 | Hits@  10: 0.557\n",
      "DCG@ 100: 0.474 | Hits@ 100: 0.794\n",
      "DCG@ 500: 0.495 | Hits@ 500: 0.955\n",
      "DCG@1000: 0.500 | Hits@1000: 1.000\n"
     ]
    }
   ],
   "source": [
    "for k in tqdm([1, 5, 10, 100, 500, 1000]):\n",
    "    print(\"DCG@%4d: %.3f | Hits@%4d: %.3f\" % (k, dcg_score(wv_ranking_trained, k), k, hits_count(wv_ranking_trained, k)))"
   ]
  },
  {
   "cell_type": "code",
   "execution_count": 78,
   "metadata": {},
   "outputs": [
    {
     "name": "stdout",
     "output_type": "stream",
     "text": [
      "question: \n",
      "Operation between hours\n",
      "most similar (was 690): \n",
      "Creating X amount of threads that execute a task at the same time\n",
      "(['operation', 'hours'] \n",
      "['creating', 'x', 'amount', 'threads', 'execute', 'task', 'time']) = 0.5364413261413574\n",
      "true similar (now 4): \n",
      "how do I get the number hours between two times?\n",
      "(['operation', 'hours'], \n",
      "['get', 'number', 'hours', 'two', 'times']) = 0.47946110367774963\n"
     ]
    }
   ],
   "source": [
    "index = 222\n",
    "true_df_trained = test_dfs_trained[index][test_dfs_trained[index]['init_pos'] == 0]\n",
    "print(f\"question: \\n{test_dfs_trained[index]['q'][0]}\")\n",
    "print(f\"most similar (was {test_dfs_trained[index].iloc[0]['init_pos'] + 1}): \\n{test_dfs_trained[index].iloc[0]['cand']}\")\n",
    "print(f\"({test_dfs_trained[index]['q_tokens'][0]} \\n{test_dfs_trained[index].iloc[0]['cand_tokens']}) = {test_dfs_trained[index].iloc[0]['cos_sim']}\")\n",
    "print(f\"true similar (now {true_df_trained.index[0] + 1}): \\n{true_df_trained.iloc[0]['cand']}\")\n",
    "print(f\"({test_dfs_trained[index]['q_tokens'][0]}, \\n{true_df_trained.iloc[0]['cand_tokens']}) = {true_df_trained.iloc[0]['cos_sim']}\")"
   ]
  },
  {
   "cell_type": "markdown",
   "metadata": {},
   "source": [
    "# --------------------------- Различные методы нормализации --------------------------------"
   ]
  },
  {
   "cell_type": "markdown",
   "metadata": {},
   "source": [
    "## ---------------------------------------------- стемминг --------------------------------------------------------"
   ]
  },
  {
   "cell_type": "code",
   "execution_count": 52,
   "metadata": {},
   "outputs": [],
   "source": [
    "class MyTokenizer_stem:\n",
    "    def __init__(self, ext_tokenizer, ext_stopwords, ext_punctuation, ext_stemmer):\n",
    "        self.tokenizer = ext_tokenizer\n",
    "        self.stopwords = ext_stopwords\n",
    "        self.punctuation = ext_punctuation\n",
    "        self.stemmer = ext_stemmer\n",
    "    def tokenize(self, text):\n",
    "        tokens = self.tokenizer.tokenize(text.lower())\n",
    "        tokens_no_sw_punct = [token for token in tokens if token not in self.stopwords and token not in self.punctuation]\n",
    "        tokens_no_sw_punct_stemmed = list(map(self.stemmer.stem, tokens_no_sw_punct))\n",
    "        return tokens_no_sw_punct_stemmed"
   ]
  },
  {
   "cell_type": "code",
   "execution_count": 53,
   "metadata": {},
   "outputs": [],
   "source": [
    "# st = PorterStemmer()\n",
    "st = SnowballStemmer(language='english')\n",
    "MyTokenizer_stem_obj = MyTokenizer_stem(tk, sw, punct, st)"
   ]
  },
  {
   "cell_type": "code",
   "execution_count": 54,
   "metadata": {},
   "outputs": [
    {
     "data": {
      "application/vnd.jupyter.widget-view+json": {
       "model_id": "94d5ea69448e40468717573c16a23a60",
       "version_major": 2,
       "version_minor": 0
      },
      "text/plain": [
       "  0%|          | 0/3760 [00:00<?, ?it/s]"
      ]
     },
     "metadata": {},
     "output_type": "display_data"
    },
    {
     "name": "stdout",
     "output_type": "stream",
     "text": [
      "CPU times: user 17min 2s, sys: 2.15 s, total: 17min 4s\n",
      "Wall time: 17min 1s\n"
     ]
    }
   ],
   "source": [
    "%%time\n",
    "\n",
    "wv_ranking_stem = []\n",
    "test_dfs_stem = []\n",
    "max_validation_examples = 1000\n",
    "# max_validation_examples = 100\n",
    "for i, line in enumerate(tqdm(validation_data)):\n",
    "    if i == max_validation_examples:\n",
    "        break\n",
    "    q, *ex = line\n",
    "    ranks = rank_candidates(q, ex, wv_embeddings, MyTokenizer_stem_obj)\n",
    "    wv_ranking_stem.append([r[0] for r in ranks].index(0) + 1)"
   ]
  },
  {
   "cell_type": "code",
   "execution_count": 55,
   "metadata": {},
   "outputs": [
    {
     "data": {
      "application/vnd.jupyter.widget-view+json": {
       "model_id": "c478069f5fc94adcb9618fbce10f9422",
       "version_major": 2,
       "version_minor": 0
      },
      "text/plain": [
       "  0%|          | 0/6 [00:00<?, ?it/s]"
      ]
     },
     "metadata": {},
     "output_type": "display_data"
    },
    {
     "name": "stdout",
     "output_type": "stream",
     "text": [
      "DCG@   1: 0.327 | Hits@   1: 0.327\n",
      "DCG@   5: 0.405 | Hits@   5: 0.474\n",
      "DCG@  10: 0.426 | Hits@  10: 0.540\n",
      "DCG@ 100: 0.479 | Hits@ 100: 0.802\n",
      "DCG@ 500: 0.498 | Hits@ 500: 0.951\n",
      "DCG@1000: 0.503 | Hits@1000: 1.000\n"
     ]
    }
   ],
   "source": [
    "for k in tqdm([1, 5, 10, 100, 500, 1000]):\n",
    "    print(\"DCG@%4d: %.3f | Hits@%4d: %.3f\" % (k, dcg_score(wv_ranking_stem, k), k, hits_count(wv_ranking_stem, k)))"
   ]
  },
  {
   "cell_type": "markdown",
   "metadata": {},
   "source": [
    "## ---------------------------------------------- лематизация --------------------------------------------------------"
   ]
  },
  {
   "cell_type": "markdown",
   "metadata": {},
   "source": [
    "Здесь я заранее захешировал леммы для слов из валидационной выборки, полученных с помощью библитотеки spacy:\n",
    "nlp = spacy.load(\"en_core_web_sm\", disable=['ner', 'parser', 'textcat'])\n",
    "так как вызов этой функции в цикле сильно замедляет работу программы.\n",
    "Код для получения словаря в комментариях ниже."
   ]
  },
  {
   "cell_type": "code",
   "execution_count": 81,
   "metadata": {},
   "outputs": [],
   "source": [
    "# nlp = spacy.load(\"en_core_web_sm\", disable=['ner', 'parser', 'textcat'])\n",
    "\n",
    "# %%time\n",
    "\n",
    "# max_validation_examples = 1000\n",
    "\n",
    "# def fill_token_lemma_dict(data, max_val_ex, sw_list, tokenizer):\n",
    "#     token_lemma_dict = {}\n",
    "#     # for i, line in enumerate(data):\n",
    "#     for i in range(0, len(data)):\n",
    "#         # if i == max_val_ex:\n",
    "#         #     break\n",
    "#         if i % 100 == 0:\n",
    "#             print(f'--------------------------- {i} ------------------------------')\n",
    "#         line = data[i]\n",
    "#         line_lower = ' '.join(line).lower()\n",
    "#         batch_no_sw = [word for word in line_lower.split(' ') if word not in sw_list]\n",
    "#         batch_tokens_no_sw = tokenizer.tokenize(' '.join(batch_no_sw))\n",
    "#         batch_tokens_no_sw_no_punct = [token for token in batch_tokens_no_sw if token not in string.punctuation]\n",
    "#         lemmatization_results = nlp(' '.join(batch_tokens_no_sw_no_punct))\n",
    "#         for token in lemmatization_results:\n",
    "#             if token not in token_lemma_dict:\n",
    "#                 token_lemma_dict[token.__str__()] = token.lemma_\n",
    "#     return token_lemma_dict\n",
    "\n",
    "# token_lemma_dict = fill_token_lemma_dict(validation_data, max_validation_examples, sw, tk)\n",
    "\n",
    "\n",
    "# import json\n",
    "\n",
    "# path_to_json = '/home/opv002/py_notes/stepik/Deep_Learning_MIPT_2/part_3/data/token_lemma_dict.json'\n",
    "# with open(path_to_json, 'w') as fp:\n",
    "#     json.dump(token_lemma_dict, fp)"
   ]
  },
  {
   "cell_type": "code",
   "execution_count": 57,
   "metadata": {},
   "outputs": [],
   "source": [
    "import json\n",
    "\n",
    "with open('/home/opv002/py_notes/stepik/Deep_Learning_MIPT_2/part_3/data/token_lemma_dict.json', 'r') as fp:\n",
    "    token_lemma_dict = json.load(fp)"
   ]
  },
  {
   "cell_type": "code",
   "execution_count": 58,
   "metadata": {},
   "outputs": [
    {
     "name": "stdout",
     "output_type": "stream",
     "text": [
      "18304\n"
     ]
    }
   ],
   "source": [
    "print(len(token_lemma_dict))"
   ]
  },
  {
   "cell_type": "code",
   "execution_count": 59,
   "metadata": {},
   "outputs": [],
   "source": [
    "class MyTokenizer_stem:\n",
    "    def __init__(self, ext_tokenizer, ext_stopwords, ext_punctuation, ext_lemmas_dict):\n",
    "        self.tokenizer = ext_tokenizer\n",
    "        self.stopwords = ext_stopwords\n",
    "        self.punctuation = ext_punctuation\n",
    "        self.lemmer = ext_lemmas_dict\n",
    "    def tokenize(self, text):\n",
    "        tokens = self.tokenizer.tokenize(text.lower())\n",
    "        tokens_no_sw_punct = [token for token in tokens if token not in self.stopwords and token not in self.punctuation]\n",
    "        tokens_no_sw_punct_lemmed = []\n",
    "        for token in tokens_no_sw_punct:\n",
    "            if token in self.lemmer:\n",
    "                tokens_no_sw_punct_lemmed.append(self.lemmer[token])\n",
    "        return tokens_no_sw_punct_lemmed"
   ]
  },
  {
   "cell_type": "code",
   "execution_count": 60,
   "metadata": {},
   "outputs": [],
   "source": [
    "MyTokenizer_lem_obj = MyTokenizer_stem(tk, sw, punct, token_lemma_dict)"
   ]
  },
  {
   "cell_type": "code",
   "execution_count": 61,
   "metadata": {},
   "outputs": [
    {
     "data": {
      "application/vnd.jupyter.widget-view+json": {
       "model_id": "48fd233a406d43d98dba1ceee264e6d2",
       "version_major": 2,
       "version_minor": 0
      },
      "text/plain": [
       "  0%|          | 0/3760 [00:00<?, ?it/s]"
      ]
     },
     "metadata": {},
     "output_type": "display_data"
    },
    {
     "name": "stdout",
     "output_type": "stream",
     "text": [
      "CPU times: user 12min 39s, sys: 1.47 s, total: 12min 41s\n",
      "Wall time: 12min 40s\n"
     ]
    }
   ],
   "source": [
    "%%time\n",
    "\n",
    "wv_ranking_lem = []\n",
    "test_dfs_lem = []\n",
    "max_validation_examples = 1000\n",
    "# max_validation_examples = 100\n",
    "for i, line in enumerate(tqdm(validation_data)):\n",
    "    if i == max_validation_examples:\n",
    "        break\n",
    "    q, *ex = line\n",
    "    ranks = rank_candidates(q, ex, wv_embeddings, MyTokenizer_lem_obj)\n",
    "    wv_ranking_lem.append([r[0] for r in ranks].index(0) + 1)"
   ]
  },
  {
   "cell_type": "code",
   "execution_count": 62,
   "metadata": {},
   "outputs": [
    {
     "data": {
      "application/vnd.jupyter.widget-view+json": {
       "model_id": "b63eb209cb5f485486e6f53e8c30ad77",
       "version_major": 2,
       "version_minor": 0
      },
      "text/plain": [
       "  0%|          | 0/6 [00:00<?, ?it/s]"
      ]
     },
     "metadata": {},
     "output_type": "display_data"
    },
    {
     "name": "stdout",
     "output_type": "stream",
     "text": [
      "DCG@   1: 0.396 | Hits@   1: 0.396\n",
      "DCG@   5: 0.485 | Hits@   5: 0.564\n",
      "DCG@  10: 0.512 | Hits@  10: 0.644\n",
      "DCG@ 100: 0.558 | Hits@ 100: 0.871\n",
      "DCG@ 500: 0.570 | Hits@ 500: 0.968\n",
      "DCG@1000: 0.574 | Hits@1000: 1.000\n"
     ]
    }
   ],
   "source": [
    "for k in tqdm([1, 5, 10, 100, 500, 1000]):\n",
    "# for k in tqdm([1, 5, 10, 100]):\n",
    "    print(\"DCG@%4d: %.3f | Hits@%4d: %.3f\" % (k, dcg_score(wv_ranking_lem, k), k, hits_count(wv_ranking_lem, k)))"
   ]
  },
  {
   "cell_type": "markdown",
   "metadata": {
    "id": "tY8PxB0j-ThG"
   },
   "source": [
    "### Замечание:\n",
    "Решить эту задачу с помощью обучения полноценной нейронной сети будет вам предложено, как часть задания в одной из домашних работ по теме \"Диалоговые системы\"."
   ]
  },
  {
   "cell_type": "markdown",
   "metadata": {
    "id": "vymVj8IxO2PO"
   },
   "source": [
    "Напишите свой вывод о полученных результатах.\n",
    "* Какой принцип токенизации даёт качество лучше и почему?\n",
    "* Помогает ли нормализация слов?\n",
    "* Какие эмбеддинги лучше справляются с задачей и почему?\n",
    "* Почему получилось плохое качество решения задачи?\n",
    "* Предложите свой подход к решению задачи.\n",
    "\n",
    "## Вывод:\n"
   ]
  },
  {
   "cell_type": "markdown",
   "metadata": {
    "id": "emODHztAQUQz"
   },
   "source": [
    " - Какой принцип токенизации даёт качество лучше и почему?\n",
    "\n",
    "WordPunctTokenizer дает лучшее качество, так как позволяет очистить текст от пунктуации\n",
    "\n",
    " - Помогает ли нормализация слов?\n",
    "\n",
    "Нет, лемматизация слегка ухудшает качество ранжирования, стемминг ухудшает его сильно.\n",
    "\n",
    " - Какие эмбеддинги лучше справляются с задачей и почему?\n",
    "\n",
    "Предобученные эмбединги справляются лучше. Возможно, потому что при их обучении испольовался много больший объем данных и они лучше улавливают смысл слов и смысловую связь между словами за счет этого.\n",
    "\n",
    " - Почему получилось плохое качество решения задачи?\n",
    "\n",
    "Судя по всему, такой алгоритм ставит на первые места предложения с наибольших количеством похожих слов, не всегда учитывая смысл предложения целиком.\n",
    "\n",
    " - Предложите свой подход к решению задачи.\n",
    "\n",
    "Возможно, стоит обучать эмбединги для целых предложений, а не для отдельных слов (например попарно, так же как мы делали выше). Возможно использовать какую-то другую языковую модель чтобы сгенерировать для каждого предложения больше положительных примеров, а в качетсве отрицательных подмешать рандомные реальные вопросы."
   ]
  },
  {
   "cell_type": "code",
   "execution_count": null,
   "metadata": {},
   "outputs": [],
   "source": []
  },
  {
   "cell_type": "code",
   "execution_count": null,
   "metadata": {},
   "outputs": [],
   "source": [
    "jupyter-nbconvert --to pdfviahtml example.ipynb"
   ]
  }
 ],
 "metadata": {
  "colab": {
   "collapsed_sections": [
    "BIWqBuEa6j0b",
    "uS9FwWNd5a3S",
    "MQk_rolFwT_h",
    "ai48-5vv6j1d",
    "Y60z4t6W6j16",
    "0sUSxk866j1_",
    "J5xWOORI6j2F",
    "tHZqgDTo6j0i",
    "ySQQp0oQt1Ep",
    "LL6_Rjg3InL8"
   ],
   "name": "[homework]simple_embeddings.ipynb",
   "provenance": []
  },
  "kernelspec": {
   "display_name": "Python 3 (ipykernel)",
   "language": "python",
   "name": "python3"
  },
  "language_info": {
   "codemirror_mode": {
    "name": "ipython",
    "version": 3
   },
   "file_extension": ".py",
   "mimetype": "text/x-python",
   "name": "python",
   "nbconvert_exporter": "python",
   "pygments_lexer": "ipython3",
   "version": "3.10.13"
  }
 },
 "nbformat": 4,
 "nbformat_minor": 4
}
